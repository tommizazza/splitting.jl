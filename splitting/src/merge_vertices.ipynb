{
 "cells": [
  {
   "cell_type": "code",
   "execution_count": 1,
   "metadata": {},
   "outputs": [],
   "source": [
    "using LinearAlgebraicRepresentation\n",
    "Lar = LinearAlgebraicRepresentation\n",
    "using IntervalTrees\n",
    "using SparseArrays\n",
    "using NearestNeighbors\n",
    "using DataStructures\n",
    "using OrderedCollections\n",
    "using BenchmarkTools"
   ]
  },
  {
   "cell_type": "markdown",
   "metadata": {},
   "source": [
    "## Funzione da ottimizzare"
   ]
  },
  {
   "cell_type": "code",
   "execution_count": 2,
   "metadata": {},
   "outputs": [
    {
     "data": {
      "text/plain": [
       "merge_vertices! (generic function with 2 methods)"
      ]
     },
     "execution_count": 2,
     "metadata": {},
     "output_type": "execute_result"
    }
   ],
   "source": [
    "function merge_vertices!(V::Lar.Points, EV::Lar.ChainOp, edge_map, err=1e-4)\n",
    "    vertsnum = size(V, 1)\n",
    "    edgenum = size(EV, 1)\n",
    "    newverts = zeros(Int, vertsnum)\n",
    "    # KDTree constructor needs an explicit array of Float64\n",
    "    V = Array{Float64,2}(V)\n",
    "    kdtree = KDTree(permutedims(V))\n",
    "\n",
    "    # merge congruent vertices\n",
    "    todelete = []\n",
    "    i = 1\n",
    "    for vi in 1:vertsnum\n",
    "        if !(vi in todelete)\n",
    "            nearvs = Lar.inrange(kdtree, V[vi, :], err)\n",
    "            newverts[nearvs] .= i\n",
    "            nearvs = setdiff(nearvs, vi)\n",
    "            todelete = union(todelete, nearvs)\n",
    "            i = i + 1\n",
    "        end\n",
    "    end\n",
    "    nV = V[setdiff(collect(1:vertsnum), todelete), :]\n",
    "\n",
    "    # merge congruent edges\n",
    "    edges = Array{Tuple{Int, Int}, 1}(undef, edgenum)\n",
    "    oedges = Array{Tuple{Int, Int}, 1}(undef, edgenum)\n",
    "    for ei in 1:edgenum\n",
    "        v1, v2 = EV[ei, :].nzind\n",
    "        edges[ei] = Tuple{Int, Int}(sort([newverts[v1], newverts[v2]]))\n",
    "        oedges[ei] = Tuple{Int, Int}(sort([v1, v2]))\n",
    "    end\n",
    "    nedges = union(edges)\n",
    "    nedges = filter(t->t[1]!=t[2], nedges)\n",
    "    nedgenum = length(nedges)\n",
    "    nEV = spzeros(Int8, nedgenum, size(nV, 1))\n",
    "    # maps pairs of vertex indices to edge index\n",
    "    etuple2idx = Dict{Tuple{Int, Int}, Int}()\n",
    "    # builds `edge_map`\n",
    "    for ei in 1:nedgenum\n",
    "        nEV[ei, collect(nedges[ei])] .= 1\n",
    "        etuple2idx[nedges[ei]] = ei\n",
    "    end\n",
    "    for i in 1:length(edge_map)\n",
    "        row = edge_map[i]\n",
    "        row = map(x->edges[x], row)\n",
    "        row = filter(t->t[1]!=t[2], row)\n",
    "        row = map(x->etuple2idx[x], row)\n",
    "        edge_map[i] = row\n",
    "    end\n",
    "    # return new vertices and new edges\n",
    "    return Lar.Points(nV), nEV\n",
    "end"
   ]
  },
  {
   "cell_type": "markdown",
   "metadata": {},
   "source": [
    "## Dati in input"
   ]
  },
  {
   "cell_type": "code",
   "execution_count": 3,
   "metadata": {},
   "outputs": [
    {
     "data": {
      "text/plain": [
       "([2.0 2.0; 250.0 2.0; … ; 237.0 4.0; 240.0 4.0], \n",
       "  [1  ,    1]  =  1\n",
       "  [119,    2]  =  1\n",
       "  [1  ,    5]  =  1\n",
       "  [2  ,    5]  =  1\n",
       "  [2  ,    6]  =  1\n",
       "  [3  ,    6]  =  1\n",
       "  [3  ,    7]  =  1\n",
       "  [4  ,    7]  =  1\n",
       "  [4  ,    8]  =  1\n",
       "  [5  ,    8]  =  1\n",
       "  [5  ,    9]  =  1\n",
       "  [6  ,    9]  =  1\n",
       "  ⋮\n",
       "  [653, 1446]  =  1\n",
       "  [654, 1449]  =  1\n",
       "  [655, 1449]  =  1\n",
       "  [656, 1450]  =  1\n",
       "  [655, 1452]  =  1\n",
       "  [656, 1452]  =  1\n",
       "  [654, 1453]  =  1\n",
       "  [657, 1455]  =  1\n",
       "  [658, 1456]  =  1\n",
       "  [657, 1458]  =  1\n",
       "  [658, 1458]  =  1\n",
       "  [659, 1461]  =  1\n",
       "  [659, 1462]  =  1)"
      ]
     },
     "execution_count": 3,
     "metadata": {},
     "output_type": "execute_result"
    }
   ],
   "source": [
    "b=[[2.0, 250.0, 2.0, 250.0],[2.0, 2.0, 0.0, 0.0]]\n",
    "EV=[[1,2],[1,3],[3,4],[2,4]]\n",
    "\n",
    "for i=1:60\n",
    "           push!(b[1],(1.0 + i*4.0))\n",
    "           push!(b[2],(1.0))\n",
    "           push!(b[1],(4.0 + i*4.0))\n",
    "           push!(b[2],(1.0))\n",
    "           push!(b[1],(1.0 + i*4.0))\n",
    "           push!(b[2],(4.0))\n",
    "           push!(b[1],(4.0 + i*4.0))\n",
    "           push!(b[2],(4.0))\n",
    "           \n",
    "           push!(EV,[1+4*(i-1),2+4*(i-1)])\n",
    "           push!(EV,[1+4*(i-1),3+4*(i-1)])\n",
    "           push!(EV,[2+4*(i-1),4+4*(i-1)])\n",
    "           push!(EV,[3+4*(i-1),4+4*(i-1)])\n",
    "end\n",
    "\n",
    "V = permutedims(reshape(hcat(b...), (length(b[1]), length(b))))\n",
    "filter!(e->e!=[1,1],EV)\n",
    "\n",
    "W = convert(Lar.Points, V')\n",
    "copEV = Lar.coboundary_0(EV::Lar.Cells)\n",
    "bigPI = Lar.spaceindex((V, EV))\n",
    "edgenum = size(copEV, 1)\n",
    "edge_map = Array{Array{Int, 1}, 1}(undef,edgenum)\n",
    "rV = Lar.Points(zeros(0, 2))\n",
    "rEV = SparseArrays.spzeros(Int8, 0, 0)\n",
    "finalcells_num = 0\n",
    "    V=W\n",
    "# sequential (iterative) processing of edge fragmentation\n",
    "for i in 1:edgenum\n",
    "    v, ev = Lar.Arrangement.frag_edge(V, copEV, i, bigPI)\n",
    "    newedges_nums = map(x->x+finalcells_num, collect(1:size(ev, 1)))\n",
    "    edge_map[i] = newedges_nums\n",
    "    finalcells_num += size(ev, 1)\n",
    "    rV = convert(Lar.Points, rV)\n",
    "    rV, rEV = Lar.skel_merge(rV, rEV, v, ev)\n",
    "end\n",
    "V, copEV = rV, rEV"
   ]
  },
  {
   "cell_type": "markdown",
   "metadata": {},
   "source": [
    "## 0) Benchmark vecchia funzione"
   ]
  },
  {
   "cell_type": "code",
   "execution_count": 4,
   "metadata": {},
   "outputs": [
    {
     "name": "stdout",
     "output_type": "stream",
     "text": [
      "  86.115 ms (1423599 allocations: 37.09 MiB)\n"
     ]
    },
    {
     "data": {
      "text/plain": [
       "([2.0 2.0; 250.0 2.0; … ; 237.0 4.0; 240.0 4.0], \n",
       "  [1  ,   1]  =  1\n",
       "  [120,   1]  =  1\n",
       "  [119,   2]  =  1\n",
       "  [122,   2]  =  1\n",
       "  [1  ,   3]  =  1\n",
       "  [2  ,   3]  =  1\n",
       "  [124,   3]  =  1\n",
       "  [125,   3]  =  1\n",
       "  [2  ,   4]  =  1\n",
       "  [3  ,   4]  =  1\n",
       "  [126,   4]  =  1\n",
       "  [127,   4]  =  1\n",
       "  ⋮\n",
       "  [468, 352]  =  1\n",
       "  [467, 353]  =  1\n",
       "  [470, 353]  =  1\n",
       "  [469, 354]  =  1\n",
       "  [470, 354]  =  1\n",
       "  [471, 355]  =  1\n",
       "  [472, 355]  =  1\n",
       "  [471, 356]  =  1\n",
       "  [474, 356]  =  1\n",
       "  [473, 357]  =  1\n",
       "  [476, 357]  =  1\n",
       "  [475, 358]  =  1\n",
       "  [476, 358]  =  1)"
      ]
     },
     "execution_count": 4,
     "metadata": {},
     "output_type": "execute_result"
    }
   ],
   "source": [
    "V1 = V\n",
    "copEV1=copEV\n",
    "edge_map1 = edge_map\n",
    "@btime V2, copEV2 = merge_vertices!(V1, copEV1,edge_map1)"
   ]
  },
  {
   "cell_type": "markdown",
   "metadata": {},
   "source": [
    "## 1) Controllo se la funzione è type unstable"
   ]
  },
  {
   "cell_type": "code",
   "execution_count": 5,
   "metadata": {},
   "outputs": [
    {
     "name": "stdout",
     "output_type": "stream",
     "text": [
      "Variables\n",
      "  #self#\u001b[36m::Core.Compiler.Const(merge_vertices!, false)\u001b[39m\n",
      "  V\u001b[36m::Array{Float64,2}\u001b[39m\n",
      "  EV\u001b[36m::SparseMatrixCSC{Int8,Int64}\u001b[39m\n",
      "  edge_map\u001b[36m::Array{Array{Int64,1},1}\u001b[39m\n",
      "\n",
      "Body\u001b[91m\u001b[1m::Tuple{Any,SparseMatrixCSC{Int8,Int64}}\u001b[22m\u001b[39m\n",
      "\u001b[90m1 ─\u001b[39m %1 = (#self#)(V, EV, edge_map, 0.0001)\u001b[91m\u001b[1m::Tuple{Any,SparseMatrixCSC{Int8,Int64}}\u001b[22m\u001b[39m\n",
      "\u001b[90m└──\u001b[39m      return %1\n"
     ]
    }
   ],
   "source": [
    "V2 = V\n",
    "copEV2=copEV\n",
    "edge_map2 = edge_map\n",
    "@code_warntype  merge_vertices!(V2, copEV2,edge_map2)"
   ]
  },
  {
   "cell_type": "markdown",
   "metadata": {},
   "source": [
    "La funzione è type stable in quanto ritorna:\n",
    "    \n",
    "    Body::Tuple{Any,SparseMatrixCSC{Int8,Int64}}"
   ]
  },
  {
   "cell_type": "markdown",
   "metadata": {},
   "source": [
    "## 2) Parallelizzazione cicli usando i threads  \n",
    "  \n",
    "Per eseguire questa cella, aprire il proprio REPL Julia e aprire questo notebook con i comandi:\n",
    "\n",
    "ENV[\"JULIA_NUM_THREADS\"] = 4 (o un altro numero)\n",
    "using IJulia\n",
    "notebook()\n",
    "\n",
    "Noi studenti, avendo computer dual-core abbiamo fissato in numero di threads pari a 2. Allocarne di più sarebbe stato inutile (in quanto i threads >2 avrebbero aspettato comunque ..) e anzi, mettendo un numero di threads pari a 4 su un dual-core abbiamo notato un grosso peggioramento delle performance dovuta probabilmente all'attesa.  \n",
    "  \n",
    "  \n",
    "In questa funzione sono presenti 4 cicli, 2 dei quali parallelizzabili ( -1) quello che crea gli arrays edges e oedges, -2) quello che crea l'edge_map) e 2 non parallelizzabili ( -1) Quello che fa la ricerca sul kdTree, 2) quello che crea il dict etuple2idx).  \n",
    "  \n",
    "Lavorando ai cicli parallelizzabili abbiamo apportato migliorie al codice:  \n",
    "  \n",
    "1) Abbiamo tolto i Sort, sostituendoli con espressioni \"v1<v2 ? [v1, v2] :  [v2, v1]\" in quanto gli edge sono composti da solo 2 elementi (i sort sono molto onerosi!)  \n",
    "  \n",
    "2) Abbiamo trasformato i map in for per renderli accessibili ai threads.\n",
    "\n"
   ]
  },
  {
   "cell_type": "code",
   "execution_count": 87,
   "metadata": {},
   "outputs": [
    {
     "name": "stdout",
     "output_type": "stream",
     "text": [
      "Numero threads allocati : 2\n",
      "  68.867 ms (1422060 allocations: 36.95 MiB)\n"
     ]
    },
    {
     "data": {
      "text/plain": [
       "([2.0 2.0; 250.0 2.0; … ; 237.0 4.0; 240.0 4.0], \n",
       "  [1  ,   1]  =  1\n",
       "  [120,   1]  =  1\n",
       "  [119,   2]  =  1\n",
       "  [122,   2]  =  1\n",
       "  [1  ,   3]  =  1\n",
       "  [2  ,   3]  =  1\n",
       "  [124,   3]  =  1\n",
       "  [125,   3]  =  1\n",
       "  [2  ,   4]  =  1\n",
       "  [3  ,   4]  =  1\n",
       "  [126,   4]  =  1\n",
       "  [127,   4]  =  1\n",
       "  ⋮\n",
       "  [468, 352]  =  1\n",
       "  [467, 353]  =  1\n",
       "  [470, 353]  =  1\n",
       "  [469, 354]  =  1\n",
       "  [470, 354]  =  1\n",
       "  [471, 355]  =  1\n",
       "  [472, 355]  =  1\n",
       "  [471, 356]  =  1\n",
       "  [474, 356]  =  1\n",
       "  [473, 357]  =  1\n",
       "  [476, 357]  =  1\n",
       "  [475, 358]  =  1\n",
       "  [476, 358]  =  1)"
      ]
     },
     "execution_count": 87,
     "metadata": {},
     "output_type": "execute_result"
    }
   ],
   "source": [
    "using Base.Threads\n",
    "function merge_vertices2!(V::Lar.Points, EV::Lar.ChainOp, edge_map, err=1e-4)\n",
    "    vertsnum = size(V, 1)\n",
    "    edgenum = size(EV, 1)\n",
    "    newverts = zeros(Int, vertsnum)\n",
    "    # KDTree constructor needs an explicit array of Float64\n",
    "    V = Array{Float64,2}(V)\n",
    "    kdtree = KDTree(permutedims(V))\n",
    "\n",
    "    # merge congruent vertices\n",
    "    todelete = []\n",
    "    i = 1\n",
    "    for vi in 1:vertsnum\n",
    "        if !(vi in todelete)\n",
    "            nearvs = Lar.inrange(kdtree, V[vi, :], err)\n",
    "            newverts[nearvs] .= i\n",
    "            nearvs = setdiff(nearvs, vi)\n",
    "            todelete = union(todelete, nearvs)\n",
    "            i = i + 1\n",
    "        end\n",
    "    end\n",
    "    nV = V[setdiff(collect(1:vertsnum), todelete), :]\n",
    "\n",
    "    # merge congruent edges\n",
    "    edges = Array{Tuple{Int, Int}, 1}(undef, edgenum)\n",
    "    oedges = Array{Tuple{Int, Int}, 1}(undef, edgenum)\n",
    "    @threads for ei=1:edgenum\n",
    "        v1, v2 = EV[ei, :].nzind\n",
    "        edges[ei]  = Tuple{Int, Int}(newverts[v1]<newverts[v2] ? [newverts[v1], newverts[v2]] : [newverts[v2], newverts[v1]])\n",
    "        oedges[ei] = Tuple{Int, Int}(v1<v2 ? [v1, v2] :  [v2, v1])\n",
    "    end\n",
    "    nedges = union(edges)\n",
    "    nedges = filter(t->t[1]!=t[2], nedges)\n",
    "    nedgenum = length(nedges)\n",
    "    nEV = spzeros(Int8, nedgenum, size(nV, 1))\n",
    "    # maps pairs of vertex indices to edge index\n",
    "    etuple2idx = Dict{Tuple{Int, Int}, Int}()\n",
    "    # builds `edge_map`\n",
    "    for ei in 1:nedgenum\n",
    "        nEV[ei, collect(nedges[ei])] .= 1\n",
    "        etuple2idx[nedges[ei]] = ei\n",
    "    end\n",
    "    @threads for i=1:length(edge_map)\n",
    "        rowT=Array{Tuple{Int64,Int64}}(undef,length(edge_map[i]))\n",
    "        len = length(edge_map[i])\n",
    "        for j=1:len\n",
    "            rowT[j]=edges[edge_map[i][j]]\n",
    "        end\n",
    "        filter!(t->t[1]!=t[2], rowT)\n",
    "        edge_map[i]=Array{Int64}(undef,length(rowT))\n",
    "        len2 = length(rowT)\n",
    "        for j=1:len2\n",
    "            edge_map[i][j]=etuple2idx[rowT[j]]\n",
    "        end        \n",
    "    end\n",
    "    # return new vertices and new edges\n",
    "    return Lar.Points(nV), nEV\n",
    "end\n",
    "\n",
    "V3 = V\n",
    "copEV3=copEV\n",
    "edge_map3 = edge_map\n",
    "nt=nthreads()\n",
    "println(\"Numero threads allocati : $nt\")\n",
    "@btime merge_vertices2!(V3, copEV3,edge_map3)\n"
   ]
  }
 ],
 "metadata": {
  "kernelspec": {
   "display_name": "Julia 1.5.2",
   "language": "julia",
   "name": "julia-1.5"
  },
  "language_info": {
   "file_extension": ".jl",
   "mimetype": "application/julia",
   "name": "julia",
   "version": "1.5.2"
  }
 },
 "nbformat": 4,
 "nbformat_minor": 2
}
