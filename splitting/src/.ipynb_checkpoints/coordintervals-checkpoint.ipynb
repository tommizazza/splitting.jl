{
 "cells": [
  {
   "cell_type": "code",
   "execution_count": 2,
   "metadata": {},
   "outputs": [],
   "source": [
    "using LinearAlgebraicRepresentation\n",
    "Lar = LinearAlgebraicRepresentation\n",
    "using IntervalTrees\n",
    "using SparseArrays\n",
    "using NearestNeighbors\n",
    "using DataStructures\n",
    "using OrderedCollections\n",
    "using BenchmarkTools"
   ]
  },
  {
   "cell_type": "markdown",
   "metadata": {},
   "source": [
    "## Funzione da ottimizzare"
   ]
  },
  {
   "cell_type": "code",
   "execution_count": 3,
   "metadata": {},
   "outputs": [
    {
     "data": {
      "text/plain": [
       "coordintervals (generic function with 1 method)"
      ]
     },
     "execution_count": 3,
     "metadata": {},
     "output_type": "execute_result"
    }
   ],
   "source": [
    "function coordintervals(coord,bboxes)\n",
    "    boxdict = OrderedDict{Array{Float64,1},Array{Int64,1}}()\n",
    "    #Per ogni bounding box...\n",
    "    for (h,box) in enumerate(bboxes)\n",
    "        #La chiave del dizionario è [cmin,cmax]\n",
    "        key = box[coord,:]\n",
    "        #Se il dizionario non ha la chiave, creo la entry..\n",
    "        if haskey(boxdict,key) == false\n",
    "            boxdict[key] = [h]\n",
    "        else #Altrimenti pusho la cella, in quanto condividerà [cmin,cmax] con altre celle\n",
    "            push!(boxdict[key], h)\n",
    "        end\n",
    "    end\n",
    "    return boxdict\n",
    "end"
   ]
  },
  {
   "cell_type": "markdown",
   "metadata": {},
   "source": [
    "## 0) Benchmark vecchia funzione"
   ]
  },
  {
   "cell_type": "code",
   "execution_count": 4,
   "metadata": {},
   "outputs": [
    {
     "name": "stdout",
     "output_type": "stream",
     "text": [
      "  0.000027 seconds (14 allocations: 1.281 KiB)\n"
     ]
    },
    {
     "data": {
      "text/plain": [
       "OrderedDict{Array{Float64,1},Array{Int64,1}} with 2 entries:\n",
       "  [0.0, 1.0] => [1]\n",
       "  [0.0, 0.0] => [2]"
      ]
     },
     "execution_count": 4,
     "metadata": {},
     "output_type": "execute_result"
    }
   ],
   "source": [
    "@time coordintervals(1, [[0.0 1.0; 0.0 0.0], [0.0 0.0;0.0 0.1]]) "
   ]
  },
  {
   "cell_type": "markdown",
   "metadata": {},
   "source": [
    "## 1) Controllo se la funzione è type unstable"
   ]
  },
  {
   "cell_type": "code",
   "execution_count": 5,
   "metadata": {},
   "outputs": [
    {
     "name": "stdout",
     "output_type": "stream",
     "text": [
      "Variables\n",
      "  #self#\u001b[36m::Core.Compiler.Const(coordintervals, false)\u001b[39m\n",
      "  coord\u001b[36m::Int64\u001b[39m\n",
      "  bboxes\u001b[36m::Array{Array{Float64,2},1}\u001b[39m\n",
      "  boxdict\u001b[36m::OrderedDict{Array{Float64,1},Array{Int64,1}}\u001b[39m\n",
      "  @_5\u001b[33m\u001b[1m::Union{Nothing, Tuple{Tuple{Int64,Array{Float64,2}},Tuple{Int64,Int64}}}\u001b[22m\u001b[39m\n",
      "  h\u001b[36m::Int64\u001b[39m\n",
      "  box\u001b[36m::Array{Float64,2}\u001b[39m\n",
      "  @_8\u001b[36m::Int64\u001b[39m\n",
      "  key\u001b[36m::Array{Float64,1}\u001b[39m\n",
      "\n",
      "Body\u001b[36m::OrderedDict{Array{Float64,1},Array{Int64,1}}\u001b[39m\n",
      "\u001b[90m1 ─\u001b[39m %1  = Core.apply_type(Main.Array, Main.Float64, 1)\u001b[36m::Core.Compiler.Const(Array{Float64,1}, false)\u001b[39m\n",
      "\u001b[90m│  \u001b[39m %2  = Core.apply_type(Main.Array, Main.Int64, 1)\u001b[36m::Core.Compiler.Const(Array{Int64,1}, false)\u001b[39m\n",
      "\u001b[90m│  \u001b[39m %3  = Core.apply_type(Main.OrderedDict, %1, %2)\u001b[36m::Core.Compiler.Const(OrderedDict{Array{Float64,1},Array{Int64,1}}, false)\u001b[39m\n",
      "\u001b[90m│  \u001b[39m       (boxdict = (%3)())\n",
      "\u001b[90m│  \u001b[39m %5  = Main.enumerate(bboxes)\u001b[36m::Base.Iterators.Enumerate{Array{Array{Float64,2},1}}\u001b[39m\n",
      "\u001b[90m│  \u001b[39m       (@_5 = Base.iterate(%5))\n",
      "\u001b[90m│  \u001b[39m %7  = (@_5 === nothing)\u001b[36m::Bool\u001b[39m\n",
      "\u001b[90m│  \u001b[39m %8  = Base.not_int(%7)\u001b[36m::Bool\u001b[39m\n",
      "\u001b[90m└──\u001b[39m       goto #7 if not %8\n",
      "\u001b[90m2 ┄\u001b[39m %10 = @_5::Tuple{Tuple{Int64,Array{Float64,2}},Tuple{Int64,Int64}}\u001b[36m::Tuple{Tuple{Int64,Array{Float64,2}},Tuple{Int64,Int64}}\u001b[39m\n",
      "\u001b[90m│  \u001b[39m %11 = Core.getfield(%10, 1)\u001b[36m::Tuple{Int64,Array{Float64,2}}\u001b[39m\n",
      "\u001b[90m│  \u001b[39m %12 = Base.indexed_iterate(%11, 1)\u001b[36m::Core.Compiler.PartialStruct(Tuple{Int64,Int64}, Any[Int64, Core.Compiler.Const(2, false)])\u001b[39m\n",
      "\u001b[90m│  \u001b[39m       (h = Core.getfield(%12, 1))\n",
      "\u001b[90m│  \u001b[39m       (@_8 = Core.getfield(%12, 2))\n",
      "\u001b[90m│  \u001b[39m %15 = Base.indexed_iterate(%11, 2, @_8::Core.Compiler.Const(2, false))\u001b[36m::Core.Compiler.PartialStruct(Tuple{Array{Float64,2},Int64}, Any[Array{Float64,2}, Core.Compiler.Const(3, false)])\u001b[39m\n",
      "\u001b[90m│  \u001b[39m       (box = Core.getfield(%15, 1))\n",
      "\u001b[90m│  \u001b[39m %17 = Core.getfield(%10, 2)\u001b[36m::Tuple{Int64,Int64}\u001b[39m\n",
      "\u001b[90m│  \u001b[39m       (key = Base.getindex(box, coord, Main.:(:)))\n",
      "\u001b[90m│  \u001b[39m %19 = Main.haskey(boxdict, key)\u001b[36m::Bool\u001b[39m\n",
      "\u001b[90m│  \u001b[39m %20 = (%19 == false)\u001b[36m::Bool\u001b[39m\n",
      "\u001b[90m└──\u001b[39m       goto #4 if not %20\n",
      "\u001b[90m3 ─\u001b[39m %22 = Base.vect(h)\u001b[36m::Array{Int64,1}\u001b[39m\n",
      "\u001b[90m│  \u001b[39m       Base.setindex!(boxdict, %22, key)\n",
      "\u001b[90m└──\u001b[39m       goto #5\n",
      "\u001b[90m4 ─\u001b[39m %25 = Base.getindex(boxdict, key)\u001b[36m::Array{Int64,1}\u001b[39m\n",
      "\u001b[90m└──\u001b[39m       Main.push!(%25, h)\n",
      "\u001b[90m5 ┄\u001b[39m       (@_5 = Base.iterate(%5, %17))\n",
      "\u001b[90m│  \u001b[39m %28 = (@_5 === nothing)\u001b[36m::Bool\u001b[39m\n",
      "\u001b[90m│  \u001b[39m %29 = Base.not_int(%28)\u001b[36m::Bool\u001b[39m\n",
      "\u001b[90m└──\u001b[39m       goto #7 if not %29\n",
      "\u001b[90m6 ─\u001b[39m       goto #2\n",
      "\u001b[90m7 ┄\u001b[39m       return boxdict\n"
     ]
    }
   ],
   "source": [
    "@code_warntype coordintervals(1, [[0.0 1.0; 0.0 0.0], [0.0 0.0;0.0 0.1]]) "
   ]
  },
  {
   "cell_type": "markdown",
   "metadata": {},
   "source": [
    "La funzione NON è type unstable in quanto ritorna la stringa\n",
    "\n",
    "    Body::OrderedDict{Array{Float64,1},Array{Int64,1}}"
   ]
  }
 ],
 "metadata": {
  "kernelspec": {
   "display_name": "Julia 1.5.2",
   "language": "julia",
   "name": "julia-1.5"
  },
  "language_info": {
   "file_extension": ".jl",
   "mimetype": "application/julia",
   "name": "julia",
   "version": "1.5.2"
  }
 },
 "nbformat": 4,
 "nbformat_minor": 2
}
