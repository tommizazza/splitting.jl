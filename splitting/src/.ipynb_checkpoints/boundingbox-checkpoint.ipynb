{
 "cells": [
  {
   "cell_type": "code",
   "execution_count": 1,
   "metadata": {},
   "outputs": [],
   "source": [
    "using LinearAlgebraicRepresentation\n",
    "Lar = LinearAlgebraicRepresentation\n",
    "using IntervalTrees\n",
    "using SparseArrays\n",
    "using NearestNeighbors\n",
    "using DataStructures\n",
    "using OrderedCollections\n",
    "using BenchmarkTools"
   ]
  },
  {
   "cell_type": "markdown",
   "metadata": {},
   "source": [
    "## Funzione da ottimizzare"
   ]
  },
  {
   "cell_type": "code",
   "execution_count": 2,
   "metadata": {},
   "outputs": [
    {
     "data": {
      "text/plain": [
       "boundingbox (generic function with 1 method)"
      ]
     },
     "execution_count": 2,
     "metadata": {},
     "output_type": "execute_result"
    }
   ],
   "source": [
    "function boundingbox(vertices::Lar.Points)\n",
    "   minimum = mapslices(x->min(x...), vertices, dims=2)\n",
    "   maximum = mapslices(x->max(x...), vertices, dims=2)\n",
    "   return minimum, maximum\n",
    "end"
   ]
  },
  {
   "cell_type": "markdown",
   "metadata": {},
   "source": [
    "## 0) Benchmark vecchia funzione"
   ]
  },
  {
   "cell_type": "code",
   "execution_count": 3,
   "metadata": {},
   "outputs": [
    {
     "name": "stdout",
     "output_type": "stream",
     "text": [
      "  19.773 μs (159 allocations: 6.03 KiB)\n"
     ]
    },
    {
     "data": {
      "text/plain": [
       "([-1.0; 0.0], [1.0; 1.0])"
      ]
     },
     "execution_count": 3,
     "metadata": {},
     "output_type": "execute_result"
    }
   ],
   "source": [
    "V = [0.0 1.0 0.0 0.0 -1.0 -1.0; \n",
    " 0.0 0.0 1.0 0.5 0.0 0.5]\n",
    "@btime boundingbox(V)"
   ]
  },
  {
   "cell_type": "markdown",
   "metadata": {},
   "source": [
    "## 1) Controllo se la funzione è type unstable"
   ]
  },
  {
   "cell_type": "code",
   "execution_count": 4,
   "metadata": {},
   "outputs": [
    {
     "name": "stdout",
     "output_type": "stream",
     "text": [
      "Variables\n",
      "  #self#\u001b[36m::Core.Compiler.Const(boundingbox, false)\u001b[39m\n",
      "  vertices\u001b[36m::Array{Float64,2}\u001b[39m\n",
      "  #1\u001b[36m::var\"#1#3\"\u001b[39m\n",
      "  #2\u001b[36m::var\"#2#4\"\u001b[39m\n",
      "  minimum\u001b[91m\u001b[1m::Any\u001b[22m\u001b[39m\n",
      "  maximum\u001b[91m\u001b[1m::Any\u001b[22m\u001b[39m\n",
      "\n",
      "Body\u001b[91m\u001b[1m::Tuple{Any,Any}\u001b[22m\u001b[39m\n",
      "\u001b[90m1 ─\u001b[39m       (#1 = %new(Main.:(var\"#1#3\")))\n",
      "\u001b[90m│  \u001b[39m %2  = #1\u001b[36m::Core.Compiler.Const(var\"#1#3\"(), false)\u001b[39m\n",
      "\u001b[90m│  \u001b[39m %3  = (:dims,)\u001b[36m::Core.Compiler.Const((:dims,), false)\u001b[39m\n",
      "\u001b[90m│  \u001b[39m %4  = Core.apply_type(Core.NamedTuple, %3)\u001b[36m::Core.Compiler.Const(NamedTuple{(:dims,),T} where T<:Tuple, false)\u001b[39m\n",
      "\u001b[90m│  \u001b[39m %5  = Core.tuple(2)\u001b[36m::Core.Compiler.Const((2,), false)\u001b[39m\n",
      "\u001b[90m│  \u001b[39m %6  = (%4)(%5)\u001b[36m::Core.Compiler.Const((dims = 2,), false)\u001b[39m\n",
      "\u001b[90m│  \u001b[39m %7  = Core.kwfunc(Main.mapslices)\u001b[36m::Core.Compiler.Const(Base.var\"#mapslices##kw\"(), false)\u001b[39m\n",
      "\u001b[90m│  \u001b[39m       (minimum = (%7)(%6, Main.mapslices, %2, vertices))\n",
      "\u001b[90m│  \u001b[39m       (#2 = %new(Main.:(var\"#2#4\")))\n",
      "\u001b[90m│  \u001b[39m %10 = #2\u001b[36m::Core.Compiler.Const(var\"#2#4\"(), false)\u001b[39m\n",
      "\u001b[90m│  \u001b[39m %11 = (:dims,)\u001b[36m::Core.Compiler.Const((:dims,), false)\u001b[39m\n",
      "\u001b[90m│  \u001b[39m %12 = Core.apply_type(Core.NamedTuple, %11)\u001b[36m::Core.Compiler.Const(NamedTuple{(:dims,),T} where T<:Tuple, false)\u001b[39m\n",
      "\u001b[90m│  \u001b[39m %13 = Core.tuple(2)\u001b[36m::Core.Compiler.Const((2,), false)\u001b[39m\n",
      "\u001b[90m│  \u001b[39m %14 = (%12)(%13)\u001b[36m::Core.Compiler.Const((dims = 2,), false)\u001b[39m\n",
      "\u001b[90m│  \u001b[39m %15 = Core.kwfunc(Main.mapslices)\u001b[36m::Core.Compiler.Const(Base.var\"#mapslices##kw\"(), false)\u001b[39m\n",
      "\u001b[90m│  \u001b[39m       (maximum = (%15)(%14, Main.mapslices, %10, vertices))\n",
      "\u001b[90m│  \u001b[39m %17 = Core.tuple(minimum, maximum)\u001b[91m\u001b[1m::Tuple{Any,Any}\u001b[22m\u001b[39m\n",
      "\u001b[90m└──\u001b[39m       return %17\n"
     ]
    }
   ],
   "source": [
    "@code_warntype boundingbox(V)"
   ]
  },
  {
   "cell_type": "markdown",
   "metadata": {},
   "source": [
    "La funzione NON è type unstable in quanto ritorna la stringa\n",
    "\n",
    "    Body::Tuple{Any,Any}"
   ]
  }
 ],
 "metadata": {
  "kernelspec": {
   "display_name": "Julia 1.5.2",
   "language": "julia",
   "name": "julia-1.5"
  },
  "language_info": {
   "file_extension": ".jl",
   "mimetype": "application/julia",
   "name": "julia",
   "version": "1.5.2"
  }
 },
 "nbformat": 4,
 "nbformat_minor": 2
}
