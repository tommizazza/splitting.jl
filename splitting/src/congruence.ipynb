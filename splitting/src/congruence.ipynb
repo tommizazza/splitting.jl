{
 "cells": [
  {
   "cell_type": "code",
   "execution_count": 35,
   "metadata": {},
   "outputs": [],
   "source": [
    "using LinearAlgebraicRepresentation\n",
    "Lar = LinearAlgebraicRepresentation\n",
    "using IntervalTrees\n",
    "using SparseArrays\n",
    "using NearestNeighbors\n",
    "using DataStructures\n",
    "using OrderedCollections\n",
    "using BenchmarkTools"
   ]
  },
  {
   "cell_type": "markdown",
   "metadata": {},
   "source": [
    "## Funzione da ottimizzare"
   ]
  },
  {
   "cell_type": "code",
   "execution_count": 36,
   "metadata": {},
   "outputs": [
    {
     "data": {
      "text/plain": [
       "congruence (generic function with 1 method)"
      ]
     },
     "execution_count": 36,
     "metadata": {},
     "output_type": "execute_result"
    }
   ],
   "source": [
    "function congruence(model)\n",
    "    W,EW = model\n",
    "    balltree = NearestNeighbors.BallTree(W)\n",
    "    r = 0.0000000001\n",
    "    near = Array{Any}(undef, size(W,2))\n",
    "    for k=1:size(W,2)\n",
    "        near[k] = NearestNeighbors.inrange(balltree, W[:,k], r, true)\n",
    "    end\n",
    "    near = map(sort,near) \n",
    "    for k=1:size(W,2)\n",
    "        W[:,k] = W[:,near[k][1]]\n",
    "    end\n",
    "    pointidx = [ near[k][1] for k=1:size(W,2) ] \n",
    "    invidx = OrderedDict(zip(1:length(pointidx), pointidx))\n",
    "    V = [W[:,k] for k=1:length(pointidx)]\n",
    "    EV = []\n",
    "    for e in (EW)\n",
    "        newedge = [invidx[e[1]],invidx[e[2]]]\n",
    "        if newedge[1] !== newedge[2]\n",
    "            push!(EV,newedge)\n",
    "        end\n",
    "    end\n",
    "    EV = [EV[h] for h=1:length(EV) if length(EV[h])==2]\n",
    "    EV = convert(Lar.Cells, EV)\n",
    "    return hcat(V...),EV\n",
    "end"
   ]
  },
  {
   "cell_type": "markdown",
   "metadata": {},
   "source": [
    "## Dati di input"
   ]
  },
  {
   "cell_type": "code",
   "execution_count": 37,
   "metadata": {},
   "outputs": [
    {
     "data": {
      "text/plain": [
       "60-element Array{Array{Int64,1},1}:\n",
       " [1, 2]\n",
       " [3, 4]\n",
       " [5, 6]\n",
       " [7, 8]\n",
       " [9, 10]\n",
       " [11, 12]\n",
       " [13, 14]\n",
       " [15, 16]\n",
       " [17, 18]\n",
       " [19, 20]\n",
       " [21, 22]\n",
       " [23, 24]\n",
       " [25, 26]\n",
       " ⋮\n",
       " [97, 98]\n",
       " [99, 100]\n",
       " [101, 102]\n",
       " [103, 104]\n",
       " [105, 106]\n",
       " [107, 108]\n",
       " [109, 110]\n",
       " [111, 112]\n",
       " [113, 114]\n",
       " [115, 116]\n",
       " [117, 118]\n",
       " [119, 120]"
      ]
     },
     "execution_count": 37,
     "metadata": {},
     "output_type": "execute_result"
    }
   ],
   "source": [
    "V = [1.0 2.0 3.0 4.0 5.0 6.0 7.0 8.0 9.0 10.0 11.0 12.0 13.0 14.0 15.0 16.0 17.0 18.0 19.0 20.0 21.0 22.0 23.0 24.0 25.0 26.0 27.0 28.0 29.0 30.0 31.0 32.0 33.0 34.0 35.0 36.0 37.0 38.0 39.0 40.0 41.0 42.0 43.0 44.0 45.0 46.0 47.0 48.0 49.0 50.0 51.0 52.0 53.0 54.0 55.0 56.0 57.0 58.0 59.0 60.0 61.0 62.0 63.0 64.0 65.0 66.0 67.0 68.0 69.0 70.0 71.0 72.0 73.0 74.0 75.0 76.0 77.0 78.0 79.0 80.0 81.0 82.0 83.0 84.0 85.0 86.0 87.0 88.0 89.0 90.0 91.0 92.0 93.0 94.0 95.0 96.0 97.0 98.0 99.0 100.0 101.0 102.0 103.0 104.0 105.0 106.0 107.0 108.0 109.0 110.0 111.0 112.0 113.0 114.0 115.0 116.0 117.0 118.0 119.0 120.0 121.0 122.0 123.0 124.0 125.0 126.0 127.0 128.0 129.0;\n",
    "     1.0 2.0 3.0 4.0 5.0 6.0 7.0 8.0 9.0 10.0 11.0 12.0 13.0 14.0 15.0 16.0 17.0 18.0 19.0 20.0 21.0 22.0 23.0 24.0 25.0 26.0 27.0 28.0 29.0 30.0 31.0 32.0 33.0 34.0 35.0 36.0 37.0 38.0 39.0 40.0 41.0 42.0 43.0 44.0 45.0 46.0 47.0 48.0 49.0 50.0 51.0 52.0 53.0 54.0 55.0 56.0 57.0 58.0 59.0 60.0 61.0 62.0 63.0 64.0 65.0 66.0 67.0 68.0 69.0 70.0 71.0 72.0 73.0 74.0 75.0 76.0 77.0 78.0 79.0 80.0 81.0 82.0 83.0 84.0 85.0 86.0 87.0 88.0 89.0 90.0 91.0 92.0 93.0 94.0 95.0 96.0 97.0 98.0 99.0 100.0 101.0 102.0 103.0 104.0 105.0 106.0 107.0 108.0 109.0 110.0 111.0 112.0 113.0 114.0 115.0 116.0 117.0 118.0 119.0 120.0 121.0 122.0 123.0 124.0 125.0 126.0 127.0 128.0 129.0]\n",
    "\n",
    "EV = [[1,2],[3,4],[5,6],[7,8],[9,10],[11,12],[13,14],[15,16],[17,18],[19,20],[21,22],[23,24],[25,26],[27,28],[29,30],[31,32],[33,34],[35,36],[37,38],[39,40],[41,42],[43,44],[45,46],[47,48],[49,50],[51,52],[53,54],[55,56],[57,58],[59,60],[61,62],[63,64],[65,66],[67,68],[69,70],[71,72],[73,74],[75,76],[77,78],[79,80],[81,82],[83,84],[85,86],[87,88],[89,90],[91,92],[93,94],[95,96],[97,98],[99,100],[101,102],[103,104],[105,106],[107,108],[109,110],[111,112],[113,114],[115,116],[117,118],[119,120]]\n"
   ]
  },
  {
   "cell_type": "markdown",
   "metadata": {},
   "source": [
    "## 0) Benchmark vecchia funzione"
   ]
  },
  {
   "cell_type": "code",
   "execution_count": 38,
   "metadata": {},
   "outputs": [
    {
     "name": "stdout",
     "output_type": "stream",
     "text": [
      "  294.130 μs (2077 allocations: 119.70 KiB)\n"
     ]
    },
    {
     "data": {
      "text/plain": [
       "([1.0 2.0 … 128.0 129.0; 1.0 2.0 … 128.0 129.0], [[1, 2], [3, 4], [5, 6], [7, 8], [9, 10], [11, 12], [13, 14], [15, 16], [17, 18], [19, 20]  …  [101, 102], [103, 104], [105, 106], [107, 108], [109, 110], [111, 112], [113, 114], [115, 116], [117, 118], [119, 120]])"
      ]
     },
     "execution_count": 38,
     "metadata": {},
     "output_type": "execute_result"
    }
   ],
   "source": [
    "@btime congruence((V,EV))"
   ]
  },
  {
   "cell_type": "markdown",
   "metadata": {},
   "source": [
    "## 1) Controllo se la funzione è type unstable"
   ]
  },
  {
   "cell_type": "code",
   "execution_count": 39,
   "metadata": {},
   "outputs": [
    {
     "name": "stdout",
     "output_type": "stream",
     "text": [
      "Variables\n",
      "  #self#\u001b[36m::Core.Compiler.Const(congruence, false)\u001b[39m\n",
      "  model\u001b[36m::Tuple{Array{Float64,2},Array{Array{Int64,1},1}}\u001b[39m\n",
      "  @_3\u001b[36m::Int64\u001b[39m\n",
      "  #144\u001b[36m::var\"#144#148\"\u001b[39m\n",
      "  #145\u001b[36m::var\"#145#149\"{Array{Float64,2}}\u001b[39m\n",
      "  #146\u001b[36m::var\"#146#150\"\u001b[39m\n",
      "  #147\u001b[36m::var\"#147#151\"\u001b[39m\n",
      "  W\u001b[36m::Array{Float64,2}\u001b[39m\n",
      "  EW\u001b[36m::Array{Array{Int64,1},1}\u001b[39m\n",
      "  balltree\u001b[91m\u001b[1m::BallTree{_A,_B,_C,Euclidean} where _C where _B where _A<:(AbstractArray{T,1} where T)\u001b[22m\u001b[39m\n",
      "  r\u001b[36m::Float64\u001b[39m\n",
      "  near@_12\u001b[91m\u001b[1m::Core.Box\u001b[22m\u001b[39m\n",
      "  @_13\u001b[33m\u001b[1m::Union{Nothing, Tuple{Int64,Int64}}\u001b[22m\u001b[39m\n",
      "  @_14\u001b[33m\u001b[1m::Union{Nothing, Tuple{Int64,Int64}}\u001b[22m\u001b[39m\n",
      "  pointidx\u001b[91m\u001b[1m::Array{_A,1} where _A\u001b[22m\u001b[39m\n",
      "  invidx\u001b[91m\u001b[1m::OrderedDict{_A,_B} where _B where _A\u001b[22m\u001b[39m\n",
      "  V\u001b[36m::Array{Array{Float64,1},1}\u001b[39m\n",
      "  EV@_18\u001b[91m\u001b[1m::Core.Box\u001b[22m\u001b[39m\n",
      "  @_19\u001b[33m\u001b[1m::Union{Nothing, Tuple{Array{Int64,1},Int64}}\u001b[22m\u001b[39m\n",
      "  k@_20\u001b[36m::Int64\u001b[39m\n",
      "  k@_21\u001b[36m::Int64\u001b[39m\n",
      "  e\u001b[36m::Array{Int64,1}\u001b[39m\n",
      "  newedge\u001b[91m\u001b[1m::Array{_A,1} where _A\u001b[22m\u001b[39m\n",
      "  near@_24\u001b[36m::Union{}\u001b[39m\n",
      "  near@_25\u001b[36m::Union{}\u001b[39m\n",
      "  near@_26\u001b[36m::Union{}\u001b[39m\n",
      "  EV@_27\u001b[36m::Union{}\u001b[39m\n",
      "  EV@_28\u001b[36m::Union{}\u001b[39m\n",
      "  EV@_29\u001b[36m::Union{}\u001b[39m\n",
      "  EV@_30\u001b[36m::Union{}\u001b[39m\n",
      "\n",
      "Body\u001b[91m\u001b[1m::Tuple{Array,Any}\u001b[22m\u001b[39m\n",
      "\u001b[90m1 ──\u001b[39m        Core.NewvarNode(:(#144))\n",
      "\u001b[90m│   \u001b[39m        Core.NewvarNode(:(#145))\n",
      "\u001b[90m│   \u001b[39m        Core.NewvarNode(:(#146))\n",
      "\u001b[90m│   \u001b[39m        Core.NewvarNode(:(#147))\n",
      "\u001b[90m│   \u001b[39m        (near@_12 = Core.Box())\n",
      "\u001b[90m│   \u001b[39m        Core.NewvarNode(:(@_14))\n",
      "\u001b[90m│   \u001b[39m        Core.NewvarNode(:(pointidx))\n",
      "\u001b[90m│   \u001b[39m        Core.NewvarNode(:(invidx))\n",
      "\u001b[90m│   \u001b[39m        Core.NewvarNode(:(V))\n",
      "\u001b[90m│   \u001b[39m        (EV@_18 = Core.Box())\n",
      "\u001b[90m│   \u001b[39m        Core.NewvarNode(:(@_19))\n",
      "\u001b[90m│   \u001b[39m %12  = Base.indexed_iterate(model, 1)\u001b[36m::Core.Compiler.PartialStruct(Tuple{Array{Float64,2},Int64}, Any[Array{Float64,2}, Core.Compiler.Const(2, false)])\u001b[39m\n",
      "\u001b[90m│   \u001b[39m        (W = Core.getfield(%12, 1))\n",
      "\u001b[90m│   \u001b[39m        (@_3 = Core.getfield(%12, 2))\n",
      "\u001b[90m│   \u001b[39m %15  = Base.indexed_iterate(model, 2, @_3::Core.Compiler.Const(2, false))\u001b[36m::Core.Compiler.PartialStruct(Tuple{Array{Array{Int64,1},1},Int64}, Any[Array{Array{Int64,1},1}, Core.Compiler.Const(3, false)])\u001b[39m\n",
      "\u001b[90m│   \u001b[39m        (EW = Core.getfield(%15, 1))\n",
      "\u001b[90m│   \u001b[39m %17  = NearestNeighbors.BallTree\u001b[36m::Core.Compiler.Const(BallTree, false)\u001b[39m\n",
      "\u001b[90m│   \u001b[39m        (balltree = (%17)(W))\n",
      "\u001b[90m│   \u001b[39m        (r = 1.0e-10)\n",
      "\u001b[90m│   \u001b[39m %20  = Core.apply_type(Main.Array, Main.Any)\u001b[36m::Core.Compiler.Const(Array{Any,N} where N, false)\u001b[39m\n",
      "\u001b[90m│   \u001b[39m %21  = Main.size(W, 2)\u001b[36m::Int64\u001b[39m\n",
      "\u001b[90m│   \u001b[39m %22  = (%20)(Main.undef, %21)\u001b[36m::Array{Any,1}\u001b[39m\n",
      "\u001b[90m│   \u001b[39m        Core.setfield!(near@_12, :contents, %22)\n",
      "\u001b[90m│   \u001b[39m %24  = Main.size(W, 2)\u001b[36m::Int64\u001b[39m\n",
      "\u001b[90m│   \u001b[39m %25  = (1:%24)\u001b[36m::Core.Compiler.PartialStruct(UnitRange{Int64}, Any[Core.Compiler.Const(1, false), Int64])\u001b[39m\n",
      "\u001b[90m│   \u001b[39m        (@_13 = Base.iterate(%25))\n",
      "\u001b[90m│   \u001b[39m %27  = (@_13 === nothing)\u001b[36m::Bool\u001b[39m\n",
      "\u001b[90m│   \u001b[39m %28  = Base.not_int(%27)\u001b[36m::Bool\u001b[39m\n",
      "\u001b[90m└───\u001b[39m        goto #7 if not %28\n",
      "\u001b[90m2 ┄─\u001b[39m %30  = @_13::Tuple{Int64,Int64}\u001b[36m::Tuple{Int64,Int64}\u001b[39m\n",
      "\u001b[90m│   \u001b[39m        (k@_20 = Core.getfield(%30, 1))\n",
      "\u001b[90m│   \u001b[39m %32  = Core.getfield(%30, 2)\u001b[36m::Int64\u001b[39m\n",
      "\u001b[90m│   \u001b[39m %33  = NearestNeighbors.inrange\u001b[36m::Core.Compiler.Const(NearestNeighbors.inrange, false)\u001b[39m\n",
      "\u001b[90m│   \u001b[39m %34  = balltree\u001b[91m\u001b[1m::BallTree{_A,_B,_C,Euclidean} where _C where _B where _A<:(AbstractArray{T,1} where T)\u001b[22m\u001b[39m\n",
      "\u001b[90m│   \u001b[39m %35  = Base.getindex(W, Main.:(:), k@_20)\u001b[36m::Array{Float64,1}\u001b[39m\n",
      "\u001b[90m│   \u001b[39m %36  = r::Core.Compiler.Const(1.0e-10, false)\u001b[36m::Core.Compiler.Const(1.0e-10, false)\u001b[39m\n",
      "\u001b[90m│   \u001b[39m %37  = (%33)(%34, %35, %36, true)\u001b[36m::Array{Int64,1}\u001b[39m\n",
      "\u001b[90m│   \u001b[39m %38  = Core.isdefined(near@_12, :contents)\u001b[36m::Bool\u001b[39m\n",
      "\u001b[90m└───\u001b[39m        goto #4 if not %38\n",
      "\u001b[90m3 ──\u001b[39m        goto #5\n",
      "\u001b[90m4 ──\u001b[39m        Core.NewvarNode(:(near@_24))\n",
      "\u001b[90m└───\u001b[39m        near@_24\n",
      "\u001b[90m5 ┄─\u001b[39m %43  = Core.getfield(near@_12, :contents)\u001b[91m\u001b[1m::Any\u001b[22m\u001b[39m\n",
      "\u001b[90m│   \u001b[39m        Base.setindex!(%43, %37, k@_20)\n",
      "\u001b[90m│   \u001b[39m        (@_13 = Base.iterate(%25, %32))\n",
      "\u001b[90m│   \u001b[39m %46  = (@_13 === nothing)\u001b[36m::Bool\u001b[39m\n",
      "\u001b[90m│   \u001b[39m %47  = Base.not_int(%46)\u001b[36m::Bool\u001b[39m\n",
      "\u001b[90m└───\u001b[39m        goto #7 if not %47\n",
      "\u001b[90m6 ──\u001b[39m        goto #2\n",
      "\u001b[90m7 ┄─\u001b[39m %50  = Core.isdefined(near@_12, :contents)\u001b[36m::Bool\u001b[39m\n",
      "\u001b[90m└───\u001b[39m        goto #9 if not %50\n",
      "\u001b[90m8 ──\u001b[39m        goto #10\n",
      "\u001b[90m9 ──\u001b[39m        Core.NewvarNode(:(near@_25))\n",
      "\u001b[90m└───\u001b[39m        near@_25\n",
      "\u001b[90m10 ┄\u001b[39m %55  = Core.getfield(near@_12, :contents)\u001b[91m\u001b[1m::Any\u001b[22m\u001b[39m\n",
      "\u001b[90m│   \u001b[39m %56  = Main.map(Main.sort, %55)\u001b[91m\u001b[1m::Any\u001b[22m\u001b[39m\n",
      "\u001b[90m│   \u001b[39m        Core.setfield!(near@_12, :contents, %56)\n",
      "\u001b[90m│   \u001b[39m %58  = Main.size(W, 2)\u001b[36m::Int64\u001b[39m\n",
      "\u001b[90m│   \u001b[39m %59  = (1:%58)\u001b[36m::Core.Compiler.PartialStruct(UnitRange{Int64}, Any[Core.Compiler.Const(1, false), Int64])\u001b[39m\n",
      "\u001b[90m│   \u001b[39m        (@_14 = Base.iterate(%59))\n",
      "\u001b[90m│   \u001b[39m %61  = (@_14 === nothing)\u001b[36m::Bool\u001b[39m\n",
      "\u001b[90m│   \u001b[39m %62  = Base.not_int(%61)\u001b[36m::Bool\u001b[39m\n",
      "\u001b[90m└───\u001b[39m        goto #16 if not %62\n",
      "\u001b[90m11 ┄\u001b[39m %64  = @_14::Tuple{Int64,Int64}\u001b[36m::Tuple{Int64,Int64}\u001b[39m\n",
      "\u001b[90m│   \u001b[39m        (k@_21 = Core.getfield(%64, 1))\n",
      "\u001b[90m│   \u001b[39m %66  = Core.getfield(%64, 2)\u001b[36m::Int64\u001b[39m\n",
      "\u001b[90m│   \u001b[39m %67  = W\u001b[36m::Array{Float64,2}\u001b[39m\n",
      "\u001b[90m│   \u001b[39m %68  = Core.isdefined(near@_12, :contents)\u001b[36m::Bool\u001b[39m\n",
      "\u001b[90m└───\u001b[39m        goto #13 if not %68\n",
      "\u001b[90m12 ─\u001b[39m        goto #14\n",
      "\u001b[90m13 ─\u001b[39m        Core.NewvarNode(:(near@_26))\n",
      "\u001b[90m└───\u001b[39m        near@_26\n",
      "\u001b[90m14 ┄\u001b[39m %73  = Core.getfield(near@_12, :contents)\u001b[91m\u001b[1m::Any\u001b[22m\u001b[39m\n",
      "\u001b[90m│   \u001b[39m %74  = Base.getindex(%73, k@_21)\u001b[91m\u001b[1m::Any\u001b[22m\u001b[39m\n",
      "\u001b[90m│   \u001b[39m %75  = Base.getindex(%74, 1)\u001b[91m\u001b[1m::Any\u001b[22m\u001b[39m\n",
      "\u001b[90m│   \u001b[39m %76  = Base.getindex(%67, Main.:(:), %75)\u001b[91m\u001b[1m::Any\u001b[22m\u001b[39m\n",
      "\u001b[90m│   \u001b[39m        Base.setindex!(W, %76, Main.:(:), k@_21)\n",
      "\u001b[90m│   \u001b[39m        (@_14 = Base.iterate(%59, %66))\n",
      "\u001b[90m│   \u001b[39m %79  = (@_14 === nothing)\u001b[36m::Bool\u001b[39m\n",
      "\u001b[90m│   \u001b[39m %80  = Base.not_int(%79)\u001b[36m::Bool\u001b[39m\n",
      "\u001b[90m└───\u001b[39m        goto #16 if not %80\n",
      "\u001b[90m15 ─\u001b[39m        goto #11\n",
      "\u001b[90m16 ┄\u001b[39m        (#144 = %new(Main.:(var\"#144#148\"), near@_12))\n",
      "\u001b[90m│   \u001b[39m %84  = #144\u001b[36m::var\"#144#148\"\u001b[39m\n",
      "\u001b[90m│   \u001b[39m %85  = Main.size(W, 2)\u001b[36m::Int64\u001b[39m\n",
      "\u001b[90m│   \u001b[39m %86  = (1:%85)\u001b[36m::Core.Compiler.PartialStruct(UnitRange{Int64}, Any[Core.Compiler.Const(1, false), Int64])\u001b[39m\n",
      "\u001b[90m│   \u001b[39m %87  = Base.Generator(%84, %86)\u001b[36m::Core.Compiler.PartialStruct(Base.Generator{UnitRange{Int64},var\"#144#148\"}, Any[var\"#144#148\", Core.Compiler.PartialStruct(UnitRange{Int64}, Any[Core.Compiler.Const(1, false), Int64])])\u001b[39m\n",
      "\u001b[90m│   \u001b[39m        (pointidx = Base.collect(%87))\n",
      "\u001b[90m│   \u001b[39m %89  = Main.length(pointidx)\u001b[36m::Int64\u001b[39m\n",
      "\u001b[90m│   \u001b[39m %90  = (1:%89)\u001b[36m::Core.Compiler.PartialStruct(UnitRange{Int64}, Any[Core.Compiler.Const(1, false), Int64])\u001b[39m\n",
      "\u001b[90m│   \u001b[39m %91  = Main.zip(%90, pointidx)\u001b[91m\u001b[1m::Base.Iterators.Zip\u001b[22m\u001b[39m\n",
      "\u001b[90m│   \u001b[39m        (invidx = Main.OrderedDict(%91))\n",
      "\u001b[90m│   \u001b[39m %93  = Main.:(var\"#145#149\")\u001b[36m::Core.Compiler.Const(var\"#145#149\", false)\u001b[39m\n",
      "\u001b[90m│   \u001b[39m %94  = Core.typeof(W)\u001b[36m::Core.Compiler.Const(Array{Float64,2}, false)\u001b[39m\n",
      "\u001b[90m│   \u001b[39m %95  = Core.apply_type(%93, %94)\u001b[36m::Core.Compiler.Const(var\"#145#149\"{Array{Float64,2}}, false)\u001b[39m\n",
      "\u001b[90m│   \u001b[39m        (#145 = %new(%95, W))\n",
      "\u001b[90m│   \u001b[39m %97  = #145\u001b[36m::var\"#145#149\"{Array{Float64,2}}\u001b[39m\n",
      "\u001b[90m│   \u001b[39m %98  = Main.length(pointidx)\u001b[36m::Int64\u001b[39m\n",
      "\u001b[90m│   \u001b[39m %99  = (1:%98)\u001b[36m::Core.Compiler.PartialStruct(UnitRange{Int64}, Any[Core.Compiler.Const(1, false), Int64])\u001b[39m\n",
      "\u001b[90m│   \u001b[39m %100 = Base.Generator(%97, %99)\u001b[36m::Core.Compiler.PartialStruct(Base.Generator{UnitRange{Int64},var\"#145#149\"{Array{Float64,2}}}, Any[var\"#145#149\"{Array{Float64,2}}, Core.Compiler.PartialStruct(UnitRange{Int64}, Any[Core.Compiler.Const(1, false), Int64])])\u001b[39m\n",
      "\u001b[90m│   \u001b[39m        (V = Base.collect(%100))\n",
      "\u001b[90m│   \u001b[39m %102 = Base.vect()\u001b[36m::Array{Any,1}\u001b[39m\n",
      "\u001b[90m│   \u001b[39m        Core.setfield!(EV@_18, :contents, %102)\n",
      "\u001b[90m│   \u001b[39m %104 = EW\u001b[36m::Array{Array{Int64,1},1}\u001b[39m\n",
      "\u001b[90m│   \u001b[39m        (@_19 = Base.iterate(%104))\n",
      "\u001b[90m│   \u001b[39m %106 = (@_19 === nothing)\u001b[36m::Bool\u001b[39m\n",
      "\u001b[90m│   \u001b[39m %107 = Base.not_int(%106)\u001b[36m::Bool\u001b[39m\n",
      "\u001b[90m└───\u001b[39m        goto #24 if not %107\n",
      "\u001b[90m17 ┄\u001b[39m %109 = @_19::Tuple{Array{Int64,1},Int64}\u001b[36m::Tuple{Array{Int64,1},Int64}\u001b[39m\n",
      "\u001b[90m│   \u001b[39m        (e = Core.getfield(%109, 1))\n",
      "\u001b[90m│   \u001b[39m %111 = Core.getfield(%109, 2)\u001b[36m::Int64\u001b[39m\n",
      "\u001b[90m│   \u001b[39m %112 = invidx\u001b[91m\u001b[1m::OrderedDict{_A,_B} where _B where _A\u001b[22m\u001b[39m\n",
      "\u001b[90m│   \u001b[39m %113 = Base.getindex(e, 1)\u001b[36m::Int64\u001b[39m\n",
      "\u001b[90m│   \u001b[39m %114 = Base.getindex(%112, %113)\u001b[91m\u001b[1m::Any\u001b[22m\u001b[39m\n",
      "\u001b[90m│   \u001b[39m %115 = invidx\u001b[91m\u001b[1m::OrderedDict{_A,_B} where _B where _A\u001b[22m\u001b[39m\n",
      "\u001b[90m│   \u001b[39m %116 = Base.getindex(e, 2)\u001b[36m::Int64\u001b[39m\n",
      "\u001b[90m│   \u001b[39m %117 = Base.getindex(%115, %116)\u001b[91m\u001b[1m::Any\u001b[22m\u001b[39m\n",
      "\u001b[90m│   \u001b[39m        (newedge = Base.vect(%114, %117))\n",
      "\u001b[90m│   \u001b[39m %119 = Base.getindex(newedge, 1)\u001b[91m\u001b[1m::Any\u001b[22m\u001b[39m\n",
      "\u001b[90m│   \u001b[39m %120 = Base.getindex(newedge, 2)\u001b[91m\u001b[1m::Any\u001b[22m\u001b[39m\n",
      "\u001b[90m│   \u001b[39m %121 = (%119 !== %120)\u001b[36m::Bool\u001b[39m\n",
      "\u001b[90m└───\u001b[39m        goto #22 if not %121\n",
      "\u001b[90m18 ─\u001b[39m %123 = Core.isdefined(EV@_18, :contents)\u001b[36m::Bool\u001b[39m\n",
      "\u001b[90m└───\u001b[39m        goto #20 if not %123\n",
      "\u001b[90m19 ─\u001b[39m        goto #21\n",
      "\u001b[90m20 ─\u001b[39m        Core.NewvarNode(:(EV@_27))\n"
     ]
    },
    {
     "name": "stdout",
     "output_type": "stream",
     "text": [
      "\u001b[90m└───\u001b[39m        EV@_27\n",
      "\u001b[90m21 ┄\u001b[39m %128 = Core.getfield(EV@_18, :contents)\u001b[91m\u001b[1m::Any\u001b[22m\u001b[39m\n",
      "\u001b[90m└───\u001b[39m        Main.push!(%128, newedge)\n",
      "\u001b[90m22 ┄\u001b[39m        (@_19 = Base.iterate(%104, %111))\n",
      "\u001b[90m│   \u001b[39m %131 = (@_19 === nothing)\u001b[36m::Bool\u001b[39m\n",
      "\u001b[90m│   \u001b[39m %132 = Base.not_int(%131)\u001b[36m::Bool\u001b[39m\n",
      "\u001b[90m└───\u001b[39m        goto #24 if not %132\n",
      "\u001b[90m23 ─\u001b[39m        goto #17\n",
      "\u001b[90m24 ┄\u001b[39m        (#146 = %new(Main.:(var\"#146#150\"), EV@_18))\n",
      "\u001b[90m│   \u001b[39m %136 = #146\u001b[36m::var\"#146#150\"\u001b[39m\n",
      "\u001b[90m│   \u001b[39m        (#147 = %new(Main.:(var\"#147#151\"), EV@_18))\n",
      "\u001b[90m│   \u001b[39m %138 = #147\u001b[36m::var\"#147#151\"\u001b[39m\n",
      "\u001b[90m│   \u001b[39m %139 = Core.isdefined(EV@_18, :contents)\u001b[36m::Bool\u001b[39m\n",
      "\u001b[90m└───\u001b[39m        goto #26 if not %139\n",
      "\u001b[90m25 ─\u001b[39m        goto #27\n",
      "\u001b[90m26 ─\u001b[39m        Core.NewvarNode(:(EV@_28))\n",
      "\u001b[90m└───\u001b[39m        EV@_28\n",
      "\u001b[90m27 ┄\u001b[39m %144 = Core.getfield(EV@_18, :contents)\u001b[91m\u001b[1m::Any\u001b[22m\u001b[39m\n",
      "\u001b[90m│   \u001b[39m %145 = Main.length(%144)\u001b[91m\u001b[1m::Any\u001b[22m\u001b[39m\n",
      "\u001b[90m│   \u001b[39m %146 = (1:%145)\u001b[91m\u001b[1m::Any\u001b[22m\u001b[39m\n",
      "\u001b[90m│   \u001b[39m %147 = Base.Filter(%138, %146)\u001b[91m\u001b[1m::Base.Iterators.Filter{var\"#147#151\",_A} where _A\u001b[22m\u001b[39m\n",
      "\u001b[90m│   \u001b[39m %148 = Base.Generator(%136, %147)\u001b[91m\u001b[1m::Base.Generator{_A,var\"#146#150\"} where _A\u001b[22m\u001b[39m\n",
      "\u001b[90m│   \u001b[39m %149 = Base.collect(%148)\u001b[91m\u001b[1m::Any\u001b[22m\u001b[39m\n",
      "\u001b[90m│   \u001b[39m        Core.setfield!(EV@_18, :contents, %149)\n",
      "\u001b[90m│   \u001b[39m %151 = Base.getproperty(Main.Lar, :Cells)\u001b[91m\u001b[1m::Any\u001b[22m\u001b[39m\n",
      "\u001b[90m│   \u001b[39m %152 = Core.isdefined(EV@_18, :contents)\u001b[36m::Bool\u001b[39m\n",
      "\u001b[90m└───\u001b[39m        goto #29 if not %152\n",
      "\u001b[90m28 ─\u001b[39m        goto #30\n",
      "\u001b[90m29 ─\u001b[39m        Core.NewvarNode(:(EV@_29))\n",
      "\u001b[90m└───\u001b[39m        EV@_29\n",
      "\u001b[90m30 ┄\u001b[39m %157 = Core.getfield(EV@_18, :contents)\u001b[91m\u001b[1m::Any\u001b[22m\u001b[39m\n",
      "\u001b[90m│   \u001b[39m %158 = Main.convert(%151, %157)\u001b[91m\u001b[1m::Any\u001b[22m\u001b[39m\n",
      "\u001b[90m│   \u001b[39m        Core.setfield!(EV@_18, :contents, %158)\n",
      "\u001b[90m│   \u001b[39m %160 = Core._apply_iterate(Base.iterate, Main.hcat, V)\u001b[91m\u001b[1m::Array\u001b[22m\u001b[39m\n",
      "\u001b[90m│   \u001b[39m %161 = Core.isdefined(EV@_18, :contents)\u001b[36m::Bool\u001b[39m\n",
      "\u001b[90m└───\u001b[39m        goto #32 if not %161\n",
      "\u001b[90m31 ─\u001b[39m        goto #33\n",
      "\u001b[90m32 ─\u001b[39m        Core.NewvarNode(:(EV@_30))\n",
      "\u001b[90m└───\u001b[39m        EV@_30\n",
      "\u001b[90m33 ┄\u001b[39m %166 = Core.getfield(EV@_18, :contents)\u001b[91m\u001b[1m::Any\u001b[22m\u001b[39m\n",
      "\u001b[90m│   \u001b[39m %167 = Core.tuple(%160, %166)\u001b[91m\u001b[1m::Tuple{Array,Any}\u001b[22m\u001b[39m\n",
      "\u001b[90m└───\u001b[39m        return %167\n"
     ]
    }
   ],
   "source": [
    "@code_warntype congruence((V,EV))"
   ]
  },
  {
   "cell_type": "markdown",
   "metadata": {},
   "source": [
    "La funzione NON è type unstable in quanto ritorna la stringa:\n",
    "\n",
    "    Body::Tuple{Array,Any}"
   ]
  },
  {
   "cell_type": "markdown",
   "metadata": {},
   "source": [
    "## 2) Ottimizzazione cicli con @simd e @inbounds\n",
    "\n",
    "Abbiamo convertito alcune list comprehension in cicli del tipo for i=1:n .. in modo da poter utilizzare la macro @inbounds per disabilitare il boundchecking del compilatore e la macro @simd.  \n",
    "  \n",
    "L'inserimento esplicito della macro simd non ha comportato alcun beneficio, infatti come si apprende dal sito ufficiale Julia: \"Note that in many cases, Julia can automatically vectorize code without the @simd macro\" (https://docs.julialang.org/en/v1/manual/performance-tips/), quindi noi pensiamo che il codice già sia vettorizzato senza la nostra macro.  \n",
    "  \n",
    "La macro @inbounds invece ha ridotto leggermente il numero di allocazioni in memoria."
   ]
  },
  {
   "cell_type": "code",
   "execution_count": 40,
   "metadata": {},
   "outputs": [
    {
     "name": "stdout",
     "output_type": "stream",
     "text": [
      "  267.062 μs (2070 allocations: 119.52 KiB)\n"
     ]
    },
    {
     "data": {
      "text/plain": [
       "([1.0 2.0 … 128.0 129.0; 1.0 2.0 … 128.0 129.0], [[1, 2], [3, 4], [5, 6], [7, 8], [9, 10], [11, 12], [13, 14], [15, 16], [17, 18], [19, 20]  …  [101, 102], [103, 104], [105, 106], [107, 108], [109, 110], [111, 112], [113, 114], [115, 116], [117, 118], [119, 120]])"
      ]
     },
     "execution_count": 40,
     "metadata": {},
     "output_type": "execute_result"
    }
   ],
   "source": [
    "function congruence2(model)\n",
    "    W,EW = model\n",
    "    n = size(W,2)\n",
    "    balltree = NearestNeighbors.BallTree(W)\n",
    "    r = 0.0000000001\n",
    "    near = Array{Any}(undef, n)\n",
    "    @inbounds @simd for k=1:n\n",
    "        near[k] = NearestNeighbors.inrange(balltree, W[:,k], r, true)\n",
    "    end\n",
    "    near = map(sort,near) \n",
    "    @inbounds @simd for k=1:n\n",
    "        W[:,k] = W[:,near[k][1]]\n",
    "    end\n",
    "    pointidx = Array{Int64}(undef, n)\n",
    "    @inbounds @simd for k=1:n\n",
    "         pointidx[k] = near[k][1] \n",
    "    end\n",
    "    l = length(pointidx)\n",
    "    invidx = OrderedDict(zip(1:l, pointidx))\n",
    "    V = Array{Array{Float64,1}}(undef, l)\n",
    "    @inbounds @simd for k=1:l\n",
    "        V[k] = W[:,k] \n",
    "    end\n",
    "    \n",
    "    EV = []\n",
    "    m = length(EW)\n",
    "    @inbounds @simd for i = 1:m\n",
    "        newedge = [invidx[EW[i][1]],invidx[EW[i][2]]]\n",
    "        if newedge[1] !== newedge[2]\n",
    "            push!(EV,newedge)\n",
    "        end\n",
    "    end\n",
    "    EV = [EV[h] for h=1:length(EV) if length(EV[h])==2]\n",
    "    EV = convert(Lar.Cells, EV)\n",
    "    return hcat(V...),EV\n",
    "end\n",
    "\n",
    "@btime congruence2((V,EV))"
   ]
  },
  {
   "cell_type": "markdown",
   "metadata": {},
   "source": [
    "## 3) Parallelizzazione cicli usando i Threads\n",
    "\n",
    "Per eseguire questa cella, aprire il proprio REPL Julia e aprire questo notebook con i comandi:\n",
    "\n",
    "ENV[\"JULIA_NUM_THREADS\"] = 4     (o un altro numero)  \n",
    "using IJulia  \n",
    "notebook()  \n",
    "  \n",
    "Noi studenti, avendo computer dual-core abbiamo fissato in numero di threads pari a 2.   Allocarne di più sarebbe stato inutile (in quanto i threads >2 avrebbero aspettato comunque ..) e anzi, mettendo un numero di threads pari a 4 su un dual-core abbiamo notato un grosso peggioramento delle performance dovuta probabilmente all'attesa.  \n",
    "  \n",
    "Si è notato un certo miglioramento delle performance (circa 1/6)"
   ]
  },
  {
   "cell_type": "code",
   "execution_count": 41,
   "metadata": {},
   "outputs": [
    {
     "name": "stdout",
     "output_type": "stream",
     "text": [
      "  240.155 μs (2117 allocations: 125.88 KiB)\n"
     ]
    },
    {
     "data": {
      "text/plain": [
       "([1.0 2.0 … 128.0 129.0; 1.0 2.0 … 128.0 129.0], [[1, 2], [3, 4], [5, 6], [7, 8], [9, 10], [11, 12], [13, 14], [15, 16], [17, 18], [19, 20]  …  [101, 102], [103, 104], [105, 106], [107, 108], [109, 110], [111, 112], [113, 114], [115, 116], [117, 118], [119, 120]])"
      ]
     },
     "execution_count": 41,
     "metadata": {},
     "output_type": "execute_result"
    }
   ],
   "source": [
    "using Base.Threads\n",
    "function congruence3(model)\n",
    "    W,EW = model\n",
    "    n = size(W,2)\n",
    "    balltree = NearestNeighbors.BallTree(W)\n",
    "    r = 0.0000000001\n",
    "    near = Array{Any}(undef, n)\n",
    "    @inbounds @threads for k=1:n\n",
    "        near[k] = NearestNeighbors.inrange(balltree, W[:,k], r, true)\n",
    "    end\n",
    "    near = map(sort,near) \n",
    "    @inbounds @threads for k=1:n\n",
    "        W[:,k] = W[:,near[k][1]]\n",
    "    end\n",
    "    pointidx = Array{Int64}(undef, n)\n",
    "    @inbounds @threads for k=1:n\n",
    "         pointidx[k] = near[k][1] \n",
    "    end\n",
    "    l = length(pointidx)\n",
    "    invidx = OrderedDict(zip(1:l, pointidx))\n",
    "    V = Array{Array{Float64,1}}(undef, l)\n",
    "    @inbounds @threads for k=1:l\n",
    "        V[k] = W[:,k] \n",
    "    end\n",
    "    \n",
    "    EV = []\n",
    "    m = length(EW)\n",
    "    @inbounds for i = 1:m\n",
    "        newedge = [invidx[EW[i][1]],invidx[EW[i][2]]]\n",
    "        if newedge[1] !== newedge[2]\n",
    "            push!(EV,newedge)\n",
    "        end\n",
    "    end\n",
    "    EV = [EV[h] for h=1:length(EV) if length(EV[h])==2]\n",
    "    EV = convert(Lar.Cells, EV)\n",
    "    return hcat(V...),EV\n",
    "end\n",
    "\n",
    "@btime congruence3((V,EV))"
   ]
  },
  {
   "cell_type": "markdown",
   "metadata": {},
   "source": [
    "## 4) Refactoring del codice  \n",
    "  \n",
    "Si nota un certo miglioramento nelle performance\n",
    "se al posto di usare la list comprehension per ottenere\n",
    "i dati di EV validi si fa un filter"
   ]
  },
  {
   "cell_type": "code",
   "execution_count": 42,
   "metadata": {},
   "outputs": [
    {
     "name": "stdout",
     "output_type": "stream",
     "text": [
      "  227.421 μs (2104 allocations: 125.02 KiB)\n"
     ]
    },
    {
     "data": {
      "text/plain": [
       "([1.0 2.0 … 128.0 129.0; 1.0 2.0 … 128.0 129.0], [[1, 2], [3, 4], [5, 6], [7, 8], [9, 10], [11, 12], [13, 14], [15, 16], [17, 18], [19, 20]  …  [101, 102], [103, 104], [105, 106], [107, 108], [109, 110], [111, 112], [113, 114], [115, 116], [117, 118], [119, 120]])"
      ]
     },
     "execution_count": 42,
     "metadata": {},
     "output_type": "execute_result"
    }
   ],
   "source": [
    "using Base.Threads\n",
    "function congruence3(model)\n",
    "    W,EW = model\n",
    "    n = size(W,2)\n",
    "    balltree = NearestNeighbors.BallTree(W)\n",
    "    r = 0.0000000001\n",
    "    near = Array{Any}(undef, n)\n",
    "    @inbounds @threads for k=1:n\n",
    "        near[k] = NearestNeighbors.inrange(balltree, W[:,k], r, true)\n",
    "    end\n",
    "    near = map(sort,near) \n",
    "    @inbounds @threads for k=1:n\n",
    "        W[:,k] = W[:,near[k][1]]\n",
    "    end\n",
    "    pointidx = Array{Int64}(undef, n)\n",
    "    @inbounds @threads for k=1:n\n",
    "         pointidx[k] = near[k][1] \n",
    "    end\n",
    "    l = length(pointidx)\n",
    "    invidx = OrderedDict(zip(1:l, pointidx))\n",
    "    V = Array{Array{Float64,1}}(undef, l)\n",
    "    @inbounds @threads for k=1:l\n",
    "        V[k] = W[:,k] \n",
    "    end\n",
    "    \n",
    "    EV = []\n",
    "    m = length(EW)\n",
    "    @inbounds for i = 1:m\n",
    "        newedge = [invidx[EW[i][1]],invidx[EW[i][2]]]\n",
    "        if newedge[1] !== newedge[2]\n",
    "            push!(EV,newedge)\n",
    "        end\n",
    "    end\n",
    "    filter!(x ->  length(x)==2, EV)\n",
    "    EV = convert(Lar.Cells, EV)\n",
    "    return hcat(V...),EV\n",
    "end\n",
    "\n",
    "@btime congruence3((V,EV))"
   ]
  }
 ],
 "metadata": {
  "kernelspec": {
   "display_name": "Julia 1.5.2",
   "language": "julia",
   "name": "julia-1.5"
  },
  "language_info": {
   "file_extension": ".jl",
   "mimetype": "application/julia",
   "name": "julia",
   "version": "1.5.2"
  }
 },
 "nbformat": 4,
 "nbformat_minor": 2
}
