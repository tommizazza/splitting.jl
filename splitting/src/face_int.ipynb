{
 "cells": [
  {
   "cell_type": "code",
   "execution_count": 9,
   "metadata": {},
   "outputs": [],
   "source": [
    "using LinearAlgebraicRepresentation\n",
    "Lar = LinearAlgebraicRepresentation\n",
    "using IntervalTrees\n",
    "using SparseArrays\n",
    "using NearestNeighbors\n",
    "using DataStructures\n",
    "using OrderedCollections\n",
    "using LinearAlgebra\n",
    "using Base.Threads\n",
    "using BenchmarkTools"
   ]
  },
  {
   "cell_type": "markdown",
   "metadata": {},
   "source": [
    "## Funzione da ottimizzare\n"
   ]
  },
  {
   "cell_type": "code",
   "execution_count": 10,
   "metadata": {},
   "outputs": [
    {
     "data": {
      "text/plain": [
       "face_int (generic function with 1 method)"
      ]
     },
     "execution_count": 10,
     "metadata": {},
     "output_type": "execute_result"
    }
   ],
   "source": [
    "function face_int(V::Lar.Points, EV::Lar.ChainOp, face::Lar.Cell)\n",
    "    vs = Lar.buildFV(EV, face)\n",
    "    retV = Lar.Points(undef, 0, 3)\n",
    "    visited_verts = []\n",
    "    for i in 1:length(vs)\n",
    "        o = V[vs[i],:]\n",
    "        j = i < length(vs) ? i+1 : 1\n",
    "        d = V[vs[j],:] - o\n",
    "\n",
    "        err = 10e-8\n",
    "        # err = 10e-4\n",
    "        if !(-err < d[3] < err)\n",
    "\n",
    "            alpha = -o[3] / d[3]\n",
    "\n",
    "            if -err <= alpha <= 1+err\n",
    "                p = o + alpha*d\n",
    "\n",
    "                if -err < alpha < err || 1-err < alpha < 1+err\n",
    "                    if !(Lar.vin(p, visited_verts))\n",
    "                        push!(visited_verts, p)\n",
    "                        retV = [retV; reshape(p, 1, 3)]\n",
    "                    end\n",
    "                else\n",
    "                    retV = [retV; reshape(p, 1, 3)]\n",
    "                end\n",
    "            end\n",
    "        end\n",
    "\n",
    "    end\n",
    "\n",
    "    vnum = size(retV, 1)\n",
    "\n",
    "\n",
    "    if vnum == 1\n",
    "        vnum = 0\n",
    "        retV = Lar.Points(undef, 0, 3)\n",
    "    end\n",
    "    enum = (÷)(vnum, 2)\n",
    "    retEV = spzeros(Int8, enum, vnum)\n",
    "\n",
    "    for i in 1:enum\n",
    "        retEV[i, 2*i-1:2*i] = [-1, 1]\n",
    "    end\n",
    "\n",
    "    retV, retEV\n",
    "end"
   ]
  },
  {
   "cell_type": "markdown",
   "metadata": {},
   "source": [
    "## Dati in input\n"
   ]
  },
  {
   "cell_type": "code",
   "execution_count": 11,
   "metadata": {},
   "outputs": [
    {
     "data": {
      "text/plain": [
       "2"
      ]
     },
     "execution_count": 11,
     "metadata": {},
     "output_type": "execute_result"
    }
   ],
   "source": [
    "function submanifold_mapping(vs)\n",
    "    u1 = vs[2,:] - vs[1,:]\n",
    "    u2 = vs[3,:] - vs[1,:]\n",
    "    u3 = cross(u1, u2)\n",
    "    T = Matrix{Float64}(LinearAlgebra.I, 4, 4)\n",
    "    T[4, 1:3] = - vs[1,:]\n",
    "    M = Matrix{Float64}(LinearAlgebra.I, 4, 4)\n",
    "    M[1:3, 1:3] = [u1 u2 u3]\n",
    "    return T*M\n",
    "end\n",
    "\n",
    "V=[0.8  3.8  0.8  0.8  1.6  4.6  1.6  1.6;\n",
    "   0.8  0.8  3.8  0.8  1.6  1.6  4.6  1.6;\n",
    "   0.8  0.8  0.8  3.8  1.6  1.6  1.6  4.6]\n",
    "EV=[[1,2],[1,3],[1,4],[2,3],[2,4],[3,4],[5,6],[5,7],[5,8],[6,7],[6,8],[7,8]]\n",
    "FV=[[1,2,3],[1,2,4],[1,3,4],[2,3,4],[5,6,7],[5,6,8],[5,7,8],[6,7,8]]\n",
    "CV=[[1,2,3,4],[5,6,7,8]]\n",
    "sp_idx=[[3,2,4],[3,1,4],[1,2,4],[3,1,2,7,5,6,8],[4,7,6,8],[4,7,5,8],[4,5,6,8],[4,7,5,6]]\n",
    "copEV = Lar.coboundary_0(EV::Lar.Cells)\n",
    "copFE = Lar.coboundary_1(V, FV::Lar.Cells, EV::Lar.Cells)\n",
    "V = convert(Array{Float64,2},V') \n",
    "sigma=4\n",
    "vs_num = size(V, 1)\n",
    "\n",
    "# 2D transformation of sigma face\n",
    "sigmavs = (abs.(copFE[sigma:sigma,:]) * abs.(copEV))[1,:].nzind\n",
    "sV = V[sigmavs, :]\n",
    "sEV = copEV[copFE[sigma, :].nzind, sigmavs]\n",
    "M = submanifold_mapping(sV)\n",
    "tV = ([V ones(vs_num)]*M)[:, 1:3]  # folle convertire *tutti* i vertici\n",
    "sV = tV[sigmavs, :]\n",
    "i = 2"
   ]
  },
  {
   "cell_type": "markdown",
   "metadata": {},
   "source": [
    "## 0) Benchmark vecchia funzione"
   ]
  },
  {
   "cell_type": "code",
   "execution_count": 12,
   "metadata": {},
   "outputs": [
    {
     "name": "stdout",
     "output_type": "stream",
     "text": [
      "  16.385 μs (159 allocations: 9.86 KiB)\n"
     ]
    },
    {
     "data": {
      "text/plain": [
       "(Any[0.0 0.0 0.0; 8.999999999999998 18.0 0.0], \n",
       "  [1, 1]  =  -1\n",
       "  [1, 2]  =  1)"
      ]
     },
     "execution_count": 12,
     "metadata": {},
     "output_type": "execute_result"
    }
   ],
   "source": [
    "@btime face_int(tV, copEV, copFE[i, :])"
   ]
  },
  {
   "cell_type": "markdown",
   "metadata": {},
   "source": [
    "## 1) Controllo se la funzione è type unstable"
   ]
  },
  {
   "cell_type": "code",
   "execution_count": 13,
   "metadata": {},
   "outputs": [
    {
     "name": "stdout",
     "output_type": "stream",
     "text": [
      "Variables\n",
      "  #self#\u001b[36m::Core.Compiler.Const(face_int, false)\u001b[39m\n",
      "  V\u001b[36m::Array{Float64,2}\u001b[39m\n",
      "  EV\u001b[36m::SparseMatrixCSC{Int8,Int64}\u001b[39m\n",
      "  face\u001b[36m::SparseVector{Int8,Int64}\u001b[39m\n",
      "  vs\u001b[91m\u001b[1m::Any\u001b[22m\u001b[39m\n",
      "  visited_verts\u001b[36m::Array{Any,1}\u001b[39m\n",
      "  @_7\u001b[91m\u001b[1m::Any\u001b[22m\u001b[39m\n",
      "  vnum\u001b[91m\u001b[1m::Any\u001b[22m\u001b[39m\n",
      "  retV\u001b[91m\u001b[1m::Any\u001b[22m\u001b[39m\n",
      "  enum\u001b[91m\u001b[1m::Any\u001b[22m\u001b[39m\n",
      "  retEV\u001b[91m\u001b[1m::Union{SparseMatrixCSC{Int8,_A} where _A<:Integer, SparseVector{Int8,_A} where _A<:Integer}\u001b[22m\u001b[39m\n",
      "  @_12\u001b[91m\u001b[1m::Any\u001b[22m\u001b[39m\n",
      "  i@_13\u001b[91m\u001b[1m::Any\u001b[22m\u001b[39m\n",
      "  o\u001b[91m\u001b[1m::Any\u001b[22m\u001b[39m\n",
      "  j\u001b[91m\u001b[1m::Any\u001b[22m\u001b[39m\n",
      "  d\u001b[91m\u001b[1m::Any\u001b[22m\u001b[39m\n",
      "  err\u001b[36m::Float64\u001b[39m\n",
      "  alpha\u001b[91m\u001b[1m::Any\u001b[22m\u001b[39m\n",
      "  p\u001b[91m\u001b[1m::Any\u001b[22m\u001b[39m\n",
      "  i@_20\u001b[91m\u001b[1m::Any\u001b[22m\u001b[39m\n",
      "  @_21\u001b[91m\u001b[1m::Any\u001b[22m\u001b[39m\n",
      "  @_22\u001b[91m\u001b[1m::Any\u001b[22m\u001b[39m\n",
      "  @_23\u001b[91m\u001b[1m::Any\u001b[22m\u001b[39m\n",
      "  @_24\u001b[91m\u001b[1m::Any\u001b[22m\u001b[39m\n",
      "  @_25\u001b[91m\u001b[1m::Any\u001b[22m\u001b[39m\n",
      "  @_26\u001b[91m\u001b[1m::Any\u001b[22m\u001b[39m\n",
      "\n",
      "Body\u001b[91m\u001b[1m::Tuple{Any,Union{SparseMatrixCSC{Int8,_A} where _A<:Integer, SparseVector{Int8,_A} where _A<:Integer}}\u001b[22m\u001b[39m\n",
      "\u001b[90m1 ──\u001b[39m        Core.NewvarNode(:(vnum))\n",
      "\u001b[90m│   \u001b[39m        Core.NewvarNode(:(enum))\n",
      "\u001b[90m│   \u001b[39m        Core.NewvarNode(:(retEV))\n",
      "\u001b[90m│   \u001b[39m        Core.NewvarNode(:(@_12))\n",
      "\u001b[90m│   \u001b[39m %5   = Base.getproperty(Main.Lar, :buildFV)\u001b[91m\u001b[1m::Any\u001b[22m\u001b[39m\n",
      "\u001b[90m│   \u001b[39m        (vs = (%5)(EV, face))\n",
      "\u001b[90m│   \u001b[39m %7   = Base.getproperty(Main.Lar, :Points)\u001b[91m\u001b[1m::Any\u001b[22m\u001b[39m\n",
      "\u001b[90m│   \u001b[39m        (retV = (%7)(Main.undef, 0, 3))\n",
      "\u001b[90m│   \u001b[39m        (visited_verts = Base.vect())\n",
      "\u001b[90m│   \u001b[39m %10  = Main.length(vs)\u001b[91m\u001b[1m::Any\u001b[22m\u001b[39m\n",
      "\u001b[90m│   \u001b[39m %11  = (1:%10)\u001b[91m\u001b[1m::Any\u001b[22m\u001b[39m\n",
      "\u001b[90m│   \u001b[39m        (@_7 = Base.iterate(%11))\n",
      "\u001b[90m│   \u001b[39m %13  = (@_7 === nothing)\u001b[36m::Bool\u001b[39m\n",
      "\u001b[90m│   \u001b[39m %14  = Base.not_int(%13)\u001b[36m::Bool\u001b[39m\n",
      "\u001b[90m└───\u001b[39m        goto #29 if not %14\n",
      "\u001b[90m2 ┄─\u001b[39m        Core.NewvarNode(:(j))\n",
      "\u001b[90m│   \u001b[39m        Core.NewvarNode(:(d))\n",
      "\u001b[90m│   \u001b[39m        Core.NewvarNode(:(err))\n",
      "\u001b[90m│   \u001b[39m        Core.NewvarNode(:(alpha))\n",
      "\u001b[90m│   \u001b[39m        Core.NewvarNode(:(p))\n",
      "\u001b[90m│   \u001b[39m %21  = @_7\u001b[91m\u001b[1m::Any\u001b[22m\u001b[39m\n",
      "\u001b[90m│   \u001b[39m        (i@_13 = Core.getfield(%21, 1))\n",
      "\u001b[90m│   \u001b[39m %23  = Core.getfield(%21, 2)\u001b[91m\u001b[1m::Any\u001b[22m\u001b[39m\n",
      "\u001b[90m│   \u001b[39m %24  = Base.getindex(vs, i@_13)\u001b[91m\u001b[1m::Any\u001b[22m\u001b[39m\n",
      "\u001b[90m│   \u001b[39m        (o = Base.getindex(V, %24, Main.:(:)))\n",
      "\u001b[90m│   \u001b[39m %26  = i@_13\u001b[91m\u001b[1m::Any\u001b[22m\u001b[39m\n",
      "\u001b[90m│   \u001b[39m %27  = Main.length(vs)\u001b[91m\u001b[1m::Any\u001b[22m\u001b[39m\n",
      "\u001b[90m│   \u001b[39m %28  = (%26 < %27)\u001b[91m\u001b[1m::Any\u001b[22m\u001b[39m\n",
      "\u001b[90m└───\u001b[39m        goto #4 if not %28\n",
      "\u001b[90m3 ──\u001b[39m        (@_21 = i@_13 + 1)\n",
      "\u001b[90m└───\u001b[39m        goto #5\n",
      "\u001b[90m4 ──\u001b[39m        (@_21 = 1)\n",
      "\u001b[90m5 ┄─\u001b[39m        (j = @_21)\n",
      "\u001b[90m│   \u001b[39m %34  = Base.getindex(vs, j)\u001b[91m\u001b[1m::Any\u001b[22m\u001b[39m\n",
      "\u001b[90m│   \u001b[39m %35  = Base.getindex(V, %34, Main.:(:))\u001b[91m\u001b[1m::Any\u001b[22m\u001b[39m\n",
      "\u001b[90m│   \u001b[39m        (d = %35 - o)\n",
      "\u001b[90m│   \u001b[39m        (err = 1.0e-7)\n",
      "\u001b[90m│   \u001b[39m %38  = Base.getindex(d, 3)\u001b[91m\u001b[1m::Any\u001b[22m\u001b[39m\n",
      "\u001b[90m│   \u001b[39m %39  = -err::Core.Compiler.Const(1.0e-7, false)\u001b[36m::Core.Compiler.Const(-1.0e-7, false)\u001b[39m\n",
      "\u001b[90m│   \u001b[39m %40  = (%39 < %38)\u001b[91m\u001b[1m::Any\u001b[22m\u001b[39m\n",
      "\u001b[90m└───\u001b[39m        goto #7 if not %40\n",
      "\u001b[90m6 ──\u001b[39m        (@_22 = %38 < err::Core.Compiler.Const(1.0e-7, false))\n",
      "\u001b[90m└───\u001b[39m        goto #8\n",
      "\u001b[90m7 ──\u001b[39m        (@_22 = false)\n",
      "\u001b[90m8 ┄─\u001b[39m %45  = @_22\u001b[91m\u001b[1m::Any\u001b[22m\u001b[39m\n",
      "\u001b[90m│   \u001b[39m %46  = !%45\u001b[33m\u001b[1m::Union{Missing, Bool, Base.var\"#64#65\"{_A} where _A}\u001b[22m\u001b[39m\n",
      "\u001b[90m└───\u001b[39m        goto #27 if not %46\n",
      "\u001b[90m9 ──\u001b[39m %48  = Base.getindex(o, 3)\u001b[91m\u001b[1m::Any\u001b[22m\u001b[39m\n",
      "\u001b[90m│   \u001b[39m %49  = -%48\u001b[91m\u001b[1m::Any\u001b[22m\u001b[39m\n",
      "\u001b[90m│   \u001b[39m %50  = Base.getindex(d, 3)\u001b[91m\u001b[1m::Any\u001b[22m\u001b[39m\n",
      "\u001b[90m│   \u001b[39m        (alpha = %49 / %50)\n",
      "\u001b[90m│   \u001b[39m %52  = -err::Core.Compiler.Const(1.0e-7, false)\u001b[36m::Core.Compiler.Const(-1.0e-7, false)\u001b[39m\n",
      "\u001b[90m│   \u001b[39m %53  = (%52 <= alpha)\u001b[91m\u001b[1m::Any\u001b[22m\u001b[39m\n",
      "\u001b[90m└───\u001b[39m        goto #11 if not %53\n",
      "\u001b[90m10 ─\u001b[39m %55  = alpha\u001b[91m\u001b[1m::Any\u001b[22m\u001b[39m\n",
      "\u001b[90m│   \u001b[39m %56  = (1 + err::Core.Compiler.Const(1.0e-7, false))\u001b[36m::Core.Compiler.Const(1.0000001, false)\u001b[39m\n",
      "\u001b[90m│   \u001b[39m        (@_23 = %55 <= %56)\n",
      "\u001b[90m└───\u001b[39m        goto #12\n",
      "\u001b[90m11 ─\u001b[39m        (@_23 = false)\n",
      "\u001b[90m12 ┄\u001b[39m        goto #27 if not @_23\n",
      "\u001b[90m13 ─\u001b[39m %61  = o\u001b[91m\u001b[1m::Any\u001b[22m\u001b[39m\n",
      "\u001b[90m│   \u001b[39m %62  = (alpha * d)\u001b[91m\u001b[1m::Any\u001b[22m\u001b[39m\n",
      "\u001b[90m│   \u001b[39m        (p = %61 + %62)\n",
      "\u001b[90m│   \u001b[39m %64  = -err::Core.Compiler.Const(1.0e-7, false)\u001b[36m::Core.Compiler.Const(-1.0e-7, false)\u001b[39m\n",
      "\u001b[90m│   \u001b[39m %65  = (%64 < alpha)\u001b[91m\u001b[1m::Any\u001b[22m\u001b[39m\n",
      "\u001b[90m└───\u001b[39m        goto #15 if not %65\n",
      "\u001b[90m14 ─\u001b[39m        (@_24 = alpha < err::Core.Compiler.Const(1.0e-7, false))\n",
      "\u001b[90m└───\u001b[39m        goto #16\n",
      "\u001b[90m15 ─\u001b[39m        (@_24 = false)\n",
      "\u001b[90m16 ┄\u001b[39m %70  = @_24\u001b[91m\u001b[1m::Any\u001b[22m\u001b[39m\n",
      "\u001b[90m└───\u001b[39m        goto #18 if not %70\n",
      "\u001b[90m17 ─\u001b[39m        (@_25 = %70)\n",
      "\u001b[90m└───\u001b[39m        goto #22\n",
      "\u001b[90m18 ─\u001b[39m %74  = (1 - err::Core.Compiler.Const(1.0e-7, false))\u001b[36m::Core.Compiler.Const(0.9999999, false)\u001b[39m\n",
      "\u001b[90m│   \u001b[39m %75  = (%74 < alpha)\u001b[91m\u001b[1m::Any\u001b[22m\u001b[39m\n",
      "\u001b[90m└───\u001b[39m        goto #20 if not %75\n",
      "\u001b[90m19 ─\u001b[39m %77  = alpha\u001b[91m\u001b[1m::Any\u001b[22m\u001b[39m\n",
      "\u001b[90m│   \u001b[39m %78  = (1 + err::Core.Compiler.Const(1.0e-7, false))\u001b[36m::Core.Compiler.Const(1.0000001, false)\u001b[39m\n",
      "\u001b[90m│   \u001b[39m        (@_26 = %77 < %78)\n",
      "\u001b[90m└───\u001b[39m        goto #21\n",
      "\u001b[90m20 ─\u001b[39m        (@_26 = false)\n",
      "\u001b[90m21 ┄\u001b[39m        (@_25 = @_26)\n",
      "\u001b[90m22 ┄\u001b[39m        goto #26 if not @_25\n",
      "\u001b[90m23 ─\u001b[39m %84  = Base.getproperty(Main.Lar, :vin)\u001b[91m\u001b[1m::Any\u001b[22m\u001b[39m\n",
      "\u001b[90m│   \u001b[39m %85  = p\u001b[91m\u001b[1m::Any\u001b[22m\u001b[39m\n",
      "\u001b[90m│   \u001b[39m %86  = (%84)(%85, visited_verts)\u001b[91m\u001b[1m::Any\u001b[22m\u001b[39m\n",
      "\u001b[90m│   \u001b[39m %87  = !%86\u001b[33m\u001b[1m::Union{Missing, Bool, Base.var\"#64#65\"{_A} where _A}\u001b[22m\u001b[39m\n",
      "\u001b[90m└───\u001b[39m        goto #25 if not %87\n",
      "\u001b[90m24 ─\u001b[39m        Main.push!(visited_verts, p)\n",
      "\u001b[90m│   \u001b[39m %90  = retV\u001b[91m\u001b[1m::Any\u001b[22m\u001b[39m\n",
      "\u001b[90m│   \u001b[39m %91  = Main.reshape(p, 1, 3)\u001b[91m\u001b[1m::Any\u001b[22m\u001b[39m\n",
      "\u001b[90m└───\u001b[39m        (retV = Base.vcat(%90, %91))\n",
      "\u001b[90m25 ┄\u001b[39m        goto #27\n",
      "\u001b[90m26 ─\u001b[39m %94  = retV\u001b[91m\u001b[1m::Any\u001b[22m\u001b[39m\n",
      "\u001b[90m│   \u001b[39m %95  = Main.reshape(p, 1, 3)\u001b[91m\u001b[1m::Any\u001b[22m\u001b[39m\n",
      "\u001b[90m└───\u001b[39m        (retV = Base.vcat(%94, %95))\n",
      "\u001b[90m27 ┄\u001b[39m        (@_7 = Base.iterate(%11, %23))\n",
      "\u001b[90m│   \u001b[39m %98  = (@_7 === nothing)\u001b[36m::Bool\u001b[39m\n",
      "\u001b[90m│   \u001b[39m %99  = Base.not_int(%98)\u001b[36m::Bool\u001b[39m\n",
      "\u001b[90m└───\u001b[39m        goto #29 if not %99\n",
      "\u001b[90m28 ─\u001b[39m        goto #2\n",
      "\u001b[90m29 ┄\u001b[39m        (vnum = Main.size(retV, 1))\n",
      "\u001b[90m│   \u001b[39m %103 = (vnum == 1)\u001b[91m\u001b[1m::Any\u001b[22m\u001b[39m\n",
      "\u001b[90m└───\u001b[39m        goto #31 if not %103\n",
      "\u001b[90m30 ─\u001b[39m        (vnum = 0)\n",
      "\u001b[90m│   \u001b[39m %106 = Base.getproperty(Main.Lar, :Points)\u001b[91m\u001b[1m::Any\u001b[22m\u001b[39m\n",
      "\u001b[90m└───\u001b[39m        (retV = (%106)(Main.undef, 0, 3))\n",
      "\u001b[90m31 ┄\u001b[39m        (enum = vnum ÷ 2)\n",
      "\u001b[90m│   \u001b[39m        (retEV = Main.spzeros(Main.Int8, enum, vnum))\n",
      "\u001b[90m│   \u001b[39m %110 = (1:enum)\u001b[91m\u001b[1m::Any\u001b[22m\u001b[39m\n",
      "\u001b[90m│   \u001b[39m        (@_12 = Base.iterate(%110))\n",
      "\u001b[90m│   \u001b[39m %112 = (@_12 === nothing)\u001b[36m::Bool\u001b[39m\n",
      "\u001b[90m│   \u001b[39m %113 = Base.not_int(%112)\u001b[36m::Bool\u001b[39m\n",
      "\u001b[90m└───\u001b[39m        goto #34 if not %113\n",
      "\u001b[90m32 ┄\u001b[39m %115 = @_12\u001b[91m\u001b[1m::Any\u001b[22m\u001b[39m\n",
      "\u001b[90m│   \u001b[39m        (i@_20 = Core.getfield(%115, 1))\n",
      "\u001b[90m│   \u001b[39m %117 = Core.getfield(%115, 2)\u001b[91m\u001b[1m::Any\u001b[22m\u001b[39m\n",
      "\u001b[90m│   \u001b[39m %118 = Base.vect(-1, 1)\u001b[36m::Array{Int64,1}\u001b[39m\n",
      "\u001b[90m│   \u001b[39m %119 = retEV\u001b[91m\u001b[1m::Union{SparseMatrixCSC{Int8,_A} where _A<:Integer, SparseVector{Int8,_A} where _A<:Integer}\u001b[22m\u001b[39m\n",
      "\u001b[90m│   \u001b[39m %120 = i@_20\u001b[91m\u001b[1m::Any\u001b[22m\u001b[39m\n",
      "\u001b[90m│   \u001b[39m %121 = (2 * i@_20)\u001b[91m\u001b[1m::Any\u001b[22m\u001b[39m\n",
      "\u001b[90m│   \u001b[39m %122 = (%121 - 1)\u001b[91m\u001b[1m::Any\u001b[22m\u001b[39m\n",
      "\u001b[90m│   \u001b[39m %123 = (2 * i@_20)\u001b[91m\u001b[1m::Any\u001b[22m\u001b[39m\n",
      "\u001b[90m│   \u001b[39m %124 = (%122:%123)\u001b[91m\u001b[1m::Any\u001b[22m\u001b[39m\n",
      "\u001b[90m│   \u001b[39m        Base.setindex!(%119, %118, %120, %124)\n",
      "\u001b[90m│   \u001b[39m        (@_12 = Base.iterate(%110, %117))\n",
      "\u001b[90m│   \u001b[39m %127 = (@_12 === nothing)\u001b[36m::Bool\u001b[39m\n",
      "\u001b[90m│   \u001b[39m %128 = Base.not_int(%127)\u001b[36m::Bool\u001b[39m\n",
      "\u001b[90m└───\u001b[39m        goto #34 if not %128\n",
      "\u001b[90m33 ─\u001b[39m        goto #32\n",
      "\u001b[90m34 ┄\u001b[39m %131 = Core.tuple(retV, retEV)\u001b[91m\u001b[1m::Tuple{Any,Union{SparseMatrixCSC{Int8,_A} where _A<:Integer, SparseVector{Int8,_A} where _A<:Integer}}\u001b[22m\u001b[39m\n",
      "\u001b[90m└───\u001b[39m        return %131\n"
     ]
    }
   ],
   "source": [
    "@code_warntype face_int(tV, copEV, copFE[i, :])"
   ]
  },
  {
   "cell_type": "markdown",
   "metadata": {},
   "source": [
    "La funzione è type stable in quanto ritorna:  \n",
    "\n",
    "    Body::Tuple{Any,Union{SparseMatrixCSC{Int8,_A} where _A<:Integer, SparseVector{Int8,_A} where _A<:Integer}}\n"
   ]
  },
  {
   "cell_type": "markdown",
   "metadata": {},
   "source": [
    "## 2) Refactoring del codice\n",
    "\n",
    "Alla funzione è stata cambiata l'interfaccia per essere compatibile con la nuova versione di frag_face. Il codice di face_int è anch'esso cambiato in quanto adesso non vengono passati tutti i vertici convertiti ma solo i vertici della faccia i intersecante. Pertanto non serve passare la singola riga di copFE."
   ]
  },
  {
   "cell_type": "code",
   "execution_count": 15,
   "metadata": {},
   "outputs": [
    {
     "name": "stdout",
     "output_type": "stream",
     "text": [
      "  4.359 μs (50 allocations: 3.67 KiB)\n"
     ]
    },
    {
     "data": {
      "text/plain": [
       "(Any[0.0 0.0 0.0; 9.0 18.0 0.0], \n",
       "  [1, 1]  =  -1\n",
       "  [1, 2]  =  1)"
      ]
     },
     "execution_count": 15,
     "metadata": {},
     "output_type": "execute_result"
    }
   ],
   "source": [
    "function face_int(V::Lar.Points, EV::Lar.ChainOp)\n",
    "    retV = Lar.Points(undef, 0, 3)\n",
    "    visited_verts = []\n",
    "    for i in 1:size(V,1)\n",
    "        o = V[i,:]\n",
    "        j = i < size(V,1) ? i+1 : 1\n",
    "        d = V[j,:] - o\n",
    "        err = 10e-8\n",
    "        # err = 10e-4\n",
    "        if !(-err < d[3] < err)\n",
    "            alpha = -o[3] / d[3]\n",
    "            if -err <= alpha <= 1+err\n",
    "                p = o + alpha*d\n",
    "\n",
    "                if -err < alpha < err || 1-err < alpha < 1+err\n",
    "                    if !(Lar.vin(p, visited_verts))\n",
    "                        push!(visited_verts, p)\n",
    "                        retV = [retV; reshape(p, 1, 3)]\n",
    "                    end\n",
    "                else\n",
    "                    retV = [retV; reshape(p, 1, 3)]\n",
    "                end\n",
    "            end\n",
    "        end\n",
    "    end\n",
    "    vnum = size(retV, 1)\n",
    "    if vnum == 1\n",
    "        vnum = 0\n",
    "        retV = Lar.Points(undef, 0, 3)\n",
    "    end\n",
    "    enum = (÷)(vnum, 2)\n",
    "    retEV = spzeros(Int8, enum, vnum)\n",
    "\n",
    "    for i in 1:enum\n",
    "        retEV[i, 2*i-1:2*i] = [-1, 1]\n",
    "    end\n",
    "    retV, retEV\n",
    "end\n",
    "\n",
    "tV =  [9.0   9.0  -27.0;\n",
    "       0.0   0.0    0.0;\n",
    "       9.0  18.0    0.0]\n",
    "EV=[[1,2],[1,3],[1,4],[2,3],[2,4],[3,4],[5,6],[5,7],[5,8],[6,7],[6,8],[7,8]]\n",
    "copEV = Lar.coboundary_0(EV::Lar.Cells)\n",
    "\n",
    "@btime face_int(tV, copEV)"
   ]
  },
  {
   "cell_type": "markdown",
   "metadata": {},
   "source": [
    "## 3) Parallelizzazione cicli con i threads\n",
    "\n",
    "Abbiamo deciso di non parallelizzare l'ultimo for in quanto questa funzione avrà sempre a che fare con input abbastanza piccoli e l'overhead dell'impiego di thread è sconveniente per il tempo di computazione."
   ]
  },
  {
   "cell_type": "code",
   "execution_count": 17,
   "metadata": {},
   "outputs": [
    {
     "name": "stdout",
     "output_type": "stream",
     "text": [
      "  10.350 μs (59 allocations: 5.17 KiB)\n"
     ]
    },
    {
     "data": {
      "text/plain": [
       "(Any[0.0 0.0 0.0; 9.0 18.0 0.0], \n",
       "  [1, 1]  =  -1\n",
       "  [1, 2]  =  1)"
      ]
     },
     "execution_count": 17,
     "metadata": {},
     "output_type": "execute_result"
    }
   ],
   "source": [
    "function face_int(V::Lar.Points, EV::Lar.ChainOp)\n",
    "    retV = Lar.Points(undef, 0, 3)\n",
    "    visited_verts = []\n",
    "    for i in 1:size(V,1)\n",
    "        o = V[i,:]\n",
    "        j = i < size(V,1) ? i+1 : 1\n",
    "        d = V[j,:] - o\n",
    "        err = 10e-8\n",
    "        # err = 10e-4\n",
    "        if !(-err < d[3] < err)\n",
    "            alpha = -o[3] / d[3]\n",
    "            if -err <= alpha <= 1+err\n",
    "                p = o + alpha*d\n",
    "\n",
    "                if -err < alpha < err || 1-err < alpha < 1+err\n",
    "                    if !(Lar.vin(p, visited_verts))\n",
    "                        push!(visited_verts, p)\n",
    "                        retV = [retV; reshape(p, 1, 3)]\n",
    "                    end\n",
    "                else\n",
    "                    retV = [retV; reshape(p, 1, 3)]\n",
    "                end\n",
    "            end\n",
    "        end\n",
    "    end\n",
    "    vnum = size(retV, 1)\n",
    "    if vnum == 1\n",
    "        vnum = 0\n",
    "        retV = Lar.Points(undef, 0, 3)\n",
    "    end\n",
    "    enum = (÷)(vnum, 2)\n",
    "    retEV = spzeros(Int8, enum, vnum)\n",
    "\n",
    "    @threads for i in 1:enum\n",
    "        retEV[i, 2*i-1:2*i] = [-1, 1]\n",
    "    end\n",
    "    retV, retEV\n",
    "end\n",
    "\n",
    "@btime face_int(tV, copEV)"
   ]
  }
 ],
 "metadata": {
  "kernelspec": {
   "display_name": "Julia 1.5.2",
   "language": "julia",
   "name": "julia-1.5"
  },
  "language_info": {
   "file_extension": ".jl",
   "mimetype": "application/julia",
   "name": "julia",
   "version": "1.5.2"
  }
 },
 "nbformat": 4,
 "nbformat_minor": 2
}
