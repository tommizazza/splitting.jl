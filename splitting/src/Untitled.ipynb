{
 "cells": [
  {
   "cell_type": "code",
   "execution_count": 1,
   "metadata": {},
   "outputs": [],
   "source": [
    "using LinearAlgebraicRepresentation\n",
    "Lar = LinearAlgebraicRepresentation\n",
    "using IntervalTrees\n",
    "using SparseArrays\n",
    "using NearestNeighbors\n",
    "using DataStructures\n",
    "using OrderedCollections\n",
    "using BenchmarkTools\n",
    "using LinearAlgebra"
   ]
  },
  {
   "cell_type": "markdown",
   "metadata": {},
   "source": [
    "## Funzione da ottimizzare"
   ]
  },
  {
   "cell_type": "code",
   "execution_count": 2,
   "metadata": {},
   "outputs": [
    {
     "data": {
      "text/plain": [
       "frag_face (generic function with 1 method)"
      ]
     },
     "execution_count": 2,
     "metadata": {},
     "output_type": "execute_result"
    }
   ],
   "source": [
    "function frag_face(V, EV, FE, sp_idx, sigma)\n",
    "\n",
    "    vs_num = size(V, 1)\n",
    "\n",
    "\t# 2D transformation of sigma face\n",
    "    sigmavs = (abs.(FE[sigma:sigma,:]) * abs.(EV))[1,:].nzind\n",
    "    sV = V[sigmavs, :]\n",
    "    sEV = EV[FE[sigma, :].nzind, sigmavs]\n",
    "    M = submanifold_mapping(sV)\n",
    "    tV = ([V ones(vs_num)]*M)[:, 1:3]  # folle convertire *tutti* i vertici\n",
    "    sV = tV[sigmavs, :]\n",
    "    # sigma face intersection with faces in sp_idx[sigma]\n",
    "    for i in sp_idx[sigma]\n",
    "        tmpV, tmpEV = face_int(tV, EV, FE[i, :])\n",
    "\t\tsV, sEV\n",
    "        sV, sEV = skel_merge(sV, sEV, tmpV, tmpEV)\n",
    "    end\n",
    "    \n",
    "    # computation of 2D arrangement of sigma face\n",
    "    sV = sV[:, 1:2]\n",
    "    nV, nEV, nFE = Lar.planar_arrangement(sV, sEV, sparsevec(ones(Int8, length(sigmavs))))\n",
    "    if nV == nothing ## not possible !! ... (each original face maps to its decomposition)\n",
    "        return [], spzeros(Int8, 0,0), spzeros(Int8, 0,0)\n",
    "    end\n",
    "    nvsize = size(nV, 1)\n",
    "    nV = [nV zeros(nvsize) ones(nvsize)]*inv(M)[:, 1:3] ## ????\n",
    "    return nV, nEV, nFE\n",
    "end"
   ]
  },
  {
   "cell_type": "markdown",
   "metadata": {},
   "source": [
    "## Dipendenze della funzione"
   ]
  },
  {
   "cell_type": "code",
   "execution_count": 3,
   "metadata": {},
   "outputs": [
    {
     "data": {
      "text/plain": [
       "skel_merge (generic function with 2 methods)"
      ]
     },
     "execution_count": 3,
     "metadata": {},
     "output_type": "execute_result"
    }
   ],
   "source": [
    "function face_int(V::Lar.Points, EV::Lar.ChainOp, face::Lar.Cell)\n",
    "    vs = Lar.buildFV(EV, face)\n",
    "    retV = Lar.Points(undef, 0, 3)\n",
    "    visited_verts = []\n",
    "    for i in 1:length(vs)\n",
    "        o = V[vs[i],:]\n",
    "        j = i < length(vs) ? i+1 : 1\n",
    "        d = V[vs[j],:] - o\n",
    "\n",
    "        err = 10e-8\n",
    "        # err = 10e-4\n",
    "        if !(-err < d[3] < err)\n",
    "\n",
    "            alpha = -o[3] / d[3]\n",
    "\n",
    "            if -err <= alpha <= 1+err\n",
    "                p = o + alpha*d\n",
    "\n",
    "                if -err < alpha < err || 1-err < alpha < 1+err\n",
    "                    if !(Lar.vin(p, visited_verts))\n",
    "                        push!(visited_verts, p)\n",
    "                        retV = [retV; reshape(p, 1, 3)]\n",
    "                    end\n",
    "                else\n",
    "                    retV = [retV; reshape(p, 1, 3)]\n",
    "                end\n",
    "            end\n",
    "        end\n",
    "\n",
    "    end\n",
    "\n",
    "    vnum = size(retV, 1)\n",
    "\n",
    "\n",
    "    if vnum == 1\n",
    "        vnum = 0\n",
    "        retV = Lar.Points(undef, 0, 3)\n",
    "    end\n",
    "    enum = (÷)(vnum, 2)\n",
    "    retEV = spzeros(Int8, enum, vnum)\n",
    "\n",
    "    for i in 1:enum\n",
    "        retEV[i, 2*i-1:2*i] = [-1, 1]\n",
    "    end\n",
    "\n",
    "    retV, retEV\n",
    "end\n",
    "\n",
    "function submanifold_mapping(vs)\n",
    "    u1 = vs[2,:] - vs[1,:]\n",
    "    u2 = vs[3,:] - vs[1,:]\n",
    "    u3 = cross(u1, u2)\n",
    "    T = Matrix{Float64}(LinearAlgebra.I, 4, 4)\n",
    "    T[4, 1:3] = - vs[1,:]\n",
    "    M = Matrix{Float64}(LinearAlgebra.I, 4, 4)\n",
    "    M[1:3, 1:3] = [u1 u2 u3]\n",
    "    return T*M\n",
    "end\n",
    "\n",
    "function skel_merge(V1::Lar.Points, EV1::Lar.ChainOp, V2::Lar.Points, EV2::Lar.ChainOp)\n",
    "    V = [V1; V2]\n",
    "    EV = blockdiag(EV1,EV2)\n",
    "    return V, EV\n",
    "end\n",
    "function skel_merge(V1::Lar.Points, EV1::Lar.ChainOp, FE1::Lar.ChainOp, V2::Lar.Points, EV2::Lar.ChainOp, FE2::Lar.ChainOp)\n",
    "    FE = blockdiag(FE1,FE2)\n",
    "    V, EV = skel_merge(V1, EV1, V2, EV2)\n",
    "    return V, EV, FE\n",
    "end\n"
   ]
  },
  {
   "cell_type": "markdown",
   "metadata": {},
   "source": [
    "## Dati in input"
   ]
  },
  {
   "cell_type": "code",
   "execution_count": 4,
   "metadata": {},
   "outputs": [
    {
     "data": {
      "text/plain": [
       "1"
      ]
     },
     "execution_count": 4,
     "metadata": {},
     "output_type": "execute_result"
    }
   ],
   "source": [
    "numThet = 60\n",
    "b=[[(-4.0*numThet), (4.0*numThet)+20, ((4.0*numThet)/2), ((4.0*numThet)/2)],\n",
    "[10.0, 10.0, -40.0, 5.0],\n",
    "[0.0, 0.0, 0.0, -1.0]]\n",
    "EV=[[1,2],[1,3],[1,4],[2,3],[2,4],[3,4]]\n",
    "FV=[[1,2,3],[1,2,4],[1,3,4],[2,3,4]]\n",
    "CV=[[1,2,3,4]]\n",
    "\n",
    "for i=2:(numThet+1)\n",
    "    push!(b[1],(1.0 + i*4))\n",
    "    push!(b[2],(1.0))\n",
    "    push!(b[3],(-0.5))\n",
    "\n",
    "    push!(b[1],(4.0 + i*4))\n",
    "    push!(b[2],(1.0))\n",
    "    push!(b[3],(-0.5))\n",
    "\n",
    "    push!(b[1],(2.5 + i*4))\n",
    "    push!(b[2],(4.0))\n",
    "    push!(b[3],(-0.5))\n",
    "\n",
    "    push!(b[1],(2.5 + i*4))\n",
    "    push!(b[2],(2.5))\n",
    "    push!(b[3],(0.5))\n",
    "\n",
    "    push!(EV,[1+4*(i-1),2+4*(i-1)])\n",
    "    push!(EV,[1+4*(i-1),3+4*(i-1)])\n",
    "    push!(EV,[1+4*(i-1),4+4*(i-1)])\n",
    "    push!(EV,[2+4*(i-1),3+4*(i-1)])\n",
    "    push!(EV,[2+4*(i-1),4+4*(i-1)])\n",
    "    push!(EV,[3+4*(i-1),4+4*(i-1)])\n",
    "\n",
    "    push!(FV,[1+4*(i-1),2+4*(i-1),3+4*(i-1)])\n",
    "    push!(FV,[1+4*(i-1),2+4*(i-1),4+4*(i-1)])\n",
    "    push!(FV,[1+4*(i-1),3+4*(i-1),4+4*(i-1)])\n",
    "    push!(FV,[2+4*(i-1),3+4*(i-1),4+4*(i-1)])\n",
    "\n",
    "    push!(CV,[1+4*(i-1),2+4*(i-1),3+4*(i-1),4+4*(i-1)])\n",
    "end\n",
    "V = permutedims(reshape(hcat(b...), (length(b[1]), length(b))))\n",
    "sp_idx = Lar.spaceindex((V,FV))\n",
    "\n",
    "copEV = Lar.coboundary_0(EV::Lar.Cells)\n",
    "copFE = Lar.coboundary_1(V, FV::Lar.Cells, EV::Lar.Cells)\n",
    "V = convert(Array{Float64,2},V') \n",
    "sigma=1 #Faccia che interseca tutti i 240 tetraedri"
   ]
  },
  {
   "cell_type": "markdown",
   "metadata": {},
   "source": [
    "## Benchmark vecchia funzione"
   ]
  },
  {
   "cell_type": "code",
   "execution_count": 11,
   "metadata": {},
   "outputs": [
    {
     "name": "stdout",
     "output_type": "stream",
     "text": [
      "  85.993 ms (747621 allocations: 41.79 MiB)\n"
     ]
    },
    {
     "data": {
      "text/plain": [
       "177×3 Array{Float64,2}:\n",
       " -240.0     10.0      0.0\n",
       "  260.0     10.0      0.0\n",
       "  120.0    -40.0      0.0\n",
       "  237.935    2.11957  0.0\n",
       "  238.894    2.46212  0.0\n",
       "   11.25     1.75     0.0\n",
       "    9.75     1.75     0.0\n",
       "   10.5      3.25     0.0\n",
       "   15.25     1.75     0.0\n",
       "   13.75     1.75     0.0\n",
       "   14.5      3.25     0.0\n",
       "   19.25     1.75     0.0\n",
       "   17.75     1.75     0.0\n",
       "    ⋮                 \n",
       "  221.75     1.75     0.0\n",
       "  222.5      3.25     0.0\n",
       "  227.25     1.75     0.0\n",
       "  225.75     1.75     0.0\n",
       "  226.5      3.25     0.0\n",
       "  231.25     1.75     0.0\n",
       "  229.75     1.75     0.0\n",
       "  230.5      3.25     0.0\n",
       "  235.25     1.75     0.0\n",
       "  233.75     1.75     0.0\n",
       "  234.5      3.25     0.0\n",
       "  238.5      3.25     0.0"
      ]
     },
     "execution_count": 11,
     "metadata": {},
     "output_type": "execute_result"
    }
   ],
   "source": [
    "@btime frag_face(V,copEV,copFE,sp_idx,sigma)[1]"
   ]
  },
  {
   "cell_type": "markdown",
   "metadata": {},
   "source": [
    "## Refactoring codice  \n",
    "  \n",
    "Analizzando il codice, ci siamo accorti che quando si applica la rototraslazione dei punti nel piano z=0 rispetto alla faccia sigma, essa viene applicata a tutti i punti V. (dell'intero modello!!!)  \n",
    "  \n",
    "Questo non è necessario, in quanto lo spaceindex ci dice già a priori quali facce intersecano con la faccia sigma, quindi è sufficiente applicare la rototraslazione ai soli punti di sigma e ai punti delle facce i contenute in spaceindex(sigma), non a tutti i punti V."
   ]
  },
  {
   "cell_type": "code",
   "execution_count": 13,
   "metadata": {},
   "outputs": [
    {
     "name": "stdout",
     "output_type": "stream",
     "text": [
      "  93.463 ms (732616 allocations: 44.02 MiB)\n"
     ]
    },
    {
     "data": {
      "text/plain": [
       "177×3 Array{Float64,2}:\n",
       " -240.0     10.0      0.0\n",
       "  260.0     10.0      0.0\n",
       "  120.0    -40.0      0.0\n",
       "  237.935    2.11957  0.0\n",
       "  238.894    2.46212  0.0\n",
       "   11.25     1.75     0.0\n",
       "    9.75     1.75     0.0\n",
       "   10.5      3.25     0.0\n",
       "   15.25     1.75     0.0\n",
       "   13.75     1.75     0.0\n",
       "   14.5      3.25     0.0\n",
       "   19.25     1.75     0.0\n",
       "   17.75     1.75     0.0\n",
       "    ⋮                 \n",
       "  221.75     1.75     0.0\n",
       "  222.5      3.25     0.0\n",
       "  227.25     1.75     0.0\n",
       "  225.75     1.75     0.0\n",
       "  226.5      3.25     0.0\n",
       "  231.25     1.75     0.0\n",
       "  229.75     1.75     0.0\n",
       "  230.5      3.25     0.0\n",
       "  235.25     1.75     0.0\n",
       "  233.75     1.75     0.0\n",
       "  234.5      3.25     0.0\n",
       "  238.5      3.25     0.0"
      ]
     },
     "execution_count": 13,
     "metadata": {},
     "output_type": "execute_result"
    }
   ],
   "source": [
    "function face_int2(V::Lar.Points, EV::Lar.ChainOp, face::Lar.Cell)\n",
    "    retV = Lar.Points(undef, 0, 3)\n",
    "    visited_verts = []\n",
    "    for i in 1:size(V,1)\n",
    "        o = V[i,:]\n",
    "        j = i < size(V,1) ? i+1 : 1\n",
    "        d = V[j,:] - o\n",
    "        err = 10e-8\n",
    "        # err = 10e-4\n",
    "        if !(-err < d[3] < err)\n",
    "\n",
    "            alpha = -o[3] / d[3]\n",
    "\n",
    "            if -err <= alpha <= 1+err\n",
    "                p = o + alpha*d\n",
    "\n",
    "                if -err < alpha < err || 1-err < alpha < 1+err\n",
    "                    if !(Lar.vin(p, visited_verts))\n",
    "                        push!(visited_verts, p)\n",
    "                        retV = [retV; reshape(p, 1, 3)]\n",
    "                    end\n",
    "                else\n",
    "                    retV = [retV; reshape(p, 1, 3)]\n",
    "                end\n",
    "            end\n",
    "        end\n",
    "\n",
    "    end\n",
    "\n",
    "    vnum = size(retV, 1)\n",
    "\n",
    "\n",
    "    if vnum == 1\n",
    "        vnum = 0\n",
    "        retV = Lar.Points(undef, 0, 3)\n",
    "    end\n",
    "    enum = (÷)(vnum, 2)\n",
    "    retEV = spzeros(Int8, enum, vnum)\n",
    "\n",
    "    for i in 1:enum\n",
    "        retEV[i, 2*i-1:2*i] = [-1, 1]\n",
    "    end\n",
    "\n",
    "    retV, retEV\n",
    "end\n",
    "\n",
    "function frag_face2(V, EV, FE, sp_idx, sigma)\n",
    "    vs_num = size(V, 1)\n",
    "\t# 2D transformation of sigma face\n",
    "    sigmavs = (abs.(FE[sigma:sigma,:]) * abs.(EV))[1,:].nzind\n",
    "    sV = V[sigmavs, :]\n",
    "    sEV = EV[FE[sigma, :].nzind, sigmavs]\n",
    "    M = submanifold_mapping(sV)\n",
    "    #APPLICO LA ROTO TRASLAZIONE AI SOLI PUNTI DELLA FACCIA SIGMA\n",
    "    sV = ([sV ones(size(sV,1))]*M)[:, 1:3] \n",
    "    #Inizializzo vertici faccia i prima del for per evitare la distruzione \n",
    "    #e riallocazione a ogni iterazione...\n",
    "    # sigma face intersection with faces in sp_idx[sigma]\n",
    "    for i in sp_idx[sigma]\n",
    "        faceivs = (abs.(FE[i:i,:]) * abs.(EV))[1,:].nzind\n",
    "        faceiV = V[faceivs, :]\n",
    "        #APPLICO LA ROTO TRASLAZIONE AI SOLI PUNTI DELLA FACCIA I CONTENUTA NELLO SPACEINDEX\n",
    "        tV = ([faceiV ones(size(faceiV, 1))]*M)[:, 1:3]  \n",
    "            tmpV, tmpEV = face_int2(tV, EV, FE[i, :])\n",
    "            sV, sEV = skel_merge(sV, sEV, tmpV, tmpEV)\n",
    "    end\n",
    "    \n",
    "    # computation of 2D arrangement of sigma face\n",
    "    sV = sV[:, 1:2]\n",
    "    nV, nEV, nFE = Lar.Arrangement.planar_arrangement(sV, sEV, sparsevec(ones(Int8, length(sigmavs))))\n",
    "    if nV == nothing ## not possible !! ... (each original face maps to its decomposition)\n",
    "        return [], spzeros(Int8, 0,0), spzeros(Int8, 0,0)\n",
    "    end\n",
    "    nvsize = size(nV, 1)\n",
    "    nV = [nV zeros(nvsize) ones(nvsize)]*inv(M)[:, 1:3] ## ????\n",
    "    return nV, nEV, nFE\n",
    "    \n",
    "end\n",
    "\n",
    "@btime frag_face2(V,copEV,copFE,sp_idx,sigma)[1]"
   ]
  },
  {
   "cell_type": "markdown",
   "metadata": {},
   "source": [
    "## Parallelizzazione cicli con i Threads  \n",
    "  \n",
    "Purtroppo non è stato possibile parallelizzare il ciclo sullo spaceindex di sigma, in quanto la chiamata sV, sEV = skel_merge(sV, sEV, tmpV, tmpEV)"
   ]
  },
  {
   "cell_type": "code",
   "execution_count": null,
   "metadata": {},
   "outputs": [],
   "source": []
  },
  {
   "cell_type": "code",
   "execution_count": null,
   "metadata": {},
   "outputs": [],
   "source": []
  }
 ],
 "metadata": {
  "kernelspec": {
   "display_name": "Julia 1.5.2",
   "language": "julia",
   "name": "julia-1.5"
  },
  "language_info": {
   "file_extension": ".jl",
   "mimetype": "application/julia",
   "name": "julia",
   "version": "1.5.2"
  }
 },
 "nbformat": 4,
 "nbformat_minor": 2
}
