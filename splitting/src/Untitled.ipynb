{
 "cells": [
  {
   "cell_type": "code",
   "execution_count": 1,
   "metadata": {},
   "outputs": [],
   "source": [
    "using LinearAlgebraicRepresentation\n",
    "Lar = LinearAlgebraicRepresentation\n",
    "using IntervalTrees\n",
    "using SparseArrays\n",
    "using NearestNeighbors\n",
    "using DataStructures\n",
    "using OrderedCollections\n",
    "using BenchmarkTools"
   ]
  },
  {
   "cell_type": "code",
   "execution_count": 2,
   "metadata": {},
   "outputs": [
    {
     "data": {
      "text/plain": [
       "intersection (generic function with 1 method)"
      ]
     },
     "execution_count": 2,
     "metadata": {},
     "output_type": "execute_result"
    }
   ],
   "source": [
    "function intersection(line1,line2)\n",
    "    x1,y1,x2,y2 = vcat(line1...)\n",
    "    x3,y3,x4,y4 = vcat(line2...)\n",
    "\n",
    "    det = (x4-x3)*(y1-y2)-(x1-x2)*(y4-y3)\n",
    "    if det != 0.0\n",
    "        a = 1/det\n",
    "        b = [y1-y2 x2-x1; y3-y4 x4-x3]  # x1-x2 => x2-x1 bug in the source link !!\n",
    "        c = [x1-x3; y1-y3]\n",
    "        (β,α) = a * b * c\n",
    "    else\n",
    "        if (y1==y2) == (y3==y4) || (x1==x2) == (x3==x4) # segments collinear\n",
    "             return nothing\n",
    "        else\n",
    "             # segments parallel: no intersection\n",
    "             return nothing\n",
    "        end\n",
    "    end\n",
    "    return α,β\n",
    "end"
   ]
  },
  {
   "cell_type": "code",
   "execution_count": 3,
   "metadata": {},
   "outputs": [
    {
     "name": "stdout",
     "output_type": "stream",
     "text": [
      "  884.265 ns (25 allocations: 592 bytes)\n"
     ]
    }
   ],
   "source": [
    "line1 = [0.0 0.0; 0.0 1.0]\n",
    "line2 = [1.0 1.0; 0.0 1.0]\n",
    "@btime intersection(line1, line2)"
   ]
  },
  {
   "cell_type": "markdown",
   "metadata": {},
   "source": [
    "## Controllo se la funzione è type unstable"
   ]
  },
  {
   "cell_type": "code",
   "execution_count": 4,
   "metadata": {},
   "outputs": [
    {
     "name": "stdout",
     "output_type": "stream",
     "text": [
      "Variables\n",
      "  #self#\u001b[36m::Core.Compiler.Const(intersection, false)\u001b[39m\n",
      "  line1\u001b[36m::Array{Float64,2}\u001b[39m\n",
      "  line2\u001b[36m::Array{Float64,2}\u001b[39m\n",
      "  @_4\u001b[36m::Int64\u001b[39m\n",
      "  @_5\u001b[36m::Int64\u001b[39m\n",
      "  @_6\u001b[91m\u001b[1m::Any\u001b[22m\u001b[39m\n",
      "  x1\u001b[91m\u001b[1m::Any\u001b[22m\u001b[39m\n",
      "  y1\u001b[91m\u001b[1m::Any\u001b[22m\u001b[39m\n",
      "  x2\u001b[91m\u001b[1m::Any\u001b[22m\u001b[39m\n",
      "  y2\u001b[91m\u001b[1m::Any\u001b[22m\u001b[39m\n",
      "  x3\u001b[91m\u001b[1m::Any\u001b[22m\u001b[39m\n",
      "  y3\u001b[91m\u001b[1m::Any\u001b[22m\u001b[39m\n",
      "  x4\u001b[91m\u001b[1m::Any\u001b[22m\u001b[39m\n",
      "  y4\u001b[91m\u001b[1m::Any\u001b[22m\u001b[39m\n",
      "  det\u001b[91m\u001b[1m::Any\u001b[22m\u001b[39m\n",
      "  a\u001b[91m\u001b[1m::Any\u001b[22m\u001b[39m\n",
      "  b\u001b[91m\u001b[1m::Any\u001b[22m\u001b[39m\n",
      "  c\u001b[91m\u001b[1m::Any\u001b[22m\u001b[39m\n",
      "  β\u001b[91m\u001b[1m::Any\u001b[22m\u001b[39m\n",
      "  α\u001b[91m\u001b[1m::Any\u001b[22m\u001b[39m\n",
      "  @_21\u001b[91m\u001b[1m::Any\u001b[22m\u001b[39m\n",
      "\n",
      "Body\u001b[33m\u001b[1m::Union{Nothing, Tuple{Any,Any}}\u001b[22m\u001b[39m\n",
      "\u001b[90m1 ─\u001b[39m       Core.NewvarNode(:(@_6))\n",
      "\u001b[90m│  \u001b[39m       Core.NewvarNode(:(a))\n",
      "\u001b[90m│  \u001b[39m       Core.NewvarNode(:(b))\n",
      "\u001b[90m│  \u001b[39m       Core.NewvarNode(:(c))\n",
      "\u001b[90m│  \u001b[39m       Core.NewvarNode(:(β))\n",
      "\u001b[90m│  \u001b[39m       Core.NewvarNode(:(α))\n",
      "\u001b[90m│  \u001b[39m %7  = Core._apply_iterate(Base.iterate, Main.vcat, line1)\u001b[91m\u001b[1m::Union{Array{Any,1}, Array{Float64,1}}\u001b[22m\u001b[39m\n",
      "\u001b[90m│  \u001b[39m %8  = Base.indexed_iterate(%7, 1)\u001b[91m\u001b[1m::Tuple{Any,Int64}\u001b[22m\u001b[39m\n",
      "\u001b[90m│  \u001b[39m       (x1 = Core.getfield(%8, 1))\n",
      "\u001b[90m│  \u001b[39m       (@_4 = Core.getfield(%8, 2))\n",
      "\u001b[90m│  \u001b[39m %11 = Base.indexed_iterate(%7, 2, @_4)\u001b[91m\u001b[1m::Tuple{Any,Int64}\u001b[22m\u001b[39m\n",
      "\u001b[90m│  \u001b[39m       (y1 = Core.getfield(%11, 1))\n",
      "\u001b[90m│  \u001b[39m       (@_4 = Core.getfield(%11, 2))\n",
      "\u001b[90m│  \u001b[39m %14 = Base.indexed_iterate(%7, 3, @_4)\u001b[91m\u001b[1m::Tuple{Any,Int64}\u001b[22m\u001b[39m\n",
      "\u001b[90m│  \u001b[39m       (x2 = Core.getfield(%14, 1))\n",
      "\u001b[90m│  \u001b[39m       (@_4 = Core.getfield(%14, 2))\n",
      "\u001b[90m│  \u001b[39m %17 = Base.indexed_iterate(%7, 4, @_4)\u001b[91m\u001b[1m::Tuple{Any,Int64}\u001b[22m\u001b[39m\n",
      "\u001b[90m│  \u001b[39m       (y2 = Core.getfield(%17, 1))\n",
      "\u001b[90m│  \u001b[39m %19 = Core._apply_iterate(Base.iterate, Main.vcat, line2)\u001b[91m\u001b[1m::Union{Array{Any,1}, Array{Float64,1}}\u001b[22m\u001b[39m\n",
      "\u001b[90m│  \u001b[39m %20 = Base.indexed_iterate(%19, 1)\u001b[91m\u001b[1m::Tuple{Any,Int64}\u001b[22m\u001b[39m\n",
      "\u001b[90m│  \u001b[39m       (x3 = Core.getfield(%20, 1))\n",
      "\u001b[90m│  \u001b[39m       (@_5 = Core.getfield(%20, 2))\n",
      "\u001b[90m│  \u001b[39m %23 = Base.indexed_iterate(%19, 2, @_5)\u001b[91m\u001b[1m::Tuple{Any,Int64}\u001b[22m\u001b[39m\n",
      "\u001b[90m│  \u001b[39m       (y3 = Core.getfield(%23, 1))\n",
      "\u001b[90m│  \u001b[39m       (@_5 = Core.getfield(%23, 2))\n",
      "\u001b[90m│  \u001b[39m %26 = Base.indexed_iterate(%19, 3, @_5)\u001b[91m\u001b[1m::Tuple{Any,Int64}\u001b[22m\u001b[39m\n",
      "\u001b[90m│  \u001b[39m       (x4 = Core.getfield(%26, 1))\n",
      "\u001b[90m│  \u001b[39m       (@_5 = Core.getfield(%26, 2))\n",
      "\u001b[90m│  \u001b[39m %29 = Base.indexed_iterate(%19, 4, @_5)\u001b[91m\u001b[1m::Tuple{Any,Int64}\u001b[22m\u001b[39m\n",
      "\u001b[90m│  \u001b[39m       (y4 = Core.getfield(%29, 1))\n",
      "\u001b[90m│  \u001b[39m %31 = (x4 - x3)\u001b[91m\u001b[1m::Any\u001b[22m\u001b[39m\n",
      "\u001b[90m│  \u001b[39m %32 = (y1 - y2)\u001b[91m\u001b[1m::Any\u001b[22m\u001b[39m\n",
      "\u001b[90m│  \u001b[39m %33 = (%31 * %32)\u001b[91m\u001b[1m::Any\u001b[22m\u001b[39m\n",
      "\u001b[90m│  \u001b[39m %34 = (x1 - x2)\u001b[91m\u001b[1m::Any\u001b[22m\u001b[39m\n",
      "\u001b[90m│  \u001b[39m %35 = (y4 - y3)\u001b[91m\u001b[1m::Any\u001b[22m\u001b[39m\n",
      "\u001b[90m│  \u001b[39m %36 = (%34 * %35)\u001b[91m\u001b[1m::Any\u001b[22m\u001b[39m\n",
      "\u001b[90m│  \u001b[39m       (det = %33 - %36)\n",
      "\u001b[90m│  \u001b[39m %38 = (det != 0.0)\u001b[33m\u001b[1m::Union{Missing, Bool, Base.var\"#64#65\"{_A} where _A}\u001b[22m\u001b[39m\n",
      "\u001b[90m└──\u001b[39m       goto #3 if not %38\n",
      "\u001b[90m2 ─\u001b[39m       (a = 1 / det)\n",
      "\u001b[90m│  \u001b[39m %41 = Core.tuple(2, 2)\u001b[36m::Core.Compiler.Const((2, 2), false)\u001b[39m\n",
      "\u001b[90m│  \u001b[39m %42 = (y1 - y2)\u001b[91m\u001b[1m::Any\u001b[22m\u001b[39m\n",
      "\u001b[90m│  \u001b[39m %43 = (x2 - x1)\u001b[91m\u001b[1m::Any\u001b[22m\u001b[39m\n",
      "\u001b[90m│  \u001b[39m %44 = (y3 - y4)\u001b[91m\u001b[1m::Any\u001b[22m\u001b[39m\n",
      "\u001b[90m│  \u001b[39m %45 = (x4 - x3)\u001b[91m\u001b[1m::Any\u001b[22m\u001b[39m\n",
      "\u001b[90m│  \u001b[39m       (b = Base.hvcat(%41, %42, %43, %44, %45))\n",
      "\u001b[90m│  \u001b[39m %47 = (x1 - x3)\u001b[91m\u001b[1m::Any\u001b[22m\u001b[39m\n",
      "\u001b[90m│  \u001b[39m %48 = (y1 - y3)\u001b[91m\u001b[1m::Any\u001b[22m\u001b[39m\n",
      "\u001b[90m│  \u001b[39m       (c = Base.vcat(%47, %48))\n",
      "\u001b[90m│  \u001b[39m %50 = (a * b * c)\u001b[91m\u001b[1m::Any\u001b[22m\u001b[39m\n",
      "\u001b[90m│  \u001b[39m %51 = Base.indexed_iterate(%50, 1)\u001b[91m\u001b[1m::Any\u001b[22m\u001b[39m\n",
      "\u001b[90m│  \u001b[39m       (β = Core.getfield(%51, 1))\n",
      "\u001b[90m│  \u001b[39m       (@_6 = Core.getfield(%51, 2))\n",
      "\u001b[90m│  \u001b[39m %54 = Base.indexed_iterate(%50, 2, @_6)\u001b[91m\u001b[1m::Any\u001b[22m\u001b[39m\n",
      "\u001b[90m│  \u001b[39m       (α = Core.getfield(%54, 1))\n",
      "\u001b[90m└──\u001b[39m       goto #9\n",
      "\u001b[90m3 ─\u001b[39m %57 = (y1 == y2)\u001b[91m\u001b[1m::Any\u001b[22m\u001b[39m\n",
      "\u001b[90m│  \u001b[39m %58 = (y3 == y4)\u001b[91m\u001b[1m::Any\u001b[22m\u001b[39m\n",
      "\u001b[90m│  \u001b[39m %59 = (%57 == %58)\u001b[91m\u001b[1m::Any\u001b[22m\u001b[39m\n",
      "\u001b[90m└──\u001b[39m       goto #5 if not %59\n",
      "\u001b[90m4 ─\u001b[39m       (@_21 = %59)\n",
      "\u001b[90m└──\u001b[39m       goto #6\n",
      "\u001b[90m5 ─\u001b[39m %63 = (x1 == x2)\u001b[91m\u001b[1m::Any\u001b[22m\u001b[39m\n",
      "\u001b[90m│  \u001b[39m %64 = (x3 == x4)\u001b[91m\u001b[1m::Any\u001b[22m\u001b[39m\n",
      "\u001b[90m└──\u001b[39m       (@_21 = %63 == %64)\n",
      "\u001b[90m6 ┄\u001b[39m       goto #8 if not @_21\n",
      "\u001b[90m7 ─\u001b[39m       return Main.nothing\n",
      "\u001b[90m8 ─\u001b[39m       return Main.nothing\n",
      "\u001b[90m9 ─\u001b[39m %69 = Core.tuple(α, β)\u001b[91m\u001b[1m::Tuple{Any,Any}\u001b[22m\u001b[39m\n",
      "\u001b[90m└──\u001b[39m       return %69\n"
     ]
    }
   ],
   "source": [
    "@code_warntype intersection(line1, line2)"
   ]
  },
  {
   "cell_type": "markdown",
   "metadata": {},
   "source": [
    "la funzione è type unstable in quanto ho nell'output la stringa: \n",
    "\n",
    "    Body::Union{Nothing, Tuple{Any,Any}}\n",
    "    \n",
    "Il problema è che la funzione può ritornare una tupla di Float64 oppure nothing a seconda se entro nel then oppure nell'else. Il problema è stato risolto sostituendo nothing con ()."
   ]
  }
 ],
 "metadata": {
  "kernelspec": {
   "display_name": "Julia 1.5.2",
   "language": "julia",
   "name": "julia-1.5"
  },
  "language_info": {
   "file_extension": ".jl",
   "mimetype": "application/julia",
   "name": "julia",
   "version": "1.5.2"
  }
 },
 "nbformat": 4,
 "nbformat_minor": 2
}
