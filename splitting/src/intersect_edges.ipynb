{
 "cells": [
  {
   "cell_type": "code",
   "execution_count": 6,
   "metadata": {},
   "outputs": [],
   "source": [
    "using LinearAlgebraicRepresentation\n",
    "Lar = LinearAlgebraicRepresentation\n",
    "using IntervalTrees\n",
    "using SparseArrays\n",
    "using NearestNeighbors\n",
    "using DataStructures\n",
    "using OrderedCollections\n",
    "using BenchmarkTools\n",
    "using LinearAlgebra"
   ]
  },
  {
   "cell_type": "markdown",
   "metadata": {},
   "source": [
    "## Vecchia funzione"
   ]
  },
  {
   "cell_type": "code",
   "execution_count": 7,
   "metadata": {},
   "outputs": [
    {
     "data": {
      "text/plain": [
       "intersect_edges (generic function with 1 method)"
      ]
     },
     "execution_count": 7,
     "metadata": {},
     "output_type": "execute_result"
    }
   ],
   "source": [
    "function intersect_edges(V::Lar.Points, edge1::Lar.Cell, edge2::Lar.Cell)\n",
    "    err = 10e-8\n",
    "\n",
    "    x1, y1, x2, y2 = vcat(map(c->V[c, :], edge1.nzind)...)\n",
    "    x3, y3, x4, y4 = vcat(map(c->V[c, :], edge2.nzind)...)\n",
    "    ret = Array{Tuple{Lar.Points, Float64}, 1}()\n",
    "\n",
    "    v1 = [x2-x1, y2-y1];\n",
    "    v2 = [x4-x3, y4-y3];\n",
    "    v3 = [x3-x1, y3-y1];\n",
    "    ang1 = dot(normalize(v1), normalize(v2))\n",
    "    ang2 = dot(normalize(v1), normalize(v3))\n",
    "    parallel = 1-err < abs(ang1) < 1+err\n",
    "    colinear = parallel && (1-err < abs(ang2) < 1+err || -err < norm(v3) < err)\n",
    "    if colinear\n",
    "        o = [x1 y1]\n",
    "        v = [x2 y2] - o\n",
    "        alpha = 1/dot(v,v')\n",
    "        ps = [x3 y3; x4 y4]\n",
    "        for i in 1:2\n",
    "            a = alpha*dot(v',(reshape(ps[i, :], 1, 2)-o))\n",
    "            if 0 < a < 1\n",
    "                push!(ret, (ps[i:i, :], a))\n",
    "            end\n",
    "        end\n",
    "    elseif !parallel\n",
    "        denom = (v2[2])*(v1[1]) - (v2[1])*(v1[2])\n",
    "        a = ((v2[1])*(-v3[2]) - (v2[2])*(-v3[1])) / denom\n",
    "        b = ((v1[1])*(-v3[2]) - (v1[2])*(-v3[1])) / denom\n",
    "\n",
    "        if -err < a < 1+err && -err <= b <= 1+err\n",
    "            p = [(x1 + a*(x2-x1))  (y1 + a*(y2-y1))]\n",
    "            push!(ret, (p, a))\n",
    "        end\n",
    "    end\n",
    "    return ret\n",
    "end"
   ]
  },
  {
   "cell_type": "markdown",
   "metadata": {},
   "source": [
    "## Dati in input"
   ]
  },
  {
   "cell_type": "code",
   "execution_count": 8,
   "metadata": {},
   "outputs": [
    {
     "data": {
      "text/plain": [
       "1-element Array{Tuple{Array{T,2} where T,Float64},1}:\n",
       " ([0.5 0.5], 0.5)"
      ]
     },
     "execution_count": 8,
     "metadata": {},
     "output_type": "execute_result"
    }
   ],
   "source": [
    "V = [0.0 1.0 0.0 1.0; 0.0 1.0 1.0 0.0 ]\n",
    "EV=[[1,2],[3,4]]\n",
    "cop_EV = Lar.coboundary_0(EV::Lar.Cells)\n",
    "W = convert(Lar.Points, V')\n",
    "\n",
    "intersect_edges(W,cop_EV[1, :],cop_EV[2, :])"
   ]
  },
  {
   "cell_type": "markdown",
   "metadata": {},
   "source": [
    "## Conversione vertici in Float128"
   ]
  },
  {
   "cell_type": "code",
   "execution_count": 11,
   "metadata": {},
   "outputs": [
    {
     "data": {
      "text/plain": [
       "1-element Array{Tuple{Array{T,2} where T,Float64},1}:\n",
       " ([0.5 0.5], 0.5)"
      ]
     },
     "execution_count": 11,
     "metadata": {},
     "output_type": "execute_result"
    }
   ],
   "source": [
    "using Quadmath\n",
    "function intersect_edges(V::Lar.Points, edge1::Lar.Cell, edge2::Lar.Cell)\n",
    "    err = 10e-8\n",
    "\n",
    "    x1::Float128, y1::Float128, x2::Float128, y2::Float128 = vcat(map(c->V[c, :], edge1.nzind)...)\n",
    "    x3::Float128, y3::Float128, x4::Float128, y4::Float128 = vcat(map(c->V[c, :], edge2.nzind)...)\n",
    "    ret = Array{Tuple{Lar.Points, Float64}, 1}()\n",
    "\n",
    "    v1 = [x2-x1, y2-y1];\n",
    "    v2 = [x4-x3, y4-y3];\n",
    "    v3 = [x3-x1, y3-y1];\n",
    "    ang1 = dot(normalize(v1), normalize(v2))\n",
    "    ang2 = dot(normalize(v1), normalize(v3))\n",
    "    parallel = 1-err < abs(ang1) < 1+err\n",
    "    colinear = parallel && (1-err < abs(ang2) < 1+err || -err < norm(v3) < err)\n",
    "    if colinear\n",
    "        o = [x1 y1]\n",
    "        v = [x2 y2] - o\n",
    "        alpha = 1/dot(v,v')\n",
    "        ps = [x3 y3; x4 y4]\n",
    "        for i in 1:2\n",
    "            a = alpha*dot(v',(reshape(ps[i, :], 1, 2)-o))\n",
    "            if 0 < a < 1\n",
    "                push!(ret, (map(x -> convert(Float64,x),ps[i:i, :]), a))\n",
    "            end\n",
    "        end\n",
    "    elseif !parallel\n",
    "        denom = (v2[2])*(v1[1]) - (v2[1])*(v1[2])\n",
    "        a = ((v2[1])*(-v3[2]) - (v2[2])*(-v3[1])) / denom\n",
    "        b = ((v1[1])*(-v3[2]) - (v1[2])*(-v3[1])) / denom\n",
    "\n",
    "        if -err < a < 1+err && -err <= b <= 1+err\n",
    "            p = [(x1 + a*(x2-x1))  (y1 + a*(y2-y1))]\n",
    "            push!(ret, (map(x -> convert(Float64,x),p), a))\n",
    "        end\n",
    "    end\n",
    "    return ret\n",
    "end\n",
    "\n",
    "intersect_edges(W,cop_EV[1, :],cop_EV[2, :])"
   ]
  },
  {
   "cell_type": "code",
   "execution_count": null,
   "metadata": {},
   "outputs": [],
   "source": []
  }
 ],
 "metadata": {
  "kernelspec": {
   "display_name": "Julia 1.5.2",
   "language": "julia",
   "name": "julia-1.5"
  },
  "language_info": {
   "file_extension": ".jl",
   "mimetype": "application/julia",
   "name": "julia",
   "version": "1.5.2"
  }
 },
 "nbformat": 4,
 "nbformat_minor": 2
}
