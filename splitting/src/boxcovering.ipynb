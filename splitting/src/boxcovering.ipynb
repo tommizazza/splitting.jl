{
 "cells": [
  {
   "cell_type": "code",
   "execution_count": 8,
   "metadata": {},
   "outputs": [],
   "source": [
    "using LinearAlgebraicRepresentation\n",
    "Lar = LinearAlgebraicRepresentation\n",
    "using IntervalTrees\n",
    "using BenchmarkTools\n",
    "using OrderedCollections"
   ]
  },
  {
   "cell_type": "markdown",
   "metadata": {},
   "source": [
    "## Funzione da ottimizzare"
   ]
  },
  {
   "cell_type": "code",
   "execution_count": 9,
   "metadata": {},
   "outputs": [
    {
     "data": {
      "text/plain": [
       "boxcovering (generic function with 1 method)"
      ]
     },
     "execution_count": 9,
     "metadata": {},
     "output_type": "execute_result"
    }
   ],
   "source": [
    "function boxcovering(bboxes, index, tree)\n",
    "    covers = [[] for k=1:length(bboxes)]\n",
    "    for (i,boundingbox) in enumerate(bboxes)\n",
    "        extent = bboxes[i][index,:]\n",
    "        iterator = IntervalTrees.intersect(tree, tuple(extent...))\n",
    "        for x in iterator\n",
    "            append!(covers[i],x.value)\n",
    "        end\n",
    "    end\n",
    "    return covers\n",
    "end"
   ]
  },
  {
   "cell_type": "markdown",
   "metadata": {},
   "source": [
    "## 0) Benchmark vecchia funzione "
   ]
  },
  {
   "cell_type": "code",
   "execution_count": 11,
   "metadata": {},
   "outputs": [
    {
     "name": "stdout",
     "output_type": "stream",
     "text": [
      "  5.085 μs (98 allocations: 3.95 KiB)\n"
     ]
    },
    {
     "data": {
      "text/plain": [
       "6-element Array{Array{Any,1},1}:\n",
       " [4, 5, 2, 1, 3]\n",
       " [4, 5, 2, 1, 3]\n",
       " [4, 5, 2, 1, 3]\n",
       " [6, 4, 5, 2, 1, 3]\n",
       " [6, 4, 5, 2, 1, 3]\n",
       " [6, 4, 5]"
      ]
     },
     "execution_count": 11,
     "metadata": {},
     "output_type": "execute_result"
    }
   ],
   "source": [
    "bboxes = [[ 0.0 1.0; 0.0 0.0],  [ 0.0 0.0 ; 0.0 1.0], \n",
    "          [ 0.0 1.0; 0.0 1.0],  [-1.0 0.0 ; 0.0 0.5],\n",
    "          [-1.0 0.0; 0.5 0.5],  [-1.0 -1.0; 0.0 0.5]]\n",
    "xdict = OrderedDict([0.0, 1.0] => [1, 3],\n",
    "                    [0.0, 0.0] => [2],\n",
    "                    [-1.0, 0.0] => [4, 5],\n",
    "                    [-1.0, -1.0] => [6])\n",
    "xs = IntervalTrees.IntervalMap{Float64, Array}()\n",
    "for (key,boxset) in xdict\n",
    "    xs[tuple(key...)] = boxset\n",
    "end\n",
    "@btime boxcovering(bboxes,1,xs)"
   ]
  },
  {
   "cell_type": "markdown",
   "metadata": {},
   "source": [
    "## Controllo se la funzione è type unstable"
   ]
  },
  {
   "cell_type": "code",
   "execution_count": 12,
   "metadata": {},
   "outputs": [
    {
     "name": "stdout",
     "output_type": "stream",
     "text": [
      "Variables\n",
      "  #self#\u001b[36m::Core.Compiler.Const(boxcovering, false)\u001b[39m\n",
      "  bboxes\u001b[36m::Array{Array{Float64,2},1}\u001b[39m\n",
      "  index\u001b[36m::Int64\u001b[39m\n",
      "  tree\u001b[36m::IntervalTrees.IntervalBTree{Float64,IntervalValue{Float64,Array},64}\u001b[39m\n",
      "  #4\u001b[36m::var\"#4#5\"\u001b[39m\n",
      "  covers\u001b[36m::Array{Array{Any,1},1}\u001b[39m\n",
      "  @_7\u001b[33m\u001b[1m::Union{Nothing, Tuple{Tuple{Int64,Array{Float64,2}},Tuple{Int64,Int64}}}\u001b[22m\u001b[39m\n",
      "  i\u001b[36m::Int64\u001b[39m\n",
      "  boundingbox\u001b[36m::Array{Float64,2}\u001b[39m\n",
      "  @_10\u001b[36m::Int64\u001b[39m\n",
      "  extent\u001b[36m::Array{Float64,1}\u001b[39m\n",
      "  iterator\u001b[91m\u001b[1m::Union{Array{IntervalValue{Float64,Array},1}, IntervalTrees.IntervalIntersectionIterator{typeof(IntervalTrees.true_cmp),Float64,IntervalValue{Float64,Array},64}}\u001b[22m\u001b[39m\n",
      "  @_13\u001b[33m\u001b[1m::Union{Nothing, Tuple{IntervalValue{Float64,Array},Union{Nothing, Int64}}}\u001b[22m\u001b[39m\n",
      "  x\u001b[36m::IntervalValue{Float64,Array}\u001b[39m\n",
      "\n",
      "Body\u001b[36m::Array{Array{Any,1},1}\u001b[39m\n",
      "\u001b[90m1 ─\u001b[39m       (#4 = %new(Main.:(var\"#4#5\")))\n",
      "\u001b[90m│  \u001b[39m %2  = #4\u001b[36m::Core.Compiler.Const(var\"#4#5\"(), false)\u001b[39m\n",
      "\u001b[90m│  \u001b[39m %3  = Main.length(bboxes)\u001b[36m::Int64\u001b[39m\n",
      "\u001b[90m│  \u001b[39m %4  = (1:%3)\u001b[36m::Core.Compiler.PartialStruct(UnitRange{Int64}, Any[Core.Compiler.Const(1, false), Int64])\u001b[39m\n",
      "\u001b[90m│  \u001b[39m %5  = Base.Generator(%2, %4)\u001b[36m::Core.Compiler.PartialStruct(Base.Generator{UnitRange{Int64},var\"#4#5\"}, Any[Core.Compiler.Const(var\"#4#5\"(), false), Core.Compiler.PartialStruct(UnitRange{Int64}, Any[Core.Compiler.Const(1, false), Int64])])\u001b[39m\n",
      "\u001b[90m│  \u001b[39m       (covers = Base.collect(%5))\n",
      "\u001b[90m│  \u001b[39m %7  = Main.enumerate(bboxes)\u001b[36m::Base.Iterators.Enumerate{Array{Array{Float64,2},1}}\u001b[39m\n",
      "\u001b[90m│  \u001b[39m       (@_7 = Base.iterate(%7))\n",
      "\u001b[90m│  \u001b[39m %9  = (@_7 === nothing)\u001b[36m::Bool\u001b[39m\n",
      "\u001b[90m│  \u001b[39m %10 = Base.not_int(%9)\u001b[36m::Bool\u001b[39m\n",
      "\u001b[90m└──\u001b[39m       goto #7 if not %10\n",
      "\u001b[90m2 ┄\u001b[39m %12 = @_7::Tuple{Tuple{Int64,Array{Float64,2}},Tuple{Int64,Int64}}\u001b[36m::Tuple{Tuple{Int64,Array{Float64,2}},Tuple{Int64,Int64}}\u001b[39m\n",
      "\u001b[90m│  \u001b[39m %13 = Core.getfield(%12, 1)\u001b[36m::Tuple{Int64,Array{Float64,2}}\u001b[39m\n",
      "\u001b[90m│  \u001b[39m %14 = Base.indexed_iterate(%13, 1)\u001b[36m::Core.Compiler.PartialStruct(Tuple{Int64,Int64}, Any[Int64, Core.Compiler.Const(2, false)])\u001b[39m\n",
      "\u001b[90m│  \u001b[39m       (i = Core.getfield(%14, 1))\n",
      "\u001b[90m│  \u001b[39m       (@_10 = Core.getfield(%14, 2))\n",
      "\u001b[90m│  \u001b[39m %17 = Base.indexed_iterate(%13, 2, @_10::Core.Compiler.Const(2, false))\u001b[36m::Core.Compiler.PartialStruct(Tuple{Array{Float64,2},Int64}, Any[Array{Float64,2}, Core.Compiler.Const(3, false)])\u001b[39m\n",
      "\u001b[90m│  \u001b[39m       (boundingbox = Core.getfield(%17, 1))\n",
      "\u001b[90m│  \u001b[39m %19 = Core.getfield(%12, 2)\u001b[36m::Tuple{Int64,Int64}\u001b[39m\n",
      "\u001b[90m│  \u001b[39m %20 = Base.getindex(bboxes, i)\u001b[36m::Array{Float64,2}\u001b[39m\n",
      "\u001b[90m│  \u001b[39m       (extent = Base.getindex(%20, index, Main.:(:)))\n",
      "\u001b[90m│  \u001b[39m %22 = IntervalTrees.intersect\u001b[36m::Core.Compiler.Const(intersect, false)\u001b[39m\n",
      "\u001b[90m│  \u001b[39m %23 = Core._apply_iterate(Base.iterate, Main.tuple, extent)\u001b[91m\u001b[1m::Tuple{Vararg{Float64,N} where N}\u001b[22m\u001b[39m\n",
      "\u001b[90m│  \u001b[39m       (iterator = (%22)(tree, %23))\n",
      "\u001b[90m│  \u001b[39m %25 = iterator\u001b[91m\u001b[1m::Union{Array{IntervalValue{Float64,Array},1}, IntervalTrees.IntervalIntersectionIterator{typeof(IntervalTrees.true_cmp),Float64,IntervalValue{Float64,Array},64}}\u001b[22m\u001b[39m\n",
      "\u001b[90m│  \u001b[39m       (@_13 = Base.iterate(%25))\n",
      "\u001b[90m│  \u001b[39m %27 = (@_13 === nothing)\u001b[36m::Bool\u001b[39m\n",
      "\u001b[90m│  \u001b[39m %28 = Base.not_int(%27)\u001b[36m::Bool\u001b[39m\n",
      "\u001b[90m└──\u001b[39m       goto #5 if not %28\n",
      "\u001b[90m3 ┄\u001b[39m %30 = @_13::Tuple{IntervalValue{Float64,Array},Union{Nothing, Int64}}\u001b[91m\u001b[1m::Tuple{IntervalValue{Float64,Array},Union{Nothing, Int64}}\u001b[22m\u001b[39m\n",
      "\u001b[90m│  \u001b[39m       (x = Core.getfield(%30, 1))\n",
      "\u001b[90m│  \u001b[39m %32 = Core.getfield(%30, 2)\u001b[33m\u001b[1m::Union{Nothing, Int64}\u001b[22m\u001b[39m\n",
      "\u001b[90m│  \u001b[39m %33 = Base.getindex(covers, i)\u001b[36m::Array{Any,1}\u001b[39m\n",
      "\u001b[90m│  \u001b[39m %34 = Base.getproperty(x, :value)\u001b[91m\u001b[1m::Array\u001b[22m\u001b[39m\n",
      "\u001b[90m│  \u001b[39m       Main.append!(%33, %34)\n",
      "\u001b[90m│  \u001b[39m       (@_13 = Base.iterate(%25, %32))\n",
      "\u001b[90m│  \u001b[39m %37 = (@_13 === nothing)\u001b[36m::Bool\u001b[39m\n",
      "\u001b[90m│  \u001b[39m %38 = Base.not_int(%37)\u001b[36m::Bool\u001b[39m\n",
      "\u001b[90m└──\u001b[39m       goto #5 if not %38\n",
      "\u001b[90m4 ─\u001b[39m       goto #3\n",
      "\u001b[90m5 ┄\u001b[39m       (@_7 = Base.iterate(%7, %19))\n",
      "\u001b[90m│  \u001b[39m %42 = (@_7 === nothing)\u001b[36m::Bool\u001b[39m\n",
      "\u001b[90m│  \u001b[39m %43 = Base.not_int(%42)\u001b[36m::Bool\u001b[39m\n",
      "\u001b[90m└──\u001b[39m       goto #7 if not %43\n",
      "\u001b[90m6 ─\u001b[39m       goto #2\n",
      "\u001b[90m7 ┄\u001b[39m       return covers\n"
     ]
    }
   ],
   "source": [
    "@code_warntype boxcovering(bboxes,1,xs)"
   ]
  },
  {
   "cell_type": "markdown",
   "metadata": {},
   "source": [
    "la funzione NON è type unstable in quanto ho nell'output la stringa:\n",
    "\n",
    "    Body::Array{Array{Any,1},1}"
   ]
  }
 ],
 "metadata": {
  "kernelspec": {
   "display_name": "Julia 1.5.2",
   "language": "julia",
   "name": "julia-1.5"
  },
  "language_info": {
   "file_extension": ".jl",
   "mimetype": "application/julia",
   "name": "julia",
   "version": "1.5.2"
  }
 },
 "nbformat": 4,
 "nbformat_minor": 2
}
