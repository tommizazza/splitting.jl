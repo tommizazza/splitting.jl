{
 "cells": [
  {
   "cell_type": "code",
   "execution_count": 22,
   "metadata": {},
   "outputs": [],
   "source": [
    "using LinearAlgebraicRepresentation\n",
    "Lar = LinearAlgebraicRepresentation\n",
    "using IntervalTrees\n",
    "using SparseArrays\n",
    "using NearestNeighbors\n",
    "using DataStructures\n",
    "using OrderedCollections\n",
    "using BenchmarkTools"
   ]
  },
  {
   "cell_type": "markdown",
   "metadata": {},
   "source": [
    "## Funzione da ottimizzare"
   ]
  },
  {
   "cell_type": "code",
   "execution_count": 23,
   "metadata": {},
   "outputs": [
    {
     "data": {
      "text/plain": [
       "biconnected_components (generic function with 1 method)"
      ]
     },
     "execution_count": 23,
     "metadata": {},
     "output_type": "execute_result"
    }
   ],
   "source": [
    "function biconnected_components(EV::Lar.ChainOp)\n",
    "\n",
    "    ps = Array{Tuple{Int, Int, Int}, 1}()\n",
    "    es = Array{Tuple{Int, Int}, 1}()\n",
    "    todel = Array{Int, 1}()\n",
    "    visited = Array{Int, 1}()\n",
    "    bicon_comps = Array{Array{Int, 1}, 1}()\n",
    "    hivtx = 1\n",
    "\n",
    "    function an_edge(point) # TODO: fix bug\n",
    "        # error? : BoundsError: attempt to access 0×0 SparseMatrix ...\n",
    "        edges = setdiff(EV[:, point].nzind, todel)\n",
    "        if length(edges) == 0\n",
    "            edges = [false]\n",
    "        end\n",
    "        edges[1]\n",
    "    end\n",
    "\n",
    "    function get_head(edge, tail)\n",
    "        setdiff(EV[edge, :].nzind, [tail])[1]\n",
    "    end\n",
    "\n",
    "    function v_to_vi(v)\n",
    "        i = findfirst(t->t[1]==v, ps)\n",
    "        # seems findfirst changed from 0 to Nothing\n",
    "        if typeof(i) == Nothing\n",
    "            return false\n",
    "        elseif i == 0\n",
    "            return false\n",
    "        else\n",
    "            return ps[i][2]\n",
    "        end\n",
    "    end\n",
    "\n",
    "    push!(ps, (1,1,1))\n",
    "    push!(visited, 1)\n",
    "    exit = false\n",
    "    while !exit\n",
    "        edge = an_edge(ps[end][1])\n",
    "        if edge != false\n",
    "            tail = ps[end][2]\n",
    "            head = get_head(edge, ps[end][1])\n",
    "            hi = v_to_vi(head)\n",
    "            if hi == false\n",
    "                hivtx += 1\n",
    "                push!(ps, (head, hivtx, ps[end][2]))\n",
    "                push!(visited, head)\n",
    "            else\n",
    "                if hi < ps[end][3]\n",
    "                    ps[end] = (ps[end][1], ps[end][2], hi)\n",
    "                end\n",
    "            end\n",
    "            push!(es, (edge, tail))\n",
    "            push!(todel, edge)\n",
    "        else\n",
    "            if length(ps) == 1\n",
    "                found = false\n",
    "                pop!(ps)\n",
    "                for i in 1:size(EV,2)\n",
    "                    if !(i in visited)\n",
    "                        hivtx = 1\n",
    "                        push!(ps, (i, hivtx, 1))\n",
    "                        push!(visited, i)\n",
    "                        found = true\n",
    "                        break\n",
    "                    end\n",
    "                end\n",
    "                if !found\n",
    "                    exit = true\n",
    "                end\n",
    "\n",
    "            else\n",
    "                if ps[end][3] == ps[end-1][2]\n",
    "                    edges = Array{Int, 1}()\n",
    "                    while true\n",
    "                        edge, tail = pop!(es)\n",
    "                        push!(edges, edge)\n",
    "                        if tail == ps[end][3]\n",
    "                            if length(edges) > 1\n",
    "                                push!(bicon_comps, edges)\n",
    "                            end\n",
    "                            break\n",
    "                        end\n",
    "                    end\n",
    "\n",
    "                else\n",
    "                    if ps[end-1][3] > ps[end][3]\n",
    "                        ps[end-1] = (ps[end-1][1], ps[end-1][2], ps[end][3])\n",
    "                    end\n",
    "                end\n",
    "                pop!(ps)\n",
    "            end\n",
    "        end\n",
    "    end\n",
    "    bicon_comps = sort(bicon_comps, lt=(x,y)->length(x)>length(y))\n",
    "    return bicon_comps\n",
    "end"
   ]
  },
  {
   "cell_type": "markdown",
   "metadata": {},
   "source": [
    "## Riscrittura codice  \n",
    "\n",
    "Questo codice era mal scritto e mal commentato quindi abbiamo sostituito l'intera funzione con altre funzioni prese da \n",
    "https://github.com/cvdlab/LinearAlgebraicRepresentation.jl/blob/master/src/graphalgorithms.jl. \n",
    "\n",
    "Per rendere l'output della nuova funzione biconnectedComponent uguale a quello della funzione precedente è stato modificato opportunamente il codice correggendo anche degli errori sui cat (evidentemente usabili solo in versioni più vecchie di julia). La funzione è stata testata con la precedente per vedere se gli output coincidessero. Sarebbe opportuno testarla ulteriormente."
   ]
  },
  {
   "cell_type": "code",
   "execution_count": 24,
   "metadata": {},
   "outputs": [
    {
     "data": {
      "text/plain": [
       "biconnectedComponent (generic function with 1 method)"
      ]
     },
     "execution_count": 24,
     "metadata": {},
     "output_type": "execute_result"
    }
   ],
   "source": [
    "function DFV_visit( VV::Lar.Cells, out::Array, count::Int, visited::Array, parent::Array, d::Array, low::Array, stack::Array, u::Int )::Array\n",
    "    visited[u] = true\n",
    "    count += 1\n",
    "    d[u] = count\n",
    "    low[u] = d[u]\n",
    "    for v in VV[u]\n",
    "        if ! visited[v]\n",
    "            push!(stack, [(u,v)])\n",
    "            parent[v] = u\n",
    "            DFV_visit( VV,out,count,visited,parent,d,low,stack, v )\n",
    "            if low[v] >= d[u]\n",
    "                push!(out, [outputComp(stack,u,v)])\n",
    "            end\n",
    "            low[u] = min( low[u], low[v] )\n",
    "        else\n",
    "            if ! (parent[u]==v) && (d[v] < d[u])\n",
    "                push!(stack, [(u,v)])\n",
    "            end\n",
    "            low[u] = min( low[u], d[v] )\n",
    "        end\n",
    "    end\n",
    "    out\n",
    "end\n",
    "\n",
    "function outputComp(stack::Array, u::Int, v::Int)::Array\n",
    "    out = []\n",
    "    while true\n",
    "        e = pop!(stack)[1]\n",
    "        push!(out,e)\n",
    "        if e == (u,v) \n",
    "        \tbreak\n",
    "        end\n",
    "    end\n",
    "    return [out] \n",
    "end\n",
    "\n",
    "function biconnectedComponent(model)\n",
    "    W,EV = model\n",
    "    V = collect(1:size(W,2))\n",
    "    count = 0\n",
    "    stack,out = [],[]\n",
    "    visited = [false for v in V]\n",
    "    parent = Union{Int, Array{Any,1}}[[] for v in V]\n",
    "    d = Any[0 for v in V]\n",
    "    low = Any[0 for v in V]    \n",
    "    VV = Lar.verts2verts(EV)\n",
    "    out = Any[]\n",
    "    for u in V \n",
    "        if ! visited[u] \n",
    "            out = DFV_visit( VV,out,count,visited,parent,d,low,stack, u )\n",
    "        end\n",
    "    end\n",
    "    out = [component for component in out if length(component) >= 1]\n",
    "    EVs = [map(sort∘collect,edges) for edges in cat((out...)...,dims = 1) if length(edges)>1] \n",
    "    EVs = filter(x->!isempty(x), EVs)\n",
    "    bico = map(x ->sort(collect(Set(hcat(x...)))), EVs)\n",
    "    return bico\n",
    "end"
   ]
  },
  {
   "cell_type": "markdown",
   "metadata": {},
   "source": [
    "## Dati di input"
   ]
  },
  {
   "cell_type": "code",
   "execution_count": 25,
   "metadata": {},
   "outputs": [
    {
     "data": {
      "text/plain": [
       "240×240 SparseMatrixCSC{Int8,Int64} with 480 stored entries:\n",
       "  [1  ,   1]  =  -1\n",
       "  [2  ,   1]  =  -1\n",
       "  [1  ,   2]  =  1\n",
       "  [3  ,   2]  =  -1\n",
       "  [2  ,   3]  =  1\n",
       "  [4  ,   3]  =  -1\n",
       "  [3  ,   4]  =  1\n",
       "  [4  ,   4]  =  1\n",
       "  [5  ,   5]  =  -1\n",
       "  [6  ,   5]  =  -1\n",
       "  [5  ,   6]  =  1\n",
       "  [7  ,   6]  =  -1\n",
       "  ⋮\n",
       "  [235, 234]  =  -1\n",
       "  [234, 235]  =  1\n",
       "  [236, 235]  =  -1\n",
       "  [235, 236]  =  1\n",
       "  [236, 236]  =  1\n",
       "  [237, 237]  =  -1\n",
       "  [238, 237]  =  -1\n",
       "  [237, 238]  =  1\n",
       "  [239, 238]  =  -1\n",
       "  [238, 239]  =  1\n",
       "  [240, 239]  =  -1\n",
       "  [239, 240]  =  1\n",
       "  [240, 240]  =  1"
      ]
     },
     "execution_count": 25,
     "metadata": {},
     "output_type": "execute_result"
    }
   ],
   "source": [
    "b=[[],[]]\n",
    "EV=[[1,1]]\n",
    "\n",
    "for i=1:60\n",
    "           push!(b[1],(1.0 + i*4.0))\n",
    "           push!(b[2],(1.0))\n",
    "           push!(b[1],(4.0 + i*4.0))\n",
    "           push!(b[2],(1.0))\n",
    "           push!(b[1],(1.0 + i*4.0))\n",
    "           push!(b[2],(4.0))\n",
    "           push!(b[1],(4.0 + i*4.0))\n",
    "           push!(b[2],(4.0))\n",
    "           \n",
    "           push!(EV,[1+4*(i-1),2+4*(i-1)])\n",
    "           push!(EV,[1+4*(i-1),3+4*(i-1)])\n",
    "           push!(EV,[2+4*(i-1),4+4*(i-1)])\n",
    "           push!(EV,[3+4*(i-1),4+4*(i-1)])\n",
    "end\n",
    "\n",
    "V = permutedims(reshape(hcat(b...), (length(b[1]), length(b))))\n",
    "filter!(e->e!=[1,1],EV)\n",
    "cop_EV = Lar.coboundary_0(EV::Lar.Cells)\n"
   ]
  },
  {
   "cell_type": "markdown",
   "metadata": {},
   "source": [
    "## Benchmark vecchia funzione"
   ]
  },
  {
   "cell_type": "code",
   "execution_count": 26,
   "metadata": {},
   "outputs": [
    {
     "name": "stdout",
     "output_type": "stream",
     "text": [
      "  2.047 ms (7889 allocations: 646.53 KiB)\n"
     ]
    },
    {
     "data": {
      "text/plain": [
       "60-element Array{Array{Int64,1},1}:\n",
       " [2, 4, 3, 1]\n",
       " [6, 8, 7, 5]\n",
       " [10, 12, 11, 9]\n",
       " [14, 16, 15, 13]\n",
       " [18, 20, 19, 17]\n",
       " [22, 24, 23, 21]\n",
       " [26, 28, 27, 25]\n",
       " [30, 32, 31, 29]\n",
       " [34, 36, 35, 33]\n",
       " [38, 40, 39, 37]\n",
       " [42, 44, 43, 41]\n",
       " [46, 48, 47, 45]\n",
       " [50, 52, 51, 49]\n",
       " ⋮\n",
       " [194, 196, 195, 193]\n",
       " [198, 200, 199, 197]\n",
       " [202, 204, 203, 201]\n",
       " [206, 208, 207, 205]\n",
       " [210, 212, 211, 209]\n",
       " [214, 216, 215, 213]\n",
       " [218, 220, 219, 217]\n",
       " [222, 224, 223, 221]\n",
       " [226, 228, 227, 225]\n",
       " [230, 232, 231, 229]\n",
       " [234, 236, 235, 233]\n",
       " [238, 240, 239, 237]"
      ]
     },
     "execution_count": 26,
     "metadata": {},
     "output_type": "execute_result"
    }
   ],
   "source": [
    "@btime biconnected_components(cop_EV)"
   ]
  },
  {
   "cell_type": "markdown",
   "metadata": {},
   "source": [
    "## Benchmark nuova funzione"
   ]
  },
  {
   "cell_type": "code",
   "execution_count": 27,
   "metadata": {},
   "outputs": [
    {
     "name": "stdout",
     "output_type": "stream",
     "text": [
      "  976.197 μs (8381 allocations: 612.91 KiB)\n"
     ]
    },
    {
     "data": {
      "text/plain": [
       "60-element Array{Array{Int64,1},1}:\n",
       " [1, 2, 3, 4]\n",
       " [5, 6, 7, 8]\n",
       " [9, 10, 11, 12]\n",
       " [13, 14, 15, 16]\n",
       " [17, 18, 19, 20]\n",
       " [21, 22, 23, 24]\n",
       " [25, 26, 27, 28]\n",
       " [29, 30, 31, 32]\n",
       " [33, 34, 35, 36]\n",
       " [37, 38, 39, 40]\n",
       " [41, 42, 43, 44]\n",
       " [45, 46, 47, 48]\n",
       " [49, 50, 51, 52]\n",
       " ⋮\n",
       " [193, 194, 195, 196]\n",
       " [197, 198, 199, 200]\n",
       " [201, 202, 203, 204]\n",
       " [205, 206, 207, 208]\n",
       " [209, 210, 211, 212]\n",
       " [213, 214, 215, 216]\n",
       " [217, 218, 219, 220]\n",
       " [221, 222, 223, 224]\n",
       " [225, 226, 227, 228]\n",
       " [229, 230, 231, 232]\n",
       " [233, 234, 235, 236]\n",
       " [237, 238, 239, 240]"
      ]
     },
     "execution_count": 27,
     "metadata": {},
     "output_type": "execute_result"
    }
   ],
   "source": [
    "@btime biconnectedComponent((V, EV))"
   ]
  },
  {
   "cell_type": "markdown",
   "metadata": {},
   "source": [
    "L'ouput della nuova funzione sono gli insiemi di vertici che compongono le componenti biconnesse ordinati. La prima non forniva questo ordinamento. Non sappiamo se questo costituisca un problema o no andando avanti nella pipeline.  \n",
    "  \n",
    "Essendo una ricerca su grafo non abbiamo ritenuto oppurtuno parallelizzarla."
   ]
  }
 ],
 "metadata": {
  "kernelspec": {
   "display_name": "Julia 1.5.2",
   "language": "julia",
   "name": "julia-1.5"
  },
  "language_info": {
   "file_extension": ".jl",
   "mimetype": "application/julia",
   "name": "julia",
   "version": "1.5.2"
  }
 },
 "nbformat": 4,
 "nbformat_minor": 2
}
