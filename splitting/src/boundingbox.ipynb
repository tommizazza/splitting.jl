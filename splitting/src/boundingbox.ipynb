{
 "cells": [
  {
   "cell_type": "code",
   "execution_count": 10,
   "metadata": {},
   "outputs": [],
   "source": [
    "using LinearAlgebraicRepresentation\n",
    "Lar = LinearAlgebraicRepresentation\n",
    "using BenchmarkTools"
   ]
  },
  {
   "cell_type": "markdown",
   "metadata": {},
   "source": [
    "## Funzione da ottimizzare"
   ]
  },
  {
   "cell_type": "code",
   "execution_count": 11,
   "metadata": {},
   "outputs": [
    {
     "data": {
      "text/plain": [
       "boundingbox (generic function with 1 method)"
      ]
     },
     "execution_count": 11,
     "metadata": {},
     "output_type": "execute_result"
    }
   ],
   "source": [
    "function boundingbox(vertices::Lar.Points)\n",
    "   minimum = mapslices(x->min(x...), vertices, dims=2)\n",
    "   maximum = mapslices(x->max(x...), vertices, dims=2)\n",
    "   return minimum, maximum\n",
    "end"
   ]
  },
  {
   "cell_type": "markdown",
   "metadata": {},
   "source": [
    "## Dati in input"
   ]
  },
  {
   "cell_type": "code",
   "execution_count": 12,
   "metadata": {},
   "outputs": [
    {
     "data": {
      "text/plain": [
       "240-element Array{Array{Int64,1},1}:\n",
       " [1, 2]\n",
       " [1, 3]\n",
       " [2, 4]\n",
       " [3, 4]\n",
       " [5, 6]\n",
       " [5, 7]\n",
       " [6, 8]\n",
       " [7, 8]\n",
       " [9, 10]\n",
       " [9, 11]\n",
       " [10, 12]\n",
       " [11, 12]\n",
       " [13, 14]\n",
       " ⋮\n",
       " [229, 230]\n",
       " [229, 231]\n",
       " [230, 232]\n",
       " [231, 232]\n",
       " [233, 234]\n",
       " [233, 235]\n",
       " [234, 236]\n",
       " [235, 236]\n",
       " [237, 238]\n",
       " [237, 239]\n",
       " [238, 240]\n",
       " [239, 240]"
      ]
     },
     "execution_count": 12,
     "metadata": {},
     "output_type": "execute_result"
    }
   ],
   "source": [
    "b=[[],[]]\n",
    "EV=[[1,1]]\n",
    "\n",
    "for i=1:60\n",
    "           push!(b[1],(1.0 + i*2.0))\n",
    "           push!(b[2],(1.0 + i*2.0))\n",
    "           push!(b[1],(4.0 + i*2.0))\n",
    "           push!(b[2],(1.0 + i*2.0))\n",
    "           push!(b[1],(1.0 + i*2.0))\n",
    "           push!(b[2],(4.0 + i*2.0))\n",
    "           push!(b[1],(4.0 + i*2.0))\n",
    "           push!(b[2],(4.0 + i*2.0))\n",
    "           push!(EV,[1+4*(i-1),2+4*(i-1)])\n",
    "           push!(EV,[1+4*(i-1),3+4*(i-1)])\n",
    "           push!(EV,[2+4*(i-1),4+4*(i-1)])\n",
    "           push!(EV,[3+4*(i-1),4+4*(i-1)])\n",
    "end\n",
    "\n",
    "V = permutedims(reshape(hcat(b...), (length(b[1]), length(b))))\n",
    "filter!(e->e!=[1,1],EV)"
   ]
  },
  {
   "cell_type": "markdown",
   "metadata": {},
   "source": [
    "## 0) Benchmark vecchia funzione"
   ]
  },
  {
   "cell_type": "code",
   "execution_count": 13,
   "metadata": {},
   "outputs": [
    {
     "name": "stdout",
     "output_type": "stream",
     "text": [
      "  81.438 μs (2029 allocations: 46.78 KiB)\n"
     ]
    },
    {
     "data": {
      "text/plain": [
       "([3.0; 3.0], [124.0; 124.0])"
      ]
     },
     "execution_count": 13,
     "metadata": {},
     "output_type": "execute_result"
    }
   ],
   "source": [
    "@btime boundingbox(V)"
   ]
  },
  {
   "cell_type": "markdown",
   "metadata": {},
   "source": [
    "## 1) Controllo se la funzione è type unstable"
   ]
  },
  {
   "cell_type": "code",
   "execution_count": 14,
   "metadata": {},
   "outputs": [
    {
     "name": "stdout",
     "output_type": "stream",
     "text": [
      "Variables\n",
      "  #self#\u001b[36m::Core.Compiler.Const(boundingbox, false)\u001b[39m\n",
      "  vertices\u001b[36m::Array{Float64,2}\u001b[39m\n",
      "  #17\u001b[36m::var\"#17#19\"\u001b[39m\n",
      "  #18\u001b[36m::var\"#18#20\"\u001b[39m\n",
      "  minimum\u001b[91m\u001b[1m::Any\u001b[22m\u001b[39m\n",
      "  maximum\u001b[91m\u001b[1m::Any\u001b[22m\u001b[39m\n",
      "\n",
      "Body\u001b[91m\u001b[1m::Tuple{Any,Any}\u001b[22m\u001b[39m\n",
      "\u001b[90m1 ─\u001b[39m       (#17 = %new(Main.:(var\"#17#19\")))\n",
      "\u001b[90m│  \u001b[39m %2  = #17\u001b[36m::Core.Compiler.Const(var\"#17#19\"(), false)\u001b[39m\n",
      "\u001b[90m│  \u001b[39m %3  = (:dims,)\u001b[36m::Core.Compiler.Const((:dims,), false)\u001b[39m\n",
      "\u001b[90m│  \u001b[39m %4  = Core.apply_type(Core.NamedTuple, %3)\u001b[36m::Core.Compiler.Const(NamedTuple{(:dims,),T} where T<:Tuple, false)\u001b[39m\n",
      "\u001b[90m│  \u001b[39m %5  = Core.tuple(2)\u001b[36m::Core.Compiler.Const((2,), false)\u001b[39m\n",
      "\u001b[90m│  \u001b[39m %6  = (%4)(%5)\u001b[36m::Core.Compiler.Const((dims = 2,), false)\u001b[39m\n",
      "\u001b[90m│  \u001b[39m %7  = Core.kwfunc(Main.mapslices)\u001b[36m::Core.Compiler.Const(Base.var\"#mapslices##kw\"(), false)\u001b[39m\n",
      "\u001b[90m│  \u001b[39m       (minimum = (%7)(%6, Main.mapslices, %2, vertices))\n",
      "\u001b[90m│  \u001b[39m       (#18 = %new(Main.:(var\"#18#20\")))\n",
      "\u001b[90m│  \u001b[39m %10 = #18\u001b[36m::Core.Compiler.Const(var\"#18#20\"(), false)\u001b[39m\n",
      "\u001b[90m│  \u001b[39m %11 = (:dims,)\u001b[36m::Core.Compiler.Const((:dims,), false)\u001b[39m\n",
      "\u001b[90m│  \u001b[39m %12 = Core.apply_type(Core.NamedTuple, %11)\u001b[36m::Core.Compiler.Const(NamedTuple{(:dims,),T} where T<:Tuple, false)\u001b[39m\n",
      "\u001b[90m│  \u001b[39m %13 = Core.tuple(2)\u001b[36m::Core.Compiler.Const((2,), false)\u001b[39m\n",
      "\u001b[90m│  \u001b[39m %14 = (%12)(%13)\u001b[36m::Core.Compiler.Const((dims = 2,), false)\u001b[39m\n",
      "\u001b[90m│  \u001b[39m %15 = Core.kwfunc(Main.mapslices)\u001b[36m::Core.Compiler.Const(Base.var\"#mapslices##kw\"(), false)\u001b[39m\n",
      "\u001b[90m│  \u001b[39m       (maximum = (%15)(%14, Main.mapslices, %10, vertices))\n",
      "\u001b[90m│  \u001b[39m %17 = Core.tuple(minimum, maximum)\u001b[91m\u001b[1m::Tuple{Any,Any}\u001b[22m\u001b[39m\n",
      "\u001b[90m└──\u001b[39m       return %17\n"
     ]
    }
   ],
   "source": [
    "@code_warntype boundingbox(V)"
   ]
  },
  {
   "cell_type": "markdown",
   "metadata": {},
   "source": [
    "La funzione NON è type unstable in quanto ritorna la stringa\n",
    "\n",
    "    Body::Tuple{Any,Any}"
   ]
  },
  {
   "cell_type": "markdown",
   "metadata": {},
   "source": [
    "## Parallelizzazione codice e uso dei threads  \n",
    "  \n",
    "La funzione originaria utilizzava la funzione 'mapslices', che non è parallelizzabile. Abbiamo quindi riscritto completamente la funzione in modo da renderla accessibile alla macro @threads."
   ]
  },
  {
   "cell_type": "code",
   "execution_count": 19,
   "metadata": {},
   "outputs": [
    {
     "name": "stdout",
     "output_type": "stream",
     "text": [
      "Numero di threads allocati :2\n",
      "  25.978 μs (1115 allocations: 23.22 KiB)\n"
     ]
    },
    {
     "data": {
      "text/plain": [
       "([3.0, 3.0], [124.0, 124.0])"
      ]
     },
     "execution_count": 19,
     "metadata": {},
     "output_type": "execute_result"
    }
   ],
   "source": [
    "using Base.Threads\n",
    "function boundingbox2(vertices::Lar.Points)\n",
    "       d=size(V)[1]\n",
    "       numPoints=size(V)[2]\n",
    "       mins::Array{Float64,1}=[]\n",
    "       maxs::Array{Float64,1}=[]\n",
    "       @threads for axis=1:d\n",
    "               row = V[d,:]\n",
    "               min=V[d]\n",
    "               max=V[d]\n",
    "               @threads for points=2:numPoints\n",
    "                       if(row[points]<min)\n",
    "                               min = row[points]\n",
    "                       end\n",
    "                       if(row[points]>max)\n",
    "                               max = row[points]\n",
    "                       end\n",
    "               end\n",
    "               push!(mins,min)\n",
    "               push!(maxs,max)\n",
    "       end\n",
    "  return mins, maxs\n",
    "end\n",
    "print(\"Numero di threads allocati :\")\n",
    "println(nthreads())\n",
    "@btime boundingbox2(V)"
   ]
  },
  {
   "cell_type": "markdown",
   "metadata": {},
   "source": []
  },
  {
   "cell_type": "code",
   "execution_count": null,
   "metadata": {},
   "outputs": [],
   "source": []
  }
 ],
 "metadata": {
  "kernelspec": {
   "display_name": "Julia 1.5.2",
   "language": "julia",
   "name": "julia-1.5"
  },
  "language_info": {
   "file_extension": ".jl",
   "mimetype": "application/julia",
   "name": "julia",
   "version": "1.5.2"
  }
 },
 "nbformat": 4,
 "nbformat_minor": 2
}
