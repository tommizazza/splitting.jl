{
 "cells": [
  {
   "cell_type": "code",
   "execution_count": 1,
   "metadata": {},
   "outputs": [],
   "source": [
    "using LinearAlgebraicRepresentation\n",
    "Lar = LinearAlgebraicRepresentation\n",
    "using BenchmarkTools"
   ]
  },
  {
   "cell_type": "markdown",
   "metadata": {},
   "source": [
    "## Funzione da ottimizzare"
   ]
  },
  {
   "cell_type": "code",
   "execution_count": 2,
   "metadata": {},
   "outputs": [
    {
     "data": {
      "text/plain": [
       "linefragments (generic function with 1 method)"
      ]
     },
     "execution_count": 2,
     "metadata": {},
     "output_type": "execute_result"
    }
   ],
   "source": [
    "function linefragments(V,EV,Sigma)\n",
    "    m = length(Sigma) \n",
    "    sigma = map(sort,Sigma) \n",
    "    reducedsigma = sigma \n",
    "    params = Array{Float64,1}[[] for i=1:m]\n",
    "    for h=1:m\n",
    "        if sigma[h] ≠ []\n",
    "            line1 = V[:,EV[h]]\n",
    "            for k in sigma[h]\n",
    "                line2 = V[:,EV[k]]\n",
    "                out = intersection(line1,line2) \n",
    "                if out ≠ ()\n",
    "                    α,β = out\n",
    "                    if 0<=α<=1 && 0<=β<=1\n",
    "                        push!(params[h], α)\n",
    "                        push!(params[k], β)\n",
    "                    end\n",
    "                end\n",
    "            end\n",
    "        end\n",
    "    end\n",
    "    fragparams = []\n",
    "    for line in params\n",
    "        push!(line, 0.0, 1.0)\n",
    "        line = sort(collect(Set(line)))\n",
    "        push!(fragparams, line)\n",
    "    end\n",
    "    return fragparams\n",
    "end"
   ]
  },
  {
   "cell_type": "markdown",
   "metadata": {},
   "source": [
    "## Dipendenze della funzione"
   ]
  },
  {
   "cell_type": "code",
   "execution_count": 3,
   "metadata": {},
   "outputs": [
    {
     "data": {
      "text/plain": [
       "intersection (generic function with 1 method)"
      ]
     },
     "execution_count": 3,
     "metadata": {},
     "output_type": "execute_result"
    }
   ],
   "source": [
    "function intersection(line1,line2)\n",
    "    x1,y1,x2,y2 = vcat(line1...)\n",
    "    x3,y3,x4,y4 = vcat(line2...)\n",
    "\n",
    "    det = (x4-x3)*(y1-y2)-(x1-x2)*(y4-y3)\n",
    "    if det != 0.0\n",
    "        a = 1/det\n",
    "        b = [y1-y2 x2-x1; y3-y4 x4-x3]  # x1-x2 => x2-x1 bug in the source link !!\n",
    "        c = [x1-x3; y1-y3]\n",
    "        (β,α) = a * b * c\n",
    "    else\n",
    "        return ()\n",
    "    end\n",
    "    return α,β\n",
    "end"
   ]
  },
  {
   "cell_type": "markdown",
   "metadata": {},
   "source": [
    "## Dati in input"
   ]
  },
  {
   "cell_type": "code",
   "execution_count": 4,
   "metadata": {},
   "outputs": [
    {
     "data": {
      "text/plain": [
       "60-element Array{Array{Int64,1},1}:\n",
       " []\n",
       " []\n",
       " []\n",
       " []\n",
       " []\n",
       " []\n",
       " []\n",
       " []\n",
       " []\n",
       " []\n",
       " []\n",
       " []\n",
       " []\n",
       " ⋮\n",
       " []\n",
       " []\n",
       " []\n",
       " []\n",
       " []\n",
       " []\n",
       " []\n",
       " []\n",
       " []\n",
       " []\n",
       " []\n",
       " []"
      ]
     },
     "execution_count": 4,
     "metadata": {},
     "output_type": "execute_result"
    }
   ],
   "source": [
    "V = [1.0 2.0 3.0 4.0 5.0 6.0 7.0 8.0 9.0 10.0 11.0 12.0 13.0 14.0 15.0 16.0 17.0 18.0 19.0 20.0 21.0 22.0 23.0 24.0 25.0 26.0 27.0 28.0 29.0 30.0 31.0 32.0 33.0 34.0 35.0 36.0 37.0 38.0 39.0 40.0 41.0 42.0 43.0 44.0 45.0 46.0 47.0 48.0 49.0 50.0 51.0 52.0 53.0 54.0 55.0 56.0 57.0 58.0 59.0 60.0 61.0 62.0 63.0 64.0 65.0 66.0 67.0 68.0 69.0 70.0 71.0 72.0 73.0 74.0 75.0 76.0 77.0 78.0 79.0 80.0 81.0 82.0 83.0 84.0 85.0 86.0 87.0 88.0 89.0 90.0 91.0 92.0 93.0 94.0 95.0 96.0 97.0 98.0 99.0 100.0 101.0 102.0 103.0 104.0 105.0 106.0 107.0 108.0 109.0 110.0 111.0 112.0 113.0 114.0 115.0 116.0 117.0 118.0 119.0 120.0 121.0 122.0 123.0 124.0 125.0 126.0 127.0 128.0 129.0;\n",
    "     1.0 2.0 3.0 4.0 5.0 6.0 7.0 8.0 9.0 10.0 11.0 12.0 13.0 14.0 15.0 16.0 17.0 18.0 19.0 20.0 21.0 22.0 23.0 24.0 25.0 26.0 27.0 28.0 29.0 30.0 31.0 32.0 33.0 34.0 35.0 36.0 37.0 38.0 39.0 40.0 41.0 42.0 43.0 44.0 45.0 46.0 47.0 48.0 49.0 50.0 51.0 52.0 53.0 54.0 55.0 56.0 57.0 58.0 59.0 60.0 61.0 62.0 63.0 64.0 65.0 66.0 67.0 68.0 69.0 70.0 71.0 72.0 73.0 74.0 75.0 76.0 77.0 78.0 79.0 80.0 81.0 82.0 83.0 84.0 85.0 86.0 87.0 88.0 89.0 90.0 91.0 92.0 93.0 94.0 95.0 96.0 97.0 98.0 99.0 100.0 101.0 102.0 103.0 104.0 105.0 106.0 107.0 108.0 109.0 110.0 111.0 112.0 113.0 114.0 115.0 116.0 117.0 118.0 119.0 120.0 121.0 122.0 123.0 124.0 125.0 126.0 127.0 128.0 129.0]\n",
    "\n",
    "EV = [[1,2],[3,4],[5,6],[7,8],[9,10],[11,12],[13,14],[15,16],[17,18],[19,20],[21,22],[23,24],[25,26],[27,28],[29,30],[31,32],[33,34],[35,36],[37,38],[39,40],[41,42],[43,44],[45,46],[47,48],[49,50],[51,52],[53,54],[55,56],[57,58],[59,60],[61,62],[63,64],[65,66],[67,68],[69,70],[71,72],[73,74],[75,76],[77,78],[79,80],[81,82],[83,84],[85,86],[87,88],[89,90],[91,92],[93,94],[95,96],[97,98],[99,100],[101,102],[103,104],[105,106],[107,108],[109,110],[111,112],[113,114],[115,116],[117,118],[119,120]]\n",
    "\n",
    "using OrderedCollections\n",
    "using IntervalTrees\n",
    "function spaceindex(model::Lar.LAR)::Array{Array{Int,1},1}\n",
    "    V,CV = model[1:2]\n",
    "    # se il modello è in 3d o 2d (guardo le righe di V, in 3d V è una 3xN, in 2d V è una 2xN)\n",
    "    dim = size(V,1)\n",
    "    cellpoints = [ V[:,CV[k]]::Lar.Points for k=1:length(CV) ]\n",
    "    #----------------------------------------------------------\n",
    "    bboxes = [hcat(boundingbox(cell)...) for cell in cellpoints]\n",
    "    xboxdict = coordintervals(1,bboxes)\n",
    "    yboxdict = coordintervals(2,bboxes)\n",
    "    # xs,ys are IntervalTree type\n",
    "    xs = IntervalTrees.IntervalMap{Float64, Array}()\n",
    "    for (key,boxset) in xboxdict\n",
    "        xs[tuple(key...)] = boxset\n",
    "    end\n",
    "    ys = IntervalTrees.IntervalMap{Float64, Array}()\n",
    "    for (key,boxset) in yboxdict\n",
    "        ys[tuple(key...)] = boxset\n",
    "    end\n",
    "    xcovers = boxcovering(bboxes, 1, xs)\n",
    "    ycovers = boxcovering(bboxes, 2, ys)\n",
    "    covers = [intersect(pair...) for pair in zip(xcovers,ycovers)]\n",
    "\n",
    "    if dim == 3\n",
    "        zboxdict = coordintervals(3,bboxes)\n",
    "        zs = IntervalTrees.IntervalMap{Float64, Array}()\n",
    "        for (key,boxset) in zboxdict\n",
    "            zs[tuple(key...)] = boxset\n",
    "        end\n",
    "        zcovers = boxcovering(bboxes, 3, zs)\n",
    "        covers = [intersect(pair...) for pair in zip(zcovers,covers)]\n",
    "    end\n",
    "    # remove each cell from its cover\n",
    "    for k=1:length(covers)\n",
    "        covers[k] = setdiff(covers[k],[k])\n",
    "    end\n",
    "    return covers\n",
    "end\n",
    "\n",
    "function boundingbox(vertices::Lar.Points)\n",
    "   minimum = mapslices(x->min(x...), vertices, dims=2)\n",
    "   maximum = mapslices(x->max(x...), vertices, dims=2)\n",
    "   return minimum, maximum\n",
    "end\n",
    "\n",
    "function coordintervals(coord,bboxes)\n",
    "    boxdict = OrderedDict{Array{Float64,1},Array{Int64,1}}()\n",
    "    for (h,box) in enumerate(bboxes)\n",
    "        key = box[coord,:]\n",
    "        if haskey(boxdict,key) == false\n",
    "            boxdict[key] = [h]\n",
    "        else\n",
    "            push!(boxdict[key], h)\n",
    "        end\n",
    "    end\n",
    "    return boxdict\n",
    "end\n",
    "\n",
    "function boxcovering(bboxes, index, tree)\n",
    "    covers = [[] for k=1:length(bboxes)]\n",
    "    for (i,boundingbox) in enumerate(bboxes)\n",
    "        extent = bboxes[i][index,:]\n",
    "        iterator = IntervalTrees.intersect(tree, tuple(extent...))\n",
    "        for x in iterator\n",
    "            append!(covers[i],x.value)\n",
    "        end\n",
    "    end\n",
    "    return covers\n",
    "end\n",
    "\n",
    "spaceIndex = spaceindex((V,EV))"
   ]
  },
  {
   "cell_type": "markdown",
   "metadata": {},
   "source": [
    "## 0) Benchmark vecchia funzione "
   ]
  },
  {
   "cell_type": "code",
   "execution_count": 5,
   "metadata": {},
   "outputs": [
    {
     "name": "stdout",
     "output_type": "stream",
     "text": [
      "  25.197 μs (668 allocations: 63.20 KiB)\n"
     ]
    },
    {
     "data": {
      "text/plain": [
       "60-element Array{Any,1}:\n",
       " [0.0, 1.0]\n",
       " [0.0, 1.0]\n",
       " [0.0, 1.0]\n",
       " [0.0, 1.0]\n",
       " [0.0, 1.0]\n",
       " [0.0, 1.0]\n",
       " [0.0, 1.0]\n",
       " [0.0, 1.0]\n",
       " [0.0, 1.0]\n",
       " [0.0, 1.0]\n",
       " [0.0, 1.0]\n",
       " [0.0, 1.0]\n",
       " [0.0, 1.0]\n",
       " ⋮\n",
       " [0.0, 1.0]\n",
       " [0.0, 1.0]\n",
       " [0.0, 1.0]\n",
       " [0.0, 1.0]\n",
       " [0.0, 1.0]\n",
       " [0.0, 1.0]\n",
       " [0.0, 1.0]\n",
       " [0.0, 1.0]\n",
       " [0.0, 1.0]\n",
       " [0.0, 1.0]\n",
       " [0.0, 1.0]\n",
       " [0.0, 1.0]"
      ]
     },
     "execution_count": 5,
     "metadata": {},
     "output_type": "execute_result"
    }
   ],
   "source": [
    "@btime linefragments(V,EV,spaceIndex)"
   ]
  },
  {
   "cell_type": "markdown",
   "metadata": {},
   "source": [
    "## 1) Controllo se la funzione è type unstable"
   ]
  },
  {
   "cell_type": "code",
   "execution_count": 6,
   "metadata": {},
   "outputs": [
    {
     "name": "stdout",
     "output_type": "stream",
     "text": [
      "Variables\n",
      "  #self#\u001b[36m::Core.Compiler.Const(linefragments, false)\u001b[39m\n",
      "  V\u001b[36m::Array{Float64,2}\u001b[39m\n",
      "  EV\u001b[36m::Array{Array{Int64,1},1}\u001b[39m\n",
      "  Sigma\u001b[36m::Array{Array{Int64,1},1}\u001b[39m\n",
      "  m\u001b[36m::Int64\u001b[39m\n",
      "  sigma\u001b[36m::Array{Array{Int64,1},1}\u001b[39m\n",
      "  reducedsigma\u001b[36m::Array{Array{Int64,1},1}\u001b[39m\n",
      "  params\u001b[36m::Array{Array{Float64,1},1}\u001b[39m\n",
      "  @_9\u001b[33m\u001b[1m::Union{Nothing, Tuple{Int64,Int64}}\u001b[22m\u001b[39m\n",
      "  fragparams\u001b[36m::Array{Any,1}\u001b[39m\n",
      "  @_11\u001b[33m\u001b[1m::Union{Nothing, Tuple{Array{Float64,1},Int64}}\u001b[22m\u001b[39m\n",
      "  @_12\u001b[36m::Array{Array{Float64,1},1}\u001b[39m\n",
      "  @_13\u001b[36m::Int64\u001b[39m\n",
      "  @_14\u001b[33m\u001b[1m::Union{Nothing, Tuple{Int64,Int64}}\u001b[22m\u001b[39m\n",
      "  i\u001b[36m::Int64\u001b[39m\n",
      "  h\u001b[36m::Int64\u001b[39m\n",
      "  line1\u001b[36m::Array{Float64,2}\u001b[39m\n",
      "  @_18\u001b[33m\u001b[1m::Union{Nothing, Tuple{Int64,Int64}}\u001b[22m\u001b[39m\n",
      "  k\u001b[36m::Int64\u001b[39m\n",
      "  @_20\u001b[36m::Int64\u001b[39m\n",
      "  line2\u001b[36m::Array{Float64,2}\u001b[39m\n",
      "  out\u001b[91m\u001b[1m::Tuple\u001b[22m\u001b[39m\n",
      "  α\u001b[91m\u001b[1m::Any\u001b[22m\u001b[39m\n",
      "  β\u001b[91m\u001b[1m::Any\u001b[22m\u001b[39m\n",
      "  line\u001b[36m::Array{Float64,1}\u001b[39m\n",
      "  @_26\u001b[91m\u001b[1m::Any\u001b[22m\u001b[39m\n",
      "  @_27\u001b[91m\u001b[1m::Any\u001b[22m\u001b[39m\n",
      "  @_28\u001b[91m\u001b[1m::Any\u001b[22m\u001b[39m\n",
      "\n",
      "Body\u001b[36m::Array{Any,1}\u001b[39m\n",
      "\u001b[90m1 ──\u001b[39m        Core.NewvarNode(:(params))\n",
      "\u001b[90m│   \u001b[39m        Core.NewvarNode(:(@_9))\n",
      "\u001b[90m│   \u001b[39m        Core.NewvarNode(:(fragparams))\n",
      "\u001b[90m│   \u001b[39m        Core.NewvarNode(:(@_11))\n",
      "\u001b[90m│   \u001b[39m        (m = Main.length(Sigma))\n",
      "\u001b[90m│   \u001b[39m        (sigma = Main.map(Main.sort, Sigma))\n",
      "\u001b[90m│   \u001b[39m        (reducedsigma = sigma)\n",
      "\u001b[90m│   \u001b[39m        Core.NewvarNode(:(@_12))\n",
      "\u001b[90m│   \u001b[39m        Core.NewvarNode(:(@_13))\n",
      "\u001b[90m│   \u001b[39m        Core.NewvarNode(:(@_14))\n",
      "\u001b[90m│   \u001b[39m %11  = (1:m)\u001b[36m::Core.Compiler.PartialStruct(UnitRange{Int64}, Any[Core.Compiler.Const(1, false), Int64])\u001b[39m\n",
      "\u001b[90m│   \u001b[39m %12  = Base.IteratorSize(%11)\u001b[36m::Core.Compiler.Const(Base.HasShape{1}(), false)\u001b[39m\n",
      "\u001b[90m│   \u001b[39m %13  = (%12 isa Base.SizeUnknown)\u001b[36m::Core.Compiler.Const(false, false)\u001b[39m\n",
      "\u001b[90m└───\u001b[39m        goto #3 if not %13\n",
      "\u001b[90m2 ──\u001b[39m        Core.Compiler.Const(:(Core.apply_type(Main.Array, Main.Float64, 1)), false)\n",
      "\u001b[90m│   \u001b[39m        Core.Compiler.Const(:(Core.apply_type(Core.Array, %15, 1)), false)\n",
      "\u001b[90m│   \u001b[39m        Core.Compiler.Const(:(@_12 = (%16)(Core.undef, 0)), false)\n",
      "\u001b[90m└───\u001b[39m        Core.Compiler.Const(:(goto %21), false)\n",
      "\u001b[90m3 ┄─\u001b[39m %19  = Core.apply_type(Main.Array, Main.Float64, 1)\u001b[36m::Core.Compiler.Const(Array{Float64,1}, false)\u001b[39m\n",
      "\u001b[90m│   \u001b[39m        (@_12 = Base._array_for(%19, %11, %12))\n",
      "\u001b[90m│   \u001b[39m %21  = Base.LinearIndices(@_12)\u001b[36m::LinearIndices{1,Tuple{Base.OneTo{Int64}}}\u001b[39m\n",
      "\u001b[90m│   \u001b[39m        (@_13 = Base.first(%21))\n",
      "\u001b[90m│   \u001b[39m        (@_14 = Base.iterate(%11))\n",
      "\u001b[90m│   \u001b[39m %24  = (@_14 === nothing)\u001b[36m::Bool\u001b[39m\n",
      "\u001b[90m│   \u001b[39m %25  = Base.not_int(%24)\u001b[36m::Bool\u001b[39m\n",
      "\u001b[90m└───\u001b[39m        goto #8 if not %25\n",
      "\u001b[90m4 ┄─\u001b[39m %27  = @_14::Tuple{Int64,Int64}\u001b[36m::Tuple{Int64,Int64}\u001b[39m\n",
      "\u001b[90m│   \u001b[39m        (i = Core.getfield(%27, 1))\n",
      "\u001b[90m│   \u001b[39m %29  = Core.getfield(%27, 2)\u001b[36m::Int64\u001b[39m\n",
      "\u001b[90m│   \u001b[39m %30  = Base.vect()\u001b[36m::Array{Any,1}\u001b[39m\n",
      "\u001b[90m│   \u001b[39m        $(Expr(:inbounds, true))\n",
      "\u001b[90m└───\u001b[39m        goto #6 if not %13\n",
      "\u001b[90m5 ──\u001b[39m        Core.Compiler.Const(:(Base.push!(@_12, %30)), false)\n",
      "\u001b[90m└───\u001b[39m        Core.Compiler.Const(:(goto %36), false)\n",
      "\u001b[90m6 ┄─\u001b[39m        Base.setindex!(@_12, %30, @_13)\n",
      "\u001b[90m│   \u001b[39m        $(Expr(:inbounds, :pop))\n",
      "\u001b[90m│   \u001b[39m        (@_13 = Base.add_int(@_13, 1))\n",
      "\u001b[90m│   \u001b[39m        (@_14 = Base.iterate(%11, %29))\n",
      "\u001b[90m│   \u001b[39m %39  = (@_14 === nothing)\u001b[36m::Bool\u001b[39m\n",
      "\u001b[90m│   \u001b[39m %40  = Base.not_int(%39)\u001b[36m::Bool\u001b[39m\n",
      "\u001b[90m└───\u001b[39m        goto #8 if not %40\n",
      "\u001b[90m7 ──\u001b[39m        goto #4\n",
      "\u001b[90m8 ┄─\u001b[39m        (params = @_12)\n",
      "\u001b[90m│   \u001b[39m %44  = (1:m)\u001b[36m::Core.Compiler.PartialStruct(UnitRange{Int64}, Any[Core.Compiler.Const(1, false), Int64])\u001b[39m\n",
      "\u001b[90m│   \u001b[39m        (@_9 = Base.iterate(%44))\n",
      "\u001b[90m│   \u001b[39m %46  = (@_9 === nothing)\u001b[36m::Bool\u001b[39m\n",
      "\u001b[90m│   \u001b[39m %47  = Base.not_int(%46)\u001b[36m::Bool\u001b[39m\n",
      "\u001b[90m└───\u001b[39m        goto #27 if not %47\n",
      "\u001b[90m9 ┄─\u001b[39m        Core.NewvarNode(:(line1))\n",
      "\u001b[90m│   \u001b[39m        Core.NewvarNode(:(@_18))\n",
      "\u001b[90m│   \u001b[39m %51  = @_9::Tuple{Int64,Int64}\u001b[36m::Tuple{Int64,Int64}\u001b[39m\n",
      "\u001b[90m│   \u001b[39m        (h = Core.getfield(%51, 1))\n",
      "\u001b[90m│   \u001b[39m %53  = Core.getfield(%51, 2)\u001b[36m::Int64\u001b[39m\n",
      "\u001b[90m│   \u001b[39m %54  = Base.getindex(sigma, h)\u001b[36m::Array{Int64,1}\u001b[39m\n",
      "\u001b[90m│   \u001b[39m %55  = Base.vect()\u001b[36m::Array{Any,1}\u001b[39m\n",
      "\u001b[90m│   \u001b[39m %56  = (%54 ≠ %55)\u001b[33m\u001b[1m::Union{Missing, Bool}\u001b[22m\u001b[39m\n",
      "\u001b[90m└───\u001b[39m        goto #25 if not %56\n",
      "\u001b[90m10 ─\u001b[39m %58  = Base.getindex(EV, h)\u001b[36m::Array{Int64,1}\u001b[39m\n",
      "\u001b[90m│   \u001b[39m        (line1 = Base.getindex(V, Main.:(:), %58))\n",
      "\u001b[90m│   \u001b[39m %60  = Base.getindex(sigma, h)\u001b[36m::Array{Int64,1}\u001b[39m\n",
      "\u001b[90m│   \u001b[39m        (@_18 = Base.iterate(%60))\n",
      "\u001b[90m│   \u001b[39m %62  = (@_18 === nothing)\u001b[36m::Bool\u001b[39m\n",
      "\u001b[90m│   \u001b[39m %63  = Base.not_int(%62)\u001b[36m::Bool\u001b[39m\n",
      "\u001b[90m└───\u001b[39m        goto #25 if not %63\n",
      "\u001b[90m11 ┄\u001b[39m        Core.NewvarNode(:(@_20))\n",
      "\u001b[90m│   \u001b[39m        Core.NewvarNode(:(α))\n",
      "\u001b[90m│   \u001b[39m        Core.NewvarNode(:(β))\n",
      "\u001b[90m│   \u001b[39m %68  = @_18::Tuple{Int64,Int64}\u001b[36m::Tuple{Int64,Int64}\u001b[39m\n",
      "\u001b[90m│   \u001b[39m        (k = Core.getfield(%68, 1))\n",
      "\u001b[90m│   \u001b[39m %70  = Core.getfield(%68, 2)\u001b[36m::Int64\u001b[39m\n",
      "\u001b[90m│   \u001b[39m %71  = Base.getindex(EV, k)\u001b[36m::Array{Int64,1}\u001b[39m\n",
      "\u001b[90m│   \u001b[39m        (line2 = Base.getindex(V, Main.:(:), %71))\n",
      "\u001b[90m│   \u001b[39m        (out = Main.intersection(line1, line2))\n",
      "\u001b[90m│   \u001b[39m %74  = out\u001b[91m\u001b[1m::Tuple\u001b[22m\u001b[39m\n",
      "\u001b[90m│   \u001b[39m %75  = ()\u001b[36m::Core.Compiler.Const((), false)\u001b[39m\n",
      "\u001b[90m│   \u001b[39m %76  = (%74 ≠ %75)\u001b[36m::Bool\u001b[39m\n",
      "\u001b[90m└───\u001b[39m        goto #23 if not %76\n",
      "\u001b[90m12 ─\u001b[39m %78  = Base.indexed_iterate(out, 1)\u001b[36m::Core.Compiler.PartialStruct(Tuple{Any,Int64}, Any[Any, Core.Compiler.Const(2, false)])\u001b[39m\n",
      "\u001b[90m│   \u001b[39m        (α = Core.getfield(%78, 1))\n",
      "\u001b[90m│   \u001b[39m        (@_20 = Core.getfield(%78, 2))\n",
      "\u001b[90m│   \u001b[39m %81  = Base.indexed_iterate(out, 2, @_20::Core.Compiler.Const(2, false))\u001b[36m::Core.Compiler.PartialStruct(Tuple{Any,Int64}, Any[Any, Core.Compiler.Const(3, false)])\u001b[39m\n",
      "\u001b[90m│   \u001b[39m        (β = Core.getfield(%81, 1))\n",
      "\u001b[90m│   \u001b[39m %83  = (0 <= α)\u001b[91m\u001b[1m::Any\u001b[22m\u001b[39m\n",
      "\u001b[90m└───\u001b[39m        goto #14 if not %83\n",
      "\u001b[90m13 ─\u001b[39m        (@_26 = α <= 1)\n",
      "\u001b[90m└───\u001b[39m        goto #15\n",
      "\u001b[90m14 ─\u001b[39m        (@_26 = false)\n",
      "\u001b[90m15 ┄\u001b[39m        goto #20 if not @_26\n",
      "\u001b[90m16 ─\u001b[39m %89  = (0 <= β)\u001b[91m\u001b[1m::Any\u001b[22m\u001b[39m\n",
      "\u001b[90m└───\u001b[39m        goto #18 if not %89\n",
      "\u001b[90m17 ─\u001b[39m        (@_28 = β <= 1)\n",
      "\u001b[90m└───\u001b[39m        goto #19\n",
      "\u001b[90m18 ─\u001b[39m        (@_28 = false)\n",
      "\u001b[90m19 ┄\u001b[39m        (@_27 = @_28)\n",
      "\u001b[90m└───\u001b[39m        goto #21\n",
      "\u001b[90m20 ─\u001b[39m        (@_27 = false)\n",
      "\u001b[90m21 ┄\u001b[39m        goto #23 if not @_27\n",
      "\u001b[90m22 ─\u001b[39m %98  = Base.getindex(params, h)\u001b[36m::Array{Float64,1}\u001b[39m\n",
      "\u001b[90m│   \u001b[39m        Main.push!(%98, α)\n",
      "\u001b[90m│   \u001b[39m %100 = Base.getindex(params, k)\u001b[36m::Array{Float64,1}\u001b[39m\n",
      "\u001b[90m└───\u001b[39m        Main.push!(%100, β)\n",
      "\u001b[90m23 ┄\u001b[39m        (@_18 = Base.iterate(%60, %70))\n",
      "\u001b[90m│   \u001b[39m %103 = (@_18 === nothing)\u001b[36m::Bool\u001b[39m\n",
      "\u001b[90m│   \u001b[39m %104 = Base.not_int(%103)\u001b[36m::Bool\u001b[39m\n",
      "\u001b[90m└───\u001b[39m        goto #25 if not %104\n",
      "\u001b[90m24 ─\u001b[39m        goto #11\n",
      "\u001b[90m25 ┄\u001b[39m        (@_9 = Base.iterate(%44, %53))\n",
      "\u001b[90m│   \u001b[39m %108 = (@_9 === nothing)\u001b[36m::Bool\u001b[39m\n",
      "\u001b[90m│   \u001b[39m %109 = Base.not_int(%108)\u001b[36m::Bool\u001b[39m\n",
      "\u001b[90m└───\u001b[39m        goto #27 if not %109\n",
      "\u001b[90m26 ─\u001b[39m        goto #9\n",
      "\u001b[90m27 ┄\u001b[39m        (fragparams = Base.vect())\n",
      "\u001b[90m│   \u001b[39m %113 = params\u001b[36m::Array{Array{Float64,1},1}\u001b[39m\n",
      "\u001b[90m│   \u001b[39m        (@_11 = Base.iterate(%113))\n",
      "\u001b[90m│   \u001b[39m %115 = (@_11 === nothing)\u001b[36m::Bool\u001b[39m\n",
      "\u001b[90m│   \u001b[39m %116 = Base.not_int(%115)\u001b[36m::Bool\u001b[39m\n",
      "\u001b[90m└───\u001b[39m        goto #30 if not %116\n",
      "\u001b[90m28 ┄\u001b[39m %118 = @_11::Tuple{Array{Float64,1},Int64}\u001b[36m::Tuple{Array{Float64,1},Int64}\u001b[39m\n",
      "\u001b[90m│   \u001b[39m        (line = Core.getfield(%118, 1))\n",
      "\u001b[90m│   \u001b[39m %120 = Core.getfield(%118, 2)\u001b[36m::Int64\u001b[39m\n",
      "\u001b[90m│   \u001b[39m        Main.push!(line, 0.0, 1.0)\n",
      "\u001b[90m│   \u001b[39m %122 = Main.Set(line)\u001b[36m::Set{Float64}\u001b[39m\n",
      "\u001b[90m│   \u001b[39m %123 = Main.collect(%122)\u001b[36m::Array{Float64,1}\u001b[39m\n",
      "\u001b[90m│   \u001b[39m        (line = Main.sort(%123))\n",
      "\u001b[90m│   \u001b[39m        Main.push!(fragparams, line)\n",
      "\u001b[90m│   \u001b[39m        (@_11 = Base.iterate(%113, %120))\n",
      "\u001b[90m│   \u001b[39m %127 = (@_11 === nothing)\u001b[36m::Bool\u001b[39m\n",
      "\u001b[90m│   \u001b[39m %128 = Base.not_int(%127)\u001b[36m::Bool\u001b[39m\n",
      "\u001b[90m└───\u001b[39m        goto #30 if not %128\n",
      "\u001b[90m29 ─\u001b[39m        goto #28\n",
      "\u001b[90m30 ┄\u001b[39m        return fragparams\n"
     ]
    }
   ],
   "source": [
    "@code_warntype linefragments(V,EV,spaceIndex)"
   ]
  },
  {
   "cell_type": "markdown",
   "metadata": {},
   "source": [
    "la funzione non  type unstable in quanto ho nell'output la stringa:\n",
    "\n",
    "    Body::Array{Any,1}"
   ]
  },
  {
   "cell_type": "markdown",
   "metadata": {},
   "source": [
    "## 2) Ottimizzazione cicli con @simd e @inbounds"
   ]
  },
  {
   "cell_type": "code",
   "execution_count": 7,
   "metadata": {},
   "outputs": [
    {
     "name": "stdout",
     "output_type": "stream",
     "text": [
      "  24.385 μs (678 allocations: 64.72 KiB)\n"
     ]
    },
    {
     "data": {
      "text/plain": [
       "60-element Array{Any,1}:\n",
       " [0.0, 1.0]\n",
       " [0.0, 1.0]\n",
       " [0.0, 1.0]\n",
       " [0.0, 1.0]\n",
       " [0.0, 1.0]\n",
       " [0.0, 1.0]\n",
       " [0.0, 1.0]\n",
       " [0.0, 1.0]\n",
       " [0.0, 1.0]\n",
       " [0.0, 1.0]\n",
       " [0.0, 1.0]\n",
       " [0.0, 1.0]\n",
       " [0.0, 1.0]\n",
       " ⋮\n",
       " [0.0, 1.0]\n",
       " [0.0, 1.0]\n",
       " [0.0, 1.0]\n",
       " [0.0, 1.0]\n",
       " [0.0, 1.0]\n",
       " [0.0, 1.0]\n",
       " [0.0, 1.0]\n",
       " [0.0, 1.0]\n",
       " [0.0, 1.0]\n",
       " [0.0, 1.0]\n",
       " [0.0, 1.0]\n",
       " [0.0, 1.0]"
      ]
     },
     "execution_count": 7,
     "metadata": {},
     "output_type": "execute_result"
    }
   ],
   "source": [
    "using Base.Threads\n",
    "function linefragments2(V,EV,Sigma)\n",
    "    m = length(Sigma) \n",
    "    sigma = map(sort,Sigma) \n",
    "    reducedsigma = sigma \n",
    "    params = Array{Float64,1}[[] for i=1:m]\n",
    "    @inbounds for h=1:m\n",
    "        if sigma[h] ≠ []\n",
    "            line1 = V[:,EV[h]]\n",
    "            len = length(sigma[h])\n",
    "            @inbounds @threads for k=1:len\n",
    "                line2 = V[:,EV[sigma[h][k]]]\n",
    "                out = intersection(line1,line2) \n",
    "                if out ≠ ()\n",
    "                    α,β = out\n",
    "                    if 0<=α<=1 && 0<=β<=1\n",
    "                        push!(params[h], α)\n",
    "                        push!(params[sigma[h][k]], β)\n",
    "                    end\n",
    "                end\n",
    "            end\n",
    "        end\n",
    "    end\n",
    "    fragparams = []\n",
    "    lenp = length(params)\n",
    "    @inbounds @threads for i=1:lenp\n",
    "        push!(params[i], 0.0, 1.0)\n",
    "        params[i] = sort(collect(Set(params[i])))\n",
    "        push!(fragparams, params[i])\n",
    "    end\n",
    "    return fragparams\n",
    "end\n",
    "@btime linefragments2(V,EV,spaceIndex)"
   ]
  },
  {
   "cell_type": "code",
   "execution_count": null,
   "metadata": {},
   "outputs": [],
   "source": []
  },
  {
   "cell_type": "code",
   "execution_count": null,
   "metadata": {},
   "outputs": [],
   "source": []
  }
 ],
 "metadata": {
  "kernelspec": {
   "display_name": "Julia 1.5.2",
   "language": "julia",
   "name": "julia-1.5"
  },
  "language_info": {
   "file_extension": ".jl",
   "mimetype": "application/julia",
   "name": "julia",
   "version": "1.5.2"
  }
 },
 "nbformat": 4,
 "nbformat_minor": 2
}
