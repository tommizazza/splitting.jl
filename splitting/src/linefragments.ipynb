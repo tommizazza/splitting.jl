{
 "cells": [
  {
   "cell_type": "code",
   "execution_count": 18,
   "metadata": {},
   "outputs": [],
   "source": [
    "using LinearAlgebraicRepresentation\n",
    "Lar = LinearAlgebraicRepresentation\n",
    "using BenchmarkTools"
   ]
  },
  {
   "cell_type": "markdown",
   "metadata": {},
   "source": [
    "## Funzione da ottimizzare"
   ]
  },
  {
   "cell_type": "code",
   "execution_count": 19,
   "metadata": {},
   "outputs": [
    {
     "data": {
      "text/plain": [
       "linefragments (generic function with 1 method)"
      ]
     },
     "execution_count": 19,
     "metadata": {},
     "output_type": "execute_result"
    }
   ],
   "source": [
    "function linefragments(V,EV,Sigma)\n",
    "    m = length(Sigma) \n",
    "    sigma = map(sort,Sigma) \n",
    "    reducedsigma = sigma \n",
    "    params = Array{Float64,1}[[] for i=1:m]\n",
    "    for h=1:m\n",
    "        if sigma[h] ≠ []\n",
    "            line1 = V[:,EV[h]]\n",
    "            for k in sigma[h]\n",
    "                line2 = V[:,EV[k]]\n",
    "                out = intersection(line1,line2) \n",
    "                if out ≠ ()\n",
    "                    α,β = out\n",
    "                    if 0<=α<=1 && 0<=β<=1\n",
    "                        push!(params[h], α)\n",
    "                        push!(params[k], β)\n",
    "                    end\n",
    "                end\n",
    "            end\n",
    "        end\n",
    "    end\n",
    "    fragparams = []\n",
    "    for line in params\n",
    "        push!(line, 0.0, 1.0)\n",
    "        line = sort(collect(Set(line)))\n",
    "        push!(fragparams, line)\n",
    "    end\n",
    "    return fragparams\n",
    "end"
   ]
  },
  {
   "cell_type": "markdown",
   "metadata": {},
   "source": [
    "## Dipendenze della funzione"
   ]
  },
  {
   "cell_type": "code",
   "execution_count": 20,
   "metadata": {},
   "outputs": [
    {
     "data": {
      "text/plain": [
       "intersection (generic function with 1 method)"
      ]
     },
     "execution_count": 20,
     "metadata": {},
     "output_type": "execute_result"
    }
   ],
   "source": [
    "function intersection(line1,line2)\n",
    "    x1,y1,x2,y2 = vcat(line1...)\n",
    "    x3,y3,x4,y4 = vcat(line2...)\n",
    "\n",
    "    det = (x4-x3)*(y1-y2)-(x1-x2)*(y4-y3)\n",
    "    if det != 0.0\n",
    "        a = 1/det\n",
    "        b = [y1-y2 x2-x1; y3-y4 x4-x3]  # x1-x2 => x2-x1 bug in the source link !!\n",
    "        c = [x1-x3; y1-y3]\n",
    "        (β,α) = a * b * c\n",
    "    else\n",
    "        if (y1==y2) == (y3==y4) || (x1==x2) == (x3==x4) # segments collinear\n",
    "             return nothing\n",
    "        else\n",
    "             # segments parallel: no intersection\n",
    "             return nothing\n",
    "        end\n",
    "    end\n",
    "    return α,β\n",
    "end"
   ]
  },
  {
   "cell_type": "markdown",
   "metadata": {},
   "source": [
    "## 0) Benchmark vecchia funzione "
   ]
  },
  {
   "cell_type": "code",
   "execution_count": 21,
   "metadata": {},
   "outputs": [
    {
     "name": "stdout",
     "output_type": "stream",
     "text": [
      "  10.877 μs (248 allocations: 11.78 KiB)\n"
     ]
    },
    {
     "data": {
      "text/plain": [
       "5-element Array{Any,1}:\n",
       " [0.0, 0.3333333333333333, 1.0]\n",
       " [0.0, 0.3333333333333333, 1.0]\n",
       " [0.0, 1.0]\n",
       " [0.0, 1.0]\n",
       " [0.0, 1.0]"
      ]
     },
     "execution_count": 21,
     "metadata": {},
     "output_type": "execute_result"
    }
   ],
   "source": [
    "V  =[0.0 2.0 2.0 -2.0 4.0 4.0 6.0 2.0 -1.0; \n",
    "      0.0 2.0 0.0  2.0 4.0 6.0 6.0 6.0  3.0]\n",
    "EV = [[1, 2], [3, 4], [5, 6], [7, 6], [8, 9]]\n",
    "spaceindex = [[2], [1], [4], [3], Int64[]]\n",
    "@btime linefragments(V,EV,spaceindex)"
   ]
  },
  {
   "cell_type": "markdown",
   "metadata": {},
   "source": [
    "## 1) Controllo se la funzione è type unstable"
   ]
  },
  {
   "cell_type": "code",
   "execution_count": 22,
   "metadata": {},
   "outputs": [
    {
     "name": "stdout",
     "output_type": "stream",
     "text": [
      "Variables\n",
      "  #self#\u001b[36m::Core.Compiler.Const(linefragments, false)\u001b[39m\n",
      "  V\u001b[36m::Array{Float64,2}\u001b[39m\n",
      "  EV\u001b[36m::Array{Array{Int64,1},1}\u001b[39m\n",
      "  Sigma\u001b[36m::Array{Array{Int64,1},1}\u001b[39m\n",
      "  m\u001b[36m::Int64\u001b[39m\n",
      "  sigma\u001b[36m::Array{Array{Int64,1},1}\u001b[39m\n",
      "  reducedsigma\u001b[36m::Array{Array{Int64,1},1}\u001b[39m\n",
      "  params\u001b[36m::Array{Array{Float64,1},1}\u001b[39m\n",
      "  @_9\u001b[33m\u001b[1m::Union{Nothing, Tuple{Int64,Int64}}\u001b[22m\u001b[39m\n",
      "  fragparams\u001b[36m::Array{Any,1}\u001b[39m\n",
      "  @_11\u001b[33m\u001b[1m::Union{Nothing, Tuple{Array{Float64,1},Int64}}\u001b[22m\u001b[39m\n",
      "  @_12\u001b[36m::Array{Array{Float64,1},1}\u001b[39m\n",
      "  @_13\u001b[36m::Int64\u001b[39m\n",
      "  @_14\u001b[33m\u001b[1m::Union{Nothing, Tuple{Int64,Int64}}\u001b[22m\u001b[39m\n",
      "  i\u001b[36m::Int64\u001b[39m\n",
      "  h\u001b[36m::Int64\u001b[39m\n",
      "  line1\u001b[36m::Array{Float64,2}\u001b[39m\n",
      "  @_18\u001b[33m\u001b[1m::Union{Nothing, Tuple{Int64,Int64}}\u001b[22m\u001b[39m\n",
      "  k\u001b[36m::Int64\u001b[39m\n",
      "  @_20\u001b[36m::Int64\u001b[39m\n",
      "  line2\u001b[36m::Array{Float64,2}\u001b[39m\n",
      "  out\u001b[33m\u001b[1m::Union{Nothing, Tuple{Any,Any}}\u001b[22m\u001b[39m\n",
      "  α\u001b[91m\u001b[1m::Any\u001b[22m\u001b[39m\n",
      "  β\u001b[91m\u001b[1m::Any\u001b[22m\u001b[39m\n",
      "  line\u001b[36m::Array{Float64,1}\u001b[39m\n",
      "  @_26\u001b[91m\u001b[1m::Any\u001b[22m\u001b[39m\n",
      "  @_27\u001b[91m\u001b[1m::Any\u001b[22m\u001b[39m\n",
      "  @_28\u001b[91m\u001b[1m::Any\u001b[22m\u001b[39m\n",
      "\n",
      "Body\u001b[36m::Array{Any,1}\u001b[39m\n",
      "\u001b[90m1 ──\u001b[39m        Core.NewvarNode(:(params))\n",
      "\u001b[90m│   \u001b[39m        Core.NewvarNode(:(@_9))\n",
      "\u001b[90m│   \u001b[39m        Core.NewvarNode(:(fragparams))\n",
      "\u001b[90m│   \u001b[39m        Core.NewvarNode(:(@_11))\n",
      "\u001b[90m│   \u001b[39m        (m = Main.length(Sigma))\n",
      "\u001b[90m│   \u001b[39m        (sigma = Main.map(Main.sort, Sigma))\n",
      "\u001b[90m│   \u001b[39m        (reducedsigma = sigma)\n",
      "\u001b[90m│   \u001b[39m        Core.NewvarNode(:(@_12))\n",
      "\u001b[90m│   \u001b[39m        Core.NewvarNode(:(@_13))\n",
      "\u001b[90m│   \u001b[39m        Core.NewvarNode(:(@_14))\n",
      "\u001b[90m│   \u001b[39m %11  = (1:m)\u001b[36m::Core.Compiler.PartialStruct(UnitRange{Int64}, Any[Core.Compiler.Const(1, false), Int64])\u001b[39m\n",
      "\u001b[90m│   \u001b[39m %12  = Base.IteratorSize(%11)\u001b[36m::Core.Compiler.Const(Base.HasShape{1}(), false)\u001b[39m\n",
      "\u001b[90m│   \u001b[39m %13  = (%12 isa Base.SizeUnknown)\u001b[36m::Core.Compiler.Const(false, false)\u001b[39m\n",
      "\u001b[90m└───\u001b[39m        goto #3 if not %13\n",
      "\u001b[90m2 ──\u001b[39m        Core.Compiler.Const(:(Core.apply_type(Main.Array, Main.Float64, 1)), false)\n",
      "\u001b[90m│   \u001b[39m        Core.Compiler.Const(:(Core.apply_type(Core.Array, %15, 1)), false)\n",
      "\u001b[90m│   \u001b[39m        Core.Compiler.Const(:(@_12 = (%16)(Core.undef, 0)), false)\n",
      "\u001b[90m└───\u001b[39m        Core.Compiler.Const(:(goto %21), false)\n",
      "\u001b[90m3 ┄─\u001b[39m %19  = Core.apply_type(Main.Array, Main.Float64, 1)\u001b[36m::Core.Compiler.Const(Array{Float64,1}, false)\u001b[39m\n",
      "\u001b[90m│   \u001b[39m        (@_12 = Base._array_for(%19, %11, %12))\n",
      "\u001b[90m│   \u001b[39m %21  = Base.LinearIndices(@_12)\u001b[36m::LinearIndices{1,Tuple{Base.OneTo{Int64}}}\u001b[39m\n",
      "\u001b[90m│   \u001b[39m        (@_13 = Base.first(%21))\n",
      "\u001b[90m│   \u001b[39m        (@_14 = Base.iterate(%11))\n",
      "\u001b[90m│   \u001b[39m %24  = (@_14 === nothing)\u001b[36m::Bool\u001b[39m\n",
      "\u001b[90m│   \u001b[39m %25  = Base.not_int(%24)\u001b[36m::Bool\u001b[39m\n",
      "\u001b[90m└───\u001b[39m        goto #8 if not %25\n",
      "\u001b[90m4 ┄─\u001b[39m %27  = @_14::Tuple{Int64,Int64}\u001b[36m::Tuple{Int64,Int64}\u001b[39m\n",
      "\u001b[90m│   \u001b[39m        (i = Core.getfield(%27, 1))\n",
      "\u001b[90m│   \u001b[39m %29  = Core.getfield(%27, 2)\u001b[36m::Int64\u001b[39m\n",
      "\u001b[90m│   \u001b[39m %30  = Base.vect()\u001b[36m::Array{Any,1}\u001b[39m\n",
      "\u001b[90m│   \u001b[39m        $(Expr(:inbounds, true))\n",
      "\u001b[90m└───\u001b[39m        goto #6 if not %13\n",
      "\u001b[90m5 ──\u001b[39m        Core.Compiler.Const(:(Base.push!(@_12, %30)), false)\n",
      "\u001b[90m└───\u001b[39m        Core.Compiler.Const(:(goto %36), false)\n",
      "\u001b[90m6 ┄─\u001b[39m        Base.setindex!(@_12, %30, @_13)\n",
      "\u001b[90m│   \u001b[39m        $(Expr(:inbounds, :pop))\n",
      "\u001b[90m│   \u001b[39m        (@_13 = Base.add_int(@_13, 1))\n",
      "\u001b[90m│   \u001b[39m        (@_14 = Base.iterate(%11, %29))\n",
      "\u001b[90m│   \u001b[39m %39  = (@_14 === nothing)\u001b[36m::Bool\u001b[39m\n",
      "\u001b[90m│   \u001b[39m %40  = Base.not_int(%39)\u001b[36m::Bool\u001b[39m\n",
      "\u001b[90m└───\u001b[39m        goto #8 if not %40\n",
      "\u001b[90m7 ──\u001b[39m        goto #4\n",
      "\u001b[90m8 ┄─\u001b[39m        (params = @_12)\n",
      "\u001b[90m│   \u001b[39m %44  = (1:m)\u001b[36m::Core.Compiler.PartialStruct(UnitRange{Int64}, Any[Core.Compiler.Const(1, false), Int64])\u001b[39m\n",
      "\u001b[90m│   \u001b[39m        (@_9 = Base.iterate(%44))\n",
      "\u001b[90m│   \u001b[39m %46  = (@_9 === nothing)\u001b[36m::Bool\u001b[39m\n",
      "\u001b[90m│   \u001b[39m %47  = Base.not_int(%46)\u001b[36m::Bool\u001b[39m\n",
      "\u001b[90m└───\u001b[39m        goto #27 if not %47\n",
      "\u001b[90m9 ┄─\u001b[39m        Core.NewvarNode(:(line1))\n",
      "\u001b[90m│   \u001b[39m        Core.NewvarNode(:(@_18))\n",
      "\u001b[90m│   \u001b[39m %51  = @_9::Tuple{Int64,Int64}\u001b[36m::Tuple{Int64,Int64}\u001b[39m\n",
      "\u001b[90m│   \u001b[39m        (h = Core.getfield(%51, 1))\n",
      "\u001b[90m│   \u001b[39m %53  = Core.getfield(%51, 2)\u001b[36m::Int64\u001b[39m\n",
      "\u001b[90m│   \u001b[39m %54  = Base.getindex(sigma, h)\u001b[36m::Array{Int64,1}\u001b[39m\n",
      "\u001b[90m│   \u001b[39m %55  = Base.vect()\u001b[36m::Array{Any,1}\u001b[39m\n",
      "\u001b[90m│   \u001b[39m %56  = (%54 ≠ %55)\u001b[33m\u001b[1m::Union{Missing, Bool}\u001b[22m\u001b[39m\n",
      "\u001b[90m└───\u001b[39m        goto #25 if not %56\n",
      "\u001b[90m10 ─\u001b[39m %58  = Base.getindex(EV, h)\u001b[36m::Array{Int64,1}\u001b[39m\n",
      "\u001b[90m│   \u001b[39m        (line1 = Base.getindex(V, Main.:(:), %58))\n",
      "\u001b[90m│   \u001b[39m %60  = Base.getindex(sigma, h)\u001b[36m::Array{Int64,1}\u001b[39m\n",
      "\u001b[90m│   \u001b[39m        (@_18 = Base.iterate(%60))\n",
      "\u001b[90m│   \u001b[39m %62  = (@_18 === nothing)\u001b[36m::Bool\u001b[39m\n",
      "\u001b[90m│   \u001b[39m %63  = Base.not_int(%62)\u001b[36m::Bool\u001b[39m\n",
      "\u001b[90m└───\u001b[39m        goto #25 if not %63\n",
      "\u001b[90m11 ┄\u001b[39m        Core.NewvarNode(:(@_20))\n",
      "\u001b[90m│   \u001b[39m        Core.NewvarNode(:(α))\n",
      "\u001b[90m│   \u001b[39m        Core.NewvarNode(:(β))\n",
      "\u001b[90m│   \u001b[39m %68  = @_18::Tuple{Int64,Int64}\u001b[36m::Tuple{Int64,Int64}\u001b[39m\n",
      "\u001b[90m│   \u001b[39m        (k = Core.getfield(%68, 1))\n",
      "\u001b[90m│   \u001b[39m %70  = Core.getfield(%68, 2)\u001b[36m::Int64\u001b[39m\n",
      "\u001b[90m│   \u001b[39m %71  = Base.getindex(EV, k)\u001b[36m::Array{Int64,1}\u001b[39m\n",
      "\u001b[90m│   \u001b[39m        (line2 = Base.getindex(V, Main.:(:), %71))\n",
      "\u001b[90m│   \u001b[39m        (out = Main.intersection(line1, line2))\n",
      "\u001b[90m│   \u001b[39m %74  = out\u001b[33m\u001b[1m::Union{Nothing, Tuple{Any,Any}}\u001b[22m\u001b[39m\n",
      "\u001b[90m│   \u001b[39m %75  = ()\u001b[36m::Core.Compiler.Const((), false)\u001b[39m\n",
      "\u001b[90m│   \u001b[39m %76  = (%74 ≠ %75)\u001b[36m::Core.Compiler.Const(true, false)\u001b[39m\n",
      "\u001b[90m└───\u001b[39m        goto #23 if not %76\n",
      "\u001b[90m12 ─\u001b[39m %78  = Base.indexed_iterate(out, 1)\u001b[36m::Core.Compiler.PartialStruct(Tuple{Any,Int64}, Any[Any, Core.Compiler.Const(2, false)])\u001b[39m\n",
      "\u001b[90m│   \u001b[39m        (α = Core.getfield(%78, 1))\n",
      "\u001b[90m│   \u001b[39m        (@_20 = Core.getfield(%78, 2))\n",
      "\u001b[90m│   \u001b[39m %81  = Base.indexed_iterate(out, 2, @_20::Core.Compiler.Const(2, false))\u001b[36m::Core.Compiler.PartialStruct(Tuple{Any,Int64}, Any[Any, Core.Compiler.Const(3, false)])\u001b[39m\n",
      "\u001b[90m│   \u001b[39m        (β = Core.getfield(%81, 1))\n",
      "\u001b[90m│   \u001b[39m %83  = (0 <= α)\u001b[91m\u001b[1m::Any\u001b[22m\u001b[39m\n",
      "\u001b[90m└───\u001b[39m        goto #14 if not %83\n",
      "\u001b[90m13 ─\u001b[39m        (@_26 = α <= 1)\n",
      "\u001b[90m└───\u001b[39m        goto #15\n",
      "\u001b[90m14 ─\u001b[39m        (@_26 = false)\n",
      "\u001b[90m15 ┄\u001b[39m        goto #20 if not @_26\n",
      "\u001b[90m16 ─\u001b[39m %89  = (0 <= β)\u001b[91m\u001b[1m::Any\u001b[22m\u001b[39m\n",
      "\u001b[90m└───\u001b[39m        goto #18 if not %89\n",
      "\u001b[90m17 ─\u001b[39m        (@_28 = β <= 1)\n",
      "\u001b[90m└───\u001b[39m        goto #19\n",
      "\u001b[90m18 ─\u001b[39m        (@_28 = false)\n",
      "\u001b[90m19 ┄\u001b[39m        (@_27 = @_28)\n",
      "\u001b[90m└───\u001b[39m        goto #21\n",
      "\u001b[90m20 ─\u001b[39m        (@_27 = false)\n",
      "\u001b[90m21 ┄\u001b[39m        goto #23 if not @_27\n",
      "\u001b[90m22 ─\u001b[39m %98  = Base.getindex(params, h)\u001b[36m::Array{Float64,1}\u001b[39m\n",
      "\u001b[90m│   \u001b[39m        Main.push!(%98, α)\n",
      "\u001b[90m│   \u001b[39m %100 = Base.getindex(params, k)\u001b[36m::Array{Float64,1}\u001b[39m\n",
      "\u001b[90m└───\u001b[39m        Main.push!(%100, β)\n",
      "\u001b[90m23 ┄\u001b[39m        (@_18 = Base.iterate(%60, %70))\n",
      "\u001b[90m│   \u001b[39m %103 = (@_18 === nothing)\u001b[36m::Bool\u001b[39m\n",
      "\u001b[90m│   \u001b[39m %104 = Base.not_int(%103)\u001b[36m::Bool\u001b[39m\n",
      "\u001b[90m└───\u001b[39m        goto #25 if not %104\n",
      "\u001b[90m24 ─\u001b[39m        goto #11\n",
      "\u001b[90m25 ┄\u001b[39m        (@_9 = Base.iterate(%44, %53))\n",
      "\u001b[90m│   \u001b[39m %108 = (@_9 === nothing)\u001b[36m::Bool\u001b[39m\n",
      "\u001b[90m│   \u001b[39m %109 = Base.not_int(%108)\u001b[36m::Bool\u001b[39m\n",
      "\u001b[90m└───\u001b[39m        goto #27 if not %109\n",
      "\u001b[90m26 ─\u001b[39m        goto #9\n",
      "\u001b[90m27 ┄\u001b[39m        (fragparams = Base.vect())\n",
      "\u001b[90m│   \u001b[39m %113 = params\u001b[36m::Array{Array{Float64,1},1}\u001b[39m\n",
      "\u001b[90m│   \u001b[39m        (@_11 = Base.iterate(%113))\n",
      "\u001b[90m│   \u001b[39m %115 = (@_11 === nothing)\u001b[36m::Bool\u001b[39m\n",
      "\u001b[90m│   \u001b[39m %116 = Base.not_int(%115)\u001b[36m::Bool\u001b[39m\n",
      "\u001b[90m└───\u001b[39m        goto #30 if not %116\n",
      "\u001b[90m28 ┄\u001b[39m %118 = @_11::Tuple{Array{Float64,1},Int64}\u001b[36m::Tuple{Array{Float64,1},Int64}\u001b[39m\n",
      "\u001b[90m│   \u001b[39m        (line = Core.getfield(%118, 1))\n",
      "\u001b[90m│   \u001b[39m %120 = Core.getfield(%118, 2)\u001b[36m::Int64\u001b[39m\n",
      "\u001b[90m│   \u001b[39m        Main.push!(line, 0.0, 1.0)\n",
      "\u001b[90m│   \u001b[39m %122 = Main.Set(line)\u001b[36m::Set{Float64}\u001b[39m\n",
      "\u001b[90m│   \u001b[39m %123 = Main.collect(%122)\u001b[36m::Array{Float64,1}\u001b[39m\n",
      "\u001b[90m│   \u001b[39m        (line = Main.sort(%123))\n",
      "\u001b[90m│   \u001b[39m        Main.push!(fragparams, line)\n",
      "\u001b[90m│   \u001b[39m        (@_11 = Base.iterate(%113, %120))\n",
      "\u001b[90m│   \u001b[39m %127 = (@_11 === nothing)\u001b[36m::Bool\u001b[39m\n",
      "\u001b[90m│   \u001b[39m %128 = Base.not_int(%127)\u001b[36m::Bool\u001b[39m\n",
      "\u001b[90m└───\u001b[39m        goto #30 if not %128\n",
      "\u001b[90m29 ─\u001b[39m        goto #28\n",
      "\u001b[90m30 ┄\u001b[39m        return fragparams\n"
     ]
    }
   ],
   "source": [
    "@code_warntype linefragments(V,EV,spaceindex)"
   ]
  },
  {
   "cell_type": "markdown",
   "metadata": {},
   "source": [
    "la funzione è type unstable in quanto ho nell'output la stringa:\n",
    "\n",
    "    Body::Array{Any,1}"
   ]
  },
  {
   "cell_type": "code",
   "execution_count": null,
   "metadata": {},
   "outputs": [],
   "source": []
  }
 ],
 "metadata": {
  "kernelspec": {
   "display_name": "Julia 1.5.2",
   "language": "julia",
   "name": "julia-1.5"
  },
  "language_info": {
   "file_extension": ".jl",
   "mimetype": "application/julia",
   "name": "julia",
   "version": "1.5.2"
  }
 },
 "nbformat": 4,
 "nbformat_minor": 2
}
