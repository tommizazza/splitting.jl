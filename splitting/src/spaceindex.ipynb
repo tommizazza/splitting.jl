{
 "cells": [
  {
   "cell_type": "code",
   "execution_count": 9,
   "metadata": {},
   "outputs": [],
   "source": [
    "using LinearAlgebraicRepresentation\n",
    "Lar = LinearAlgebraicRepresentation\n",
    "using IntervalTrees\n",
    "using SparseArrays\n",
    "using NearestNeighbors\n",
    "using DataStructures\n",
    "using OrderedCollections\n",
    "using BenchmarkTools"
   ]
  },
  {
   "cell_type": "markdown",
   "metadata": {},
   "source": [
    "## Funzione da ottimizzare"
   ]
  },
  {
   "cell_type": "code",
   "execution_count": 10,
   "metadata": {},
   "outputs": [
    {
     "data": {
      "text/plain": [
       "spaceindex (generic function with 1 method)"
      ]
     },
     "execution_count": 10,
     "metadata": {},
     "output_type": "execute_result"
    }
   ],
   "source": [
    "function spaceindex(model::Lar.LAR)::Array{Array{Int,1},1}\n",
    "    V,CV = model[1:2]\n",
    "    # se il modello è in 3d o 2d (guardo le righe di V, in 3d V è una 3xN, in 2d V è una 2xN)\n",
    "    dim = size(V,1)\n",
    "    cellpoints = [ V[:,CV[k]]::Lar.Points for k=1:length(CV) ]\n",
    "    #----------------------------------------------------------\n",
    "    bboxes = [hcat(boundingbox(cell)...) for cell in cellpoints]\n",
    "    xboxdict = coordintervals(1,bboxes)\n",
    "    yboxdict = coordintervals(2,bboxes)\n",
    "    # xs,ys are IntervalTree type\n",
    "    xs = IntervalTrees.IntervalMap{Float64, Array}()\n",
    "    for (key,boxset) in xboxdict\n",
    "        xs[tuple(key...)] = boxset\n",
    "    end\n",
    "    ys = IntervalTrees.IntervalMap{Float64, Array}()\n",
    "    for (key,boxset) in yboxdict\n",
    "        ys[tuple(key...)] = boxset\n",
    "    end\n",
    "    xcovers = boxcovering(bboxes, 1, xs)\n",
    "    ycovers = boxcovering(bboxes, 2, ys)\n",
    "    covers = [intersect(pair...) for pair in zip(xcovers,ycovers)]\n",
    "\n",
    "    if dim == 3\n",
    "        zboxdict = coordintervals(3,bboxes)\n",
    "        zs = IntervalTrees.IntervalMap{Float64, Array}()\n",
    "        for (key,boxset) in zboxdict\n",
    "            zs[tuple(key...)] = boxset\n",
    "        end\n",
    "        zcovers = boxcovering(bboxes, 3, zs)\n",
    "        covers = [intersect(pair...) for pair in zip(zcovers,covers)]\n",
    "    end\n",
    "    # remove each cell from its cover\n",
    "    for k=1:length(covers)\n",
    "        covers[k] = setdiff(covers[k],[k])\n",
    "    end\n",
    "    return covers\n",
    "end"
   ]
  },
  {
   "cell_type": "markdown",
   "metadata": {},
   "source": [
    "## Dipendenze della funzione"
   ]
  },
  {
   "cell_type": "code",
   "execution_count": 11,
   "metadata": {},
   "outputs": [
    {
     "data": {
      "text/plain": [
       "boundingbox (generic function with 1 method)"
      ]
     },
     "execution_count": 11,
     "metadata": {},
     "output_type": "execute_result"
    }
   ],
   "source": [
    "function boundingbox(vertices::Lar.Points)\n",
    "   minimum = mapslices(x->min(x...), vertices, dims=2)\n",
    "   maximum = mapslices(x->max(x...), vertices, dims=2)\n",
    "   return minimum, maximum\n",
    "end\n",
    "\n",
    "function coordintervals(coord,bboxes)\n",
    "    boxdict = OrderedDict{Array{Float64,1},Array{Int64,1}}()\n",
    "    for (h,box) in enumerate(bboxes)\n",
    "        key = box[coord,:]\n",
    "        if haskey(boxdict,key) == false\n",
    "            boxdict[key] = [h]\n",
    "        else\n",
    "            push!(boxdict[key], h)\n",
    "        end\n",
    "    end\n",
    "    return boxdict\n",
    "end\n",
    "\n",
    "function boxcovering(bboxes, index, tree)\n",
    "    covers = [[] for k=1:length(bboxes)]\n",
    "    for (i,boundingbox) in enumerate(bboxes)\n",
    "        extent = bboxes[i][index,:]\n",
    "        iterator = IntervalTrees.intersect(tree, tuple(extent...))\n",
    "        for x in iterator\n",
    "            append!(covers[i],x.value)\n",
    "        end\n",
    "    end\n",
    "    return covers\n",
    "end"
   ]
  },
  {
   "cell_type": "markdown",
   "metadata": {},
   "source": [
    "## 0) Benchmark vecchia funzione "
   ]
  },
  {
   "cell_type": "code",
   "execution_count": 14,
   "metadata": {},
   "outputs": [
    {
     "name": "stdout",
     "output_type": "stream",
     "text": [
      "  109.097 μs (981 allocations: 53.19 KiB)\n"
     ]
    },
    {
     "data": {
      "text/plain": [
       "5-element Array{Array{Int64,1},1}:\n",
       " [2]\n",
       " [1]\n",
       " [4]\n",
       " [3]\n",
       " []"
      ]
     },
     "execution_count": 14,
     "metadata": {},
     "output_type": "execute_result"
    }
   ],
   "source": [
    "V = [0.0 2.0 2.0 -2.0 4.0 4.0 6.0 2.0 -1.0;\n",
    "      0.0 2.0 0.0  2.0 4.0 6.0 6.0 6.0  3.0]\n",
    "EV = [[1,2], [3,4], [5,6], [7,6], [8,9]]\n",
    "@btime spaceindex((V,EV))"
   ]
  },
  {
   "cell_type": "markdown",
   "metadata": {},
   "source": [
    "## 1) Controllo se la funzione è type unstable"
   ]
  },
  {
   "cell_type": "code",
   "execution_count": 15,
   "metadata": {},
   "outputs": [
    {
     "name": "stdout",
     "output_type": "stream",
     "text": [
      "Variables\n",
      "  #self#\u001b[36m::Core.Compiler.Const(spaceindex, false)\u001b[39m\n",
      "  model\u001b[36m::Tuple{Array{Float64,2},Array{Array{Int64,1},1}}\u001b[39m\n",
      "  @_3\u001b[36m::Int64\u001b[39m\n",
      "  #20\u001b[36m::var\"#20#24\"{Array{Float64,2},Array{Array{Int64,1},1}}\u001b[39m\n",
      "  #21\u001b[36m::var\"#21#25\"\u001b[39m\n",
      "  #22\u001b[36m::var\"#22#26\"\u001b[39m\n",
      "  #23\u001b[36m::var\"#23#27\"\u001b[39m\n",
      "  V\u001b[36m::Array{Float64,2}\u001b[39m\n",
      "  CV\u001b[36m::Array{Array{Int64,1},1}\u001b[39m\n",
      "  dim\u001b[36m::Int64\u001b[39m\n",
      "  cellpoints\u001b[36m::Array{Array{Float64,2},1}\u001b[39m\n",
      "  bboxes\u001b[91m\u001b[1m::Array{_A,1} where _A\u001b[22m\u001b[39m\n",
      "  xboxdict\u001b[36m::OrderedDict{Array{Float64,1},Array{Int64,1}}\u001b[39m\n",
      "  yboxdict\u001b[36m::OrderedDict{Array{Float64,1},Array{Int64,1}}\u001b[39m\n",
      "  xs\u001b[36m::IntervalTrees.IntervalBTree{Float64,IntervalValue{Float64,Array},64}\u001b[39m\n",
      "  @_16\u001b[33m\u001b[1m::Union{Nothing, Tuple{Pair{Array{Float64,1},Array{Int64,1}},Int64}}\u001b[22m\u001b[39m\n",
      "  ys\u001b[36m::IntervalTrees.IntervalBTree{Float64,IntervalValue{Float64,Array},64}\u001b[39m\n",
      "  @_18\u001b[33m\u001b[1m::Union{Nothing, Tuple{Pair{Array{Float64,1},Array{Int64,1}},Int64}}\u001b[22m\u001b[39m\n",
      "  xcovers\u001b[36m::Array{Array{Any,1},1}\u001b[39m\n",
      "  ycovers\u001b[36m::Array{Array{Any,1},1}\u001b[39m\n",
      "  covers\u001b[36m::Array{Array{Any,1},1}\u001b[39m\n",
      "  zboxdict\u001b[36m::OrderedDict{Array{Float64,1},Array{Int64,1}}\u001b[39m\n",
      "  zs\u001b[36m::IntervalTrees.IntervalBTree{Float64,IntervalValue{Float64,Array},64}\u001b[39m\n",
      "  @_24\u001b[33m\u001b[1m::Union{Nothing, Tuple{Pair{Array{Float64,1},Array{Int64,1}},Int64}}\u001b[22m\u001b[39m\n",
      "  zcovers\u001b[36m::Array{Array{Any,1},1}\u001b[39m\n",
      "  @_26\u001b[33m\u001b[1m::Union{Nothing, Tuple{Int64,Int64}}\u001b[22m\u001b[39m\n",
      "  key@_27\u001b[36m::Array{Float64,1}\u001b[39m\n",
      "  boxset@_28\u001b[36m::Array{Int64,1}\u001b[39m\n",
      "  @_29\u001b[36m::Int64\u001b[39m\n",
      "  @_30\u001b[36m::Int64\u001b[39m\n",
      "  key@_31\u001b[36m::Array{Float64,1}\u001b[39m\n",
      "  boxset@_32\u001b[36m::Array{Int64,1}\u001b[39m\n",
      "  @_33\u001b[36m::Int64\u001b[39m\n",
      "  key@_34\u001b[36m::Array{Float64,1}\u001b[39m\n",
      "  boxset@_35\u001b[36m::Array{Int64,1}\u001b[39m\n",
      "  k\u001b[36m::Int64\u001b[39m\n",
      "\n",
      "Body\u001b[36m::Array{Array{Int64,1},1}\u001b[39m\n",
      "\u001b[90m1 ──\u001b[39m        Core.NewvarNode(:(#22))\n",
      "\u001b[90m│   \u001b[39m        Core.NewvarNode(:(#23))\n",
      "\u001b[90m│   \u001b[39m        Core.NewvarNode(:(ys))\n",
      "\u001b[90m│   \u001b[39m        Core.NewvarNode(:(@_18))\n",
      "\u001b[90m│   \u001b[39m        Core.NewvarNode(:(xcovers))\n",
      "\u001b[90m│   \u001b[39m        Core.NewvarNode(:(ycovers))\n",
      "\u001b[90m│   \u001b[39m        Core.NewvarNode(:(covers))\n",
      "\u001b[90m│   \u001b[39m        Core.NewvarNode(:(zboxdict))\n",
      "\u001b[90m│   \u001b[39m        Core.NewvarNode(:(zs))\n",
      "\u001b[90m│   \u001b[39m        Core.NewvarNode(:(@_24))\n",
      "\u001b[90m│   \u001b[39m        Core.NewvarNode(:(zcovers))\n",
      "\u001b[90m│   \u001b[39m        Core.NewvarNode(:(@_26))\n",
      "\u001b[90m│   \u001b[39m %13  = Core.apply_type(Main.Array, Main.Int, 1)\u001b[36m::Core.Compiler.Const(Array{Int64,1}, false)\u001b[39m\n",
      "\u001b[90m│   \u001b[39m %14  = Core.apply_type(Main.Array, %13, 1)\u001b[36m::Core.Compiler.Const(Array{Array{Int64,1},1}, false)\u001b[39m\n",
      "\u001b[90m│   \u001b[39m %15  = (1:2)\u001b[36m::Core.Compiler.Const(1:2, false)\u001b[39m\n",
      "\u001b[90m│   \u001b[39m %16  = Base.getindex(model, %15)\u001b[36m::Tuple{Array{Float64,2},Array{Array{Int64,1},1}}\u001b[39m\n",
      "\u001b[90m│   \u001b[39m %17  = Base.indexed_iterate(%16, 1)\u001b[36m::Core.Compiler.PartialStruct(Tuple{Array{Float64,2},Int64}, Any[Array{Float64,2}, Core.Compiler.Const(2, false)])\u001b[39m\n",
      "\u001b[90m│   \u001b[39m        (V = Core.getfield(%17, 1))\n",
      "\u001b[90m│   \u001b[39m        (@_3 = Core.getfield(%17, 2))\n",
      "\u001b[90m│   \u001b[39m %20  = Base.indexed_iterate(%16, 2, @_3::Core.Compiler.Const(2, false))\u001b[36m::Core.Compiler.PartialStruct(Tuple{Array{Array{Int64,1},1},Int64}, Any[Array{Array{Int64,1},1}, Core.Compiler.Const(3, false)])\u001b[39m\n",
      "\u001b[90m│   \u001b[39m        (CV = Core.getfield(%20, 1))\n",
      "\u001b[90m│   \u001b[39m        (dim = Main.size(V, 1))\n",
      "\u001b[90m│   \u001b[39m %23  = Main.:(var\"#20#24\")\u001b[36m::Core.Compiler.Const(var\"#20#24\", false)\u001b[39m\n",
      "\u001b[90m│   \u001b[39m %24  = Core.typeof(V)\u001b[36m::Core.Compiler.Const(Array{Float64,2}, false)\u001b[39m\n",
      "\u001b[90m│   \u001b[39m %25  = Core.typeof(CV)\u001b[36m::Core.Compiler.Const(Array{Array{Int64,1},1}, false)\u001b[39m\n",
      "\u001b[90m│   \u001b[39m %26  = Core.apply_type(%23, %24, %25)\u001b[36m::Core.Compiler.Const(var\"#20#24\"{Array{Float64,2},Array{Array{Int64,1},1}}, false)\u001b[39m\n",
      "\u001b[90m│   \u001b[39m %27  = V\u001b[36m::Array{Float64,2}\u001b[39m\n",
      "\u001b[90m│   \u001b[39m        (#20 = %new(%26, %27, CV))\n",
      "\u001b[90m│   \u001b[39m %29  = #20\u001b[36m::var\"#20#24\"{Array{Float64,2},Array{Array{Int64,1},1}}\u001b[39m\n",
      "\u001b[90m│   \u001b[39m %30  = Main.length(CV)\u001b[36m::Int64\u001b[39m\n",
      "\u001b[90m│   \u001b[39m %31  = (1:%30)\u001b[36m::Core.Compiler.PartialStruct(UnitRange{Int64}, Any[Core.Compiler.Const(1, false), Int64])\u001b[39m\n",
      "\u001b[90m│   \u001b[39m %32  = Base.Generator(%29, %31)\u001b[36m::Core.Compiler.PartialStruct(Base.Generator{UnitRange{Int64},var\"#20#24\"{Array{Float64,2},Array{Array{Int64,1},1}}}, Any[var\"#20#24\"{Array{Float64,2},Array{Array{Int64,1},1}}, Core.Compiler.PartialStruct(UnitRange{Int64}, Any[Core.Compiler.Const(1, false), Int64])])\u001b[39m\n",
      "\u001b[90m│   \u001b[39m        (cellpoints = Base.collect(%32))\n",
      "\u001b[90m│   \u001b[39m        (#21 = %new(Main.:(var\"#21#25\")))\n",
      "\u001b[90m│   \u001b[39m %35  = #21\u001b[36m::Core.Compiler.Const(var\"#21#25\"(), false)\u001b[39m\n",
      "\u001b[90m│   \u001b[39m %36  = Base.Generator(%35, cellpoints)\u001b[36m::Base.Generator{Array{Array{Float64,2},1},var\"#21#25\"}\u001b[39m\n",
      "\u001b[90m│   \u001b[39m        (bboxes = Base.collect(%36))\n",
      "\u001b[90m│   \u001b[39m        (xboxdict = Main.coordintervals(1, bboxes))\n",
      "\u001b[90m│   \u001b[39m        (yboxdict = Main.coordintervals(2, bboxes))\n",
      "\u001b[90m│   \u001b[39m %40  = IntervalTrees.IntervalMap\u001b[36m::Core.Compiler.Const(IntervalTrees.IntervalBTree{K,IntervalValue{K,V},64} where V where K, false)\u001b[39m\n",
      "\u001b[90m│   \u001b[39m %41  = Core.apply_type(%40, Main.Float64, Main.Array)\u001b[36m::Core.Compiler.Const(IntervalTrees.IntervalBTree{Float64,IntervalValue{Float64,Array},64}, false)\u001b[39m\n",
      "\u001b[90m│   \u001b[39m        (xs = (%41)())\n",
      "\u001b[90m│   \u001b[39m %43  = xboxdict\u001b[36m::OrderedDict{Array{Float64,1},Array{Int64,1}}\u001b[39m\n",
      "\u001b[90m│   \u001b[39m        (@_16 = Base.iterate(%43))\n",
      "\u001b[90m│   \u001b[39m %45  = (@_16 === nothing)\u001b[36m::Bool\u001b[39m\n",
      "\u001b[90m│   \u001b[39m %46  = Base.not_int(%45)\u001b[36m::Bool\u001b[39m\n",
      "\u001b[90m└───\u001b[39m        goto #4 if not %46\n",
      "\u001b[90m2 ┄─\u001b[39m %48  = @_16::Tuple{Pair{Array{Float64,1},Array{Int64,1}},Int64}\u001b[36m::Tuple{Pair{Array{Float64,1},Array{Int64,1}},Int64}\u001b[39m\n",
      "\u001b[90m│   \u001b[39m %49  = Core.getfield(%48, 1)\u001b[36m::Pair{Array{Float64,1},Array{Int64,1}}\u001b[39m\n",
      "\u001b[90m│   \u001b[39m %50  = Base.indexed_iterate(%49, 1)\u001b[36m::Core.Compiler.PartialStruct(Tuple{Array{Float64,1},Int64}, Any[Array{Float64,1}, Core.Compiler.Const(2, false)])\u001b[39m\n",
      "\u001b[90m│   \u001b[39m        (key@_27 = Core.getfield(%50, 1))\n",
      "\u001b[90m│   \u001b[39m        (@_29 = Core.getfield(%50, 2))\n",
      "\u001b[90m│   \u001b[39m %53  = Base.indexed_iterate(%49, 2, @_29::Core.Compiler.Const(2, false))\u001b[36m::Core.Compiler.PartialStruct(Tuple{Array{Int64,1},Int64}, Any[Array{Int64,1}, Core.Compiler.Const(3, false)])\u001b[39m\n",
      "\u001b[90m│   \u001b[39m        (boxset@_28 = Core.getfield(%53, 1))\n",
      "\u001b[90m│   \u001b[39m %55  = Core.getfield(%48, 2)\u001b[36m::Int64\u001b[39m\n",
      "\u001b[90m│   \u001b[39m %56  = xs\u001b[36m::IntervalTrees.IntervalBTree{Float64,IntervalValue{Float64,Array},64}\u001b[39m\n",
      "\u001b[90m│   \u001b[39m %57  = boxset@_28\u001b[36m::Array{Int64,1}\u001b[39m\n",
      "\u001b[90m│   \u001b[39m %58  = Core._apply_iterate(Base.iterate, Main.tuple, key@_27)\u001b[91m\u001b[1m::Tuple{Vararg{Float64,N} where N}\u001b[22m\u001b[39m\n",
      "\u001b[90m│   \u001b[39m        Base.setindex!(%56, %57, %58)\n",
      "\u001b[90m│   \u001b[39m        (@_16 = Base.iterate(%43, %55))\n",
      "\u001b[90m│   \u001b[39m %61  = (@_16 === nothing)\u001b[36m::Bool\u001b[39m\n",
      "\u001b[90m│   \u001b[39m %62  = Base.not_int(%61)\u001b[36m::Bool\u001b[39m\n",
      "\u001b[90m└───\u001b[39m        goto #4 if not %62\n",
      "\u001b[90m3 ──\u001b[39m        goto #2\n",
      "\u001b[90m4 ┄─\u001b[39m %65  = IntervalTrees.IntervalMap\u001b[36m::Core.Compiler.Const(IntervalTrees.IntervalBTree{K,IntervalValue{K,V},64} where V where K, false)\u001b[39m\n",
      "\u001b[90m│   \u001b[39m %66  = Core.apply_type(%65, Main.Float64, Main.Array)\u001b[36m::Core.Compiler.Const(IntervalTrees.IntervalBTree{Float64,IntervalValue{Float64,Array},64}, false)\u001b[39m\n",
      "\u001b[90m│   \u001b[39m        (ys = (%66)())\n",
      "\u001b[90m│   \u001b[39m %68  = yboxdict\u001b[36m::OrderedDict{Array{Float64,1},Array{Int64,1}}\u001b[39m\n",
      "\u001b[90m│   \u001b[39m        (@_18 = Base.iterate(%68))\n",
      "\u001b[90m│   \u001b[39m %70  = (@_18 === nothing)\u001b[36m::Bool\u001b[39m\n",
      "\u001b[90m│   \u001b[39m %71  = Base.not_int(%70)\u001b[36m::Bool\u001b[39m\n",
      "\u001b[90m└───\u001b[39m        goto #7 if not %71\n",
      "\u001b[90m5 ┄─\u001b[39m %73  = @_18::Tuple{Pair{Array{Float64,1},Array{Int64,1}},Int64}\u001b[36m::Tuple{Pair{Array{Float64,1},Array{Int64,1}},Int64}\u001b[39m\n",
      "\u001b[90m│   \u001b[39m %74  = Core.getfield(%73, 1)\u001b[36m::Pair{Array{Float64,1},Array{Int64,1}}\u001b[39m\n",
      "\u001b[90m│   \u001b[39m %75  = Base.indexed_iterate(%74, 1)\u001b[36m::Core.Compiler.PartialStruct(Tuple{Array{Float64,1},Int64}, Any[Array{Float64,1}, Core.Compiler.Const(2, false)])\u001b[39m\n",
      "\u001b[90m│   \u001b[39m        (key@_31 = Core.getfield(%75, 1))\n",
      "\u001b[90m│   \u001b[39m        (@_30 = Core.getfield(%75, 2))\n",
      "\u001b[90m│   \u001b[39m %78  = Base.indexed_iterate(%74, 2, @_30::Core.Compiler.Const(2, false))\u001b[36m::Core.Compiler.PartialStruct(Tuple{Array{Int64,1},Int64}, Any[Array{Int64,1}, Core.Compiler.Const(3, false)])\u001b[39m\n",
      "\u001b[90m│   \u001b[39m        (boxset@_32 = Core.getfield(%78, 1))\n",
      "\u001b[90m│   \u001b[39m %80  = Core.getfield(%73, 2)\u001b[36m::Int64\u001b[39m\n",
      "\u001b[90m│   \u001b[39m %81  = ys\u001b[36m::IntervalTrees.IntervalBTree{Float64,IntervalValue{Float64,Array},64}\u001b[39m\n",
      "\u001b[90m│   \u001b[39m %82  = boxset@_32\u001b[36m::Array{Int64,1}\u001b[39m\n",
      "\u001b[90m│   \u001b[39m %83  = Core._apply_iterate(Base.iterate, Main.tuple, key@_31)\u001b[91m\u001b[1m::Tuple{Vararg{Float64,N} where N}\u001b[22m\u001b[39m\n",
      "\u001b[90m│   \u001b[39m        Base.setindex!(%81, %82, %83)\n",
      "\u001b[90m│   \u001b[39m        (@_18 = Base.iterate(%68, %80))\n",
      "\u001b[90m│   \u001b[39m %86  = (@_18 === nothing)\u001b[36m::Bool\u001b[39m\n",
      "\u001b[90m│   \u001b[39m %87  = Base.not_int(%86)\u001b[36m::Bool\u001b[39m\n",
      "\u001b[90m└───\u001b[39m        goto #7 if not %87\n",
      "\u001b[90m6 ──\u001b[39m        goto #5\n",
      "\u001b[90m7 ┄─\u001b[39m        (xcovers = Main.boxcovering(bboxes, 1, xs))\n",
      "\u001b[90m│   \u001b[39m        (ycovers = Main.boxcovering(bboxes, 2, ys))\n",
      "\u001b[90m│   \u001b[39m        (#22 = %new(Main.:(var\"#22#26\")))\n",
      "\u001b[90m│   \u001b[39m %93  = #22\u001b[36m::Core.Compiler.Const(var\"#22#26\"(), false)\u001b[39m\n",
      "\u001b[90m│   \u001b[39m %94  = Main.zip(xcovers, ycovers)\u001b[36m::Base.Iterators.Zip{Tuple{Array{Array{Any,1},1},Array{Array{Any,1},1}}}\u001b[39m\n",
      "\u001b[90m│   \u001b[39m %95  = Base.Generator(%93, %94)\u001b[36m::Base.Generator{Base.Iterators.Zip{Tuple{Array{Array{Any,1},1},Array{Array{Any,1},1}}},var\"#22#26\"}\u001b[39m\n",
      "\u001b[90m│   \u001b[39m        (covers = Base.collect(%95))\n",
      "\u001b[90m│   \u001b[39m %97  = (dim == 3)\u001b[36m::Bool\u001b[39m\n",
      "\u001b[90m└───\u001b[39m        goto #12 if not %97\n"
     ]
    },
    {
     "name": "stdout",
     "output_type": "stream",
     "text": [
      "\u001b[90m8 ──\u001b[39m        (zboxdict = Main.coordintervals(3, bboxes))\n",
      "\u001b[90m│   \u001b[39m %100 = IntervalTrees.IntervalMap\u001b[36m::Core.Compiler.Const(IntervalTrees.IntervalBTree{K,IntervalValue{K,V},64} where V where K, false)\u001b[39m\n",
      "\u001b[90m│   \u001b[39m %101 = Core.apply_type(%100, Main.Float64, Main.Array)\u001b[36m::Core.Compiler.Const(IntervalTrees.IntervalBTree{Float64,IntervalValue{Float64,Array},64}, false)\u001b[39m\n",
      "\u001b[90m│   \u001b[39m        (zs = (%101)())\n",
      "\u001b[90m│   \u001b[39m %103 = zboxdict\u001b[36m::OrderedDict{Array{Float64,1},Array{Int64,1}}\u001b[39m\n",
      "\u001b[90m│   \u001b[39m        (@_24 = Base.iterate(%103))\n",
      "\u001b[90m│   \u001b[39m %105 = (@_24 === nothing)\u001b[36m::Bool\u001b[39m\n",
      "\u001b[90m│   \u001b[39m %106 = Base.not_int(%105)\u001b[36m::Bool\u001b[39m\n",
      "\u001b[90m└───\u001b[39m        goto #11 if not %106\n",
      "\u001b[90m9 ┄─\u001b[39m %108 = @_24::Tuple{Pair{Array{Float64,1},Array{Int64,1}},Int64}\u001b[36m::Tuple{Pair{Array{Float64,1},Array{Int64,1}},Int64}\u001b[39m\n",
      "\u001b[90m│   \u001b[39m %109 = Core.getfield(%108, 1)\u001b[36m::Pair{Array{Float64,1},Array{Int64,1}}\u001b[39m\n",
      "\u001b[90m│   \u001b[39m %110 = Base.indexed_iterate(%109, 1)\u001b[36m::Core.Compiler.PartialStruct(Tuple{Array{Float64,1},Int64}, Any[Array{Float64,1}, Core.Compiler.Const(2, false)])\u001b[39m\n",
      "\u001b[90m│   \u001b[39m        (key@_34 = Core.getfield(%110, 1))\n",
      "\u001b[90m│   \u001b[39m        (@_33 = Core.getfield(%110, 2))\n",
      "\u001b[90m│   \u001b[39m %113 = Base.indexed_iterate(%109, 2, @_33::Core.Compiler.Const(2, false))\u001b[36m::Core.Compiler.PartialStruct(Tuple{Array{Int64,1},Int64}, Any[Array{Int64,1}, Core.Compiler.Const(3, false)])\u001b[39m\n",
      "\u001b[90m│   \u001b[39m        (boxset@_35 = Core.getfield(%113, 1))\n",
      "\u001b[90m│   \u001b[39m %115 = Core.getfield(%108, 2)\u001b[36m::Int64\u001b[39m\n",
      "\u001b[90m│   \u001b[39m %116 = zs\u001b[36m::IntervalTrees.IntervalBTree{Float64,IntervalValue{Float64,Array},64}\u001b[39m\n",
      "\u001b[90m│   \u001b[39m %117 = boxset@_35\u001b[36m::Array{Int64,1}\u001b[39m\n",
      "\u001b[90m│   \u001b[39m %118 = Core._apply_iterate(Base.iterate, Main.tuple, key@_34)\u001b[91m\u001b[1m::Tuple{Vararg{Float64,N} where N}\u001b[22m\u001b[39m\n",
      "\u001b[90m│   \u001b[39m        Base.setindex!(%116, %117, %118)\n",
      "\u001b[90m│   \u001b[39m        (@_24 = Base.iterate(%103, %115))\n",
      "\u001b[90m│   \u001b[39m %121 = (@_24 === nothing)\u001b[36m::Bool\u001b[39m\n",
      "\u001b[90m│   \u001b[39m %122 = Base.not_int(%121)\u001b[36m::Bool\u001b[39m\n",
      "\u001b[90m└───\u001b[39m        goto #11 if not %122\n",
      "\u001b[90m10 ─\u001b[39m        goto #9\n",
      "\u001b[90m11 ┄\u001b[39m        (zcovers = Main.boxcovering(bboxes, 3, zs))\n",
      "\u001b[90m│   \u001b[39m        (#23 = %new(Main.:(var\"#23#27\")))\n",
      "\u001b[90m│   \u001b[39m %127 = #23\u001b[36m::Core.Compiler.Const(var\"#23#27\"(), false)\u001b[39m\n",
      "\u001b[90m│   \u001b[39m %128 = Main.zip(zcovers, covers)\u001b[36m::Base.Iterators.Zip{Tuple{Array{Array{Any,1},1},Array{Array{Any,1},1}}}\u001b[39m\n",
      "\u001b[90m│   \u001b[39m %129 = Base.Generator(%127, %128)\u001b[36m::Base.Generator{Base.Iterators.Zip{Tuple{Array{Array{Any,1},1},Array{Array{Any,1},1}}},var\"#23#27\"}\u001b[39m\n",
      "\u001b[90m└───\u001b[39m        (covers = Base.collect(%129))\n",
      "\u001b[90m12 ┄\u001b[39m %131 = Main.length(covers)\u001b[36m::Int64\u001b[39m\n",
      "\u001b[90m│   \u001b[39m %132 = (1:%131)\u001b[36m::Core.Compiler.PartialStruct(UnitRange{Int64}, Any[Core.Compiler.Const(1, false), Int64])\u001b[39m\n",
      "\u001b[90m│   \u001b[39m        (@_26 = Base.iterate(%132))\n",
      "\u001b[90m│   \u001b[39m %134 = (@_26 === nothing)\u001b[36m::Bool\u001b[39m\n",
      "\u001b[90m│   \u001b[39m %135 = Base.not_int(%134)\u001b[36m::Bool\u001b[39m\n",
      "\u001b[90m└───\u001b[39m        goto #15 if not %135\n",
      "\u001b[90m13 ┄\u001b[39m %137 = @_26::Tuple{Int64,Int64}\u001b[36m::Tuple{Int64,Int64}\u001b[39m\n",
      "\u001b[90m│   \u001b[39m        (k = Core.getfield(%137, 1))\n",
      "\u001b[90m│   \u001b[39m %139 = Core.getfield(%137, 2)\u001b[36m::Int64\u001b[39m\n",
      "\u001b[90m│   \u001b[39m %140 = Base.getindex(covers, k)\u001b[36m::Array{Any,1}\u001b[39m\n",
      "\u001b[90m│   \u001b[39m %141 = Base.vect(k)\u001b[36m::Array{Int64,1}\u001b[39m\n",
      "\u001b[90m│   \u001b[39m %142 = Main.setdiff(%140, %141)\u001b[36m::Array{Any,1}\u001b[39m\n",
      "\u001b[90m│   \u001b[39m        Base.setindex!(covers, %142, k)\n",
      "\u001b[90m│   \u001b[39m        (@_26 = Base.iterate(%132, %139))\n",
      "\u001b[90m│   \u001b[39m %145 = (@_26 === nothing)\u001b[36m::Bool\u001b[39m\n",
      "\u001b[90m│   \u001b[39m %146 = Base.not_int(%145)\u001b[36m::Bool\u001b[39m\n",
      "\u001b[90m└───\u001b[39m        goto #15 if not %146\n",
      "\u001b[90m14 ─\u001b[39m        goto #13\n",
      "\u001b[90m15 ┄\u001b[39m %149 = Base.convert(%14, covers)\u001b[36m::Array{Array{Int64,1},1}\u001b[39m\n",
      "\u001b[90m│   \u001b[39m %150 = Core.typeassert(%149, %14)\u001b[36m::Array{Array{Int64,1},1}\u001b[39m\n",
      "\u001b[90m└───\u001b[39m        return %150\n"
     ]
    }
   ],
   "source": [
    "@code_warntype spaceindex((V,EV))"
   ]
  },
  {
   "cell_type": "markdown",
   "metadata": {},
   "source": [
    "la funzione NON è type unstable in quanto ho nell'output la stringa:\n",
    "\n",
    "    Body::Array{Array{Int64,1},1}\n",
    "   "
   ]
  },
  {
   "cell_type": "code",
   "execution_count": null,
   "metadata": {},
   "outputs": [],
   "source": []
  }
 ],
 "metadata": {
  "kernelspec": {
   "display_name": "Julia 1.5.2",
   "language": "julia",
   "name": "julia-1.5"
  },
  "language_info": {
   "file_extension": ".jl",
   "mimetype": "application/julia",
   "name": "julia",
   "version": "1.5.2"
  }
 },
 "nbformat": 4,
 "nbformat_minor": 2
}
