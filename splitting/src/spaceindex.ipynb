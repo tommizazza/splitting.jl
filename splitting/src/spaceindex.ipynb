{
 "cells": [
  {
   "cell_type": "code",
   "execution_count": 25,
   "metadata": {},
   "outputs": [],
   "source": [
    "using LinearAlgebraicRepresentation\n",
    "Lar = LinearAlgebraicRepresentation\n",
    "using IntervalTrees\n",
    "using SparseArrays\n",
    "using NearestNeighbors\n",
    "using DataStructures\n",
    "using OrderedCollections\n",
    "using BenchmarkTools"
   ]
  },
  {
   "cell_type": "markdown",
   "metadata": {},
   "source": [
    "## Funzione da ottimizzare"
   ]
  },
  {
   "cell_type": "code",
   "execution_count": 26,
   "metadata": {},
   "outputs": [
    {
     "data": {
      "text/plain": [
       "spaceindex (generic function with 1 method)"
      ]
     },
     "execution_count": 26,
     "metadata": {},
     "output_type": "execute_result"
    }
   ],
   "source": [
    "function spaceindex(model::Lar.LAR)::Array{Array{Int,1},1}\n",
    "    V,CV = model[1:2]\n",
    "    # se il modello è in 3d o 2d (guardo le righe di V, in 3d V è una 3xN, in 2d V è una 2xN)\n",
    "    dim = size(V,1)\n",
    "    cellpoints = [ V[:,CV[k]]::Lar.Points for k=1:length(CV) ]\n",
    "    #----------------------------------------------------------\n",
    "    bboxes = [hcat(boundingbox(cell)...) for cell in cellpoints]\n",
    "    xboxdict = coordintervals(1,bboxes)\n",
    "    yboxdict = coordintervals(2,bboxes)\n",
    "    # xs,ys are IntervalTree type\n",
    "    xs = IntervalTrees.IntervalMap{Float64, Array}()\n",
    "    for (key,boxset) in xboxdict\n",
    "        xs[tuple(key...)] = boxset\n",
    "    end\n",
    "    ys = IntervalTrees.IntervalMap{Float64, Array}()\n",
    "    for (key,boxset) in yboxdict\n",
    "        ys[tuple(key...)] = boxset\n",
    "    end\n",
    "    xcovers = boxcovering(bboxes, 1, xs)\n",
    "    ycovers = boxcovering(bboxes, 2, ys)\n",
    "    covers = [intersect(pair...) for pair in zip(xcovers,ycovers)]\n",
    "\n",
    "    if dim == 3\n",
    "        zboxdict = coordintervals(3,bboxes)\n",
    "        zs = IntervalTrees.IntervalMap{Float64, Array}()\n",
    "        for (key,boxset) in zboxdict\n",
    "            zs[tuple(key...)] = boxset\n",
    "        end\n",
    "        zcovers = boxcovering(bboxes, 3, zs)\n",
    "        covers = [intersect(pair...) for pair in zip(zcovers,covers)]\n",
    "    end\n",
    "    # remove each cell from its cover\n",
    "    for k=1:length(covers)\n",
    "        covers[k] = setdiff(covers[k],[k])\n",
    "    end\n",
    "    return covers\n",
    "end"
   ]
  },
  {
   "cell_type": "markdown",
   "metadata": {},
   "source": [
    "## Dipendenze della funzione"
   ]
  },
  {
   "cell_type": "code",
   "execution_count": 27,
   "metadata": {},
   "outputs": [
    {
     "data": {
      "text/plain": [
       "boxcovering (generic function with 1 method)"
      ]
     },
     "execution_count": 27,
     "metadata": {},
     "output_type": "execute_result"
    }
   ],
   "source": [
    "function boundingbox(vertices::Lar.Points)\n",
    "   minimum = mapslices(x->min(x...), vertices, dims=2)\n",
    "   maximum = mapslices(x->max(x...), vertices, dims=2)\n",
    "   return minimum, maximum\n",
    "end\n",
    "\n",
    "function coordintervals(coord,bboxes)\n",
    "    boxdict = OrderedDict{Array{Float64,1},Array{Int64,1}}()\n",
    "    for (h,box) in enumerate(bboxes)\n",
    "        key = box[coord,:]\n",
    "        if haskey(boxdict,key) == false\n",
    "            boxdict[key] = [h]\n",
    "        else\n",
    "            push!(boxdict[key], h)\n",
    "        end\n",
    "    end\n",
    "    return boxdict\n",
    "end\n",
    "\n",
    "function boxcovering(bboxes, index, tree)\n",
    "    covers = [[] for k=1:length(bboxes)]\n",
    "    for (i,boundingbox) in enumerate(bboxes)\n",
    "        extent = bboxes[i][index,:]\n",
    "        iterator = IntervalTrees.intersect(tree, tuple(extent...))\n",
    "        for x in iterator\n",
    "            append!(covers[i],x.value)\n",
    "        end\n",
    "    end\n",
    "    return covers\n",
    "end"
   ]
  },
  {
   "cell_type": "markdown",
   "metadata": {},
   "source": [
    "## Dati Input"
   ]
  },
  {
   "cell_type": "code",
   "execution_count": 28,
   "metadata": {},
   "outputs": [
    {
     "data": {
      "text/plain": [
       "60-element Array{Array{Int64,1},1}:\n",
       " [1, 2]\n",
       " [3, 4]\n",
       " [5, 6]\n",
       " [7, 8]\n",
       " [9, 10]\n",
       " [11, 12]\n",
       " [13, 14]\n",
       " [15, 16]\n",
       " [17, 18]\n",
       " [19, 20]\n",
       " [21, 22]\n",
       " [23, 24]\n",
       " [25, 26]\n",
       " ⋮\n",
       " [97, 98]\n",
       " [99, 100]\n",
       " [101, 102]\n",
       " [103, 104]\n",
       " [105, 106]\n",
       " [107, 108]\n",
       " [109, 110]\n",
       " [111, 112]\n",
       " [113, 114]\n",
       " [115, 116]\n",
       " [117, 118]\n",
       " [119, 120]"
      ]
     },
     "execution_count": 28,
     "metadata": {},
     "output_type": "execute_result"
    }
   ],
   "source": [
    "V = [1.0 2.0 3.0 4.0 5.0 6.0 7.0 8.0 9.0 10.0 11.0 12.0 13.0 14.0 15.0 16.0 17.0 18.0 19.0 20.0 21.0 22.0 23.0 24.0 25.0 26.0 27.0 28.0 29.0 30.0 31.0 32.0 33.0 34.0 35.0 36.0 37.0 38.0 39.0 40.0 41.0 42.0 43.0 44.0 45.0 46.0 47.0 48.0 49.0 50.0 51.0 52.0 53.0 54.0 55.0 56.0 57.0 58.0 59.0 60.0 61.0 62.0 63.0 64.0 65.0 66.0 67.0 68.0 69.0 70.0 71.0 72.0 73.0 74.0 75.0 76.0 77.0 78.0 79.0 80.0 81.0 82.0 83.0 84.0 85.0 86.0 87.0 88.0 89.0 90.0 91.0 92.0 93.0 94.0 95.0 96.0 97.0 98.0 99.0 100.0 101.0 102.0 103.0 104.0 105.0 106.0 107.0 108.0 109.0 110.0 111.0 112.0 113.0 114.0 115.0 116.0 117.0 118.0 119.0 120.0 121.0 122.0 123.0 124.0 125.0 126.0 127.0 128.0 129.0;\n",
    "     1.0 2.0 3.0 4.0 5.0 6.0 7.0 8.0 9.0 10.0 11.0 12.0 13.0 14.0 15.0 16.0 17.0 18.0 19.0 20.0 21.0 22.0 23.0 24.0 25.0 26.0 27.0 28.0 29.0 30.0 31.0 32.0 33.0 34.0 35.0 36.0 37.0 38.0 39.0 40.0 41.0 42.0 43.0 44.0 45.0 46.0 47.0 48.0 49.0 50.0 51.0 52.0 53.0 54.0 55.0 56.0 57.0 58.0 59.0 60.0 61.0 62.0 63.0 64.0 65.0 66.0 67.0 68.0 69.0 70.0 71.0 72.0 73.0 74.0 75.0 76.0 77.0 78.0 79.0 80.0 81.0 82.0 83.0 84.0 85.0 86.0 87.0 88.0 89.0 90.0 91.0 92.0 93.0 94.0 95.0 96.0 97.0 98.0 99.0 100.0 101.0 102.0 103.0 104.0 105.0 106.0 107.0 108.0 109.0 110.0 111.0 112.0 113.0 114.0 115.0 116.0 117.0 118.0 119.0 120.0 121.0 122.0 123.0 124.0 125.0 126.0 127.0 128.0 129.0]\n",
    "\n",
    "EV = [[1,2],[3,4],[5,6],[7,8],[9,10],[11,12],[13,14],[15,16],[17,18],[19,20],[21,22],[23,24],[25,26],[27,28],[29,30],[31,32],[33,34],[35,36],[37,38],[39,40],[41,42],[43,44],[45,46],[47,48],[49,50],[51,52],[53,54],[55,56],[57,58],[59,60],[61,62],[63,64],[65,66],[67,68],[69,70],[71,72],[73,74],[75,76],[77,78],[79,80],[81,82],[83,84],[85,86],[87,88],[89,90],[91,92],[93,94],[95,96],[97,98],[99,100],[101,102],[103,104],[105,106],[107,108],[109,110],[111,112],[113,114],[115,116],[117,118],[119,120]]\n"
   ]
  },
  {
   "cell_type": "markdown",
   "metadata": {},
   "source": [
    "## 0) Benchmark vecchia funzione "
   ]
  },
  {
   "cell_type": "code",
   "execution_count": 29,
   "metadata": {},
   "outputs": [
    {
     "name": "stdout",
     "output_type": "stream",
     "text": [
      "  1.177 ms (10610 allocations: 543.20 KiB)\n"
     ]
    },
    {
     "data": {
      "text/plain": [
       "60-element Array{Array{Int64,1},1}:\n",
       " []\n",
       " []\n",
       " []\n",
       " []\n",
       " []\n",
       " []\n",
       " []\n",
       " []\n",
       " []\n",
       " []\n",
       " []\n",
       " []\n",
       " []\n",
       " ⋮\n",
       " []\n",
       " []\n",
       " []\n",
       " []\n",
       " []\n",
       " []\n",
       " []\n",
       " []\n",
       " []\n",
       " []\n",
       " []\n",
       " []"
      ]
     },
     "execution_count": 29,
     "metadata": {},
     "output_type": "execute_result"
    }
   ],
   "source": [
    "@btime spaceindex((V,EV))"
   ]
  },
  {
   "cell_type": "markdown",
   "metadata": {},
   "source": [
    "## 1) Controllo se la funzione è type unstable"
   ]
  },
  {
   "cell_type": "code",
   "execution_count": 30,
   "metadata": {},
   "outputs": [
    {
     "name": "stdout",
     "output_type": "stream",
     "text": [
      "Variables\n",
      "  #self#\u001b[36m::Core.Compiler.Const(spaceindex, false)\u001b[39m\n",
      "  model\u001b[36m::Tuple{Array{Float64,2},Array{Array{Int64,1},1}}\u001b[39m\n",
      "  @_3\u001b[36m::Int64\u001b[39m\n",
      "  #80\u001b[36m::var\"#80#84\"{Array{Float64,2},Array{Array{Int64,1},1}}\u001b[39m\n",
      "  #81\u001b[36m::var\"#81#85\"\u001b[39m\n",
      "  #82\u001b[36m::var\"#82#86\"\u001b[39m\n",
      "  #83\u001b[36m::var\"#83#87\"\u001b[39m\n",
      "  V\u001b[36m::Array{Float64,2}\u001b[39m\n",
      "  CV\u001b[36m::Array{Array{Int64,1},1}\u001b[39m\n",
      "  dim\u001b[36m::Int64\u001b[39m\n",
      "  cellpoints\u001b[36m::Array{Array{Float64,2},1}\u001b[39m\n",
      "  bboxes\u001b[91m\u001b[1m::Array{_A,1} where _A\u001b[22m\u001b[39m\n",
      "  xboxdict\u001b[36m::OrderedDict{Array{Float64,1},Array{Int64,1}}\u001b[39m\n",
      "  yboxdict\u001b[36m::OrderedDict{Array{Float64,1},Array{Int64,1}}\u001b[39m\n",
      "  xs\u001b[36m::IntervalTrees.IntervalBTree{Float64,IntervalValue{Float64,Array},64}\u001b[39m\n",
      "  @_16\u001b[33m\u001b[1m::Union{Nothing, Tuple{Pair{Array{Float64,1},Array{Int64,1}},Int64}}\u001b[22m\u001b[39m\n",
      "  ys\u001b[36m::IntervalTrees.IntervalBTree{Float64,IntervalValue{Float64,Array},64}\u001b[39m\n",
      "  @_18\u001b[33m\u001b[1m::Union{Nothing, Tuple{Pair{Array{Float64,1},Array{Int64,1}},Int64}}\u001b[22m\u001b[39m\n",
      "  xcovers\u001b[36m::Array{Array{Any,1},1}\u001b[39m\n",
      "  ycovers\u001b[36m::Array{Array{Any,1},1}\u001b[39m\n",
      "  covers\u001b[36m::Array{Array{Any,1},1}\u001b[39m\n",
      "  zboxdict\u001b[36m::OrderedDict{Array{Float64,1},Array{Int64,1}}\u001b[39m\n",
      "  zs\u001b[36m::IntervalTrees.IntervalBTree{Float64,IntervalValue{Float64,Array},64}\u001b[39m\n",
      "  @_24\u001b[33m\u001b[1m::Union{Nothing, Tuple{Pair{Array{Float64,1},Array{Int64,1}},Int64}}\u001b[22m\u001b[39m\n",
      "  zcovers\u001b[36m::Array{Array{Any,1},1}\u001b[39m\n",
      "  @_26\u001b[33m\u001b[1m::Union{Nothing, Tuple{Int64,Int64}}\u001b[22m\u001b[39m\n",
      "  key@_27\u001b[36m::Array{Float64,1}\u001b[39m\n",
      "  boxset@_28\u001b[36m::Array{Int64,1}\u001b[39m\n",
      "  @_29\u001b[36m::Int64\u001b[39m\n",
      "  @_30\u001b[36m::Int64\u001b[39m\n",
      "  key@_31\u001b[36m::Array{Float64,1}\u001b[39m\n",
      "  boxset@_32\u001b[36m::Array{Int64,1}\u001b[39m\n",
      "  @_33\u001b[36m::Int64\u001b[39m\n",
      "  key@_34\u001b[36m::Array{Float64,1}\u001b[39m\n",
      "  boxset@_35\u001b[36m::Array{Int64,1}\u001b[39m\n",
      "  k\u001b[36m::Int64\u001b[39m\n",
      "\n",
      "Body\u001b[36m::Array{Array{Int64,1},1}\u001b[39m\n",
      "\u001b[90m1 ──\u001b[39m        Core.NewvarNode(:(#82))\n",
      "\u001b[90m│   \u001b[39m        Core.NewvarNode(:(#83))\n",
      "\u001b[90m│   \u001b[39m        Core.NewvarNode(:(ys))\n",
      "\u001b[90m│   \u001b[39m        Core.NewvarNode(:(@_18))\n",
      "\u001b[90m│   \u001b[39m        Core.NewvarNode(:(xcovers))\n",
      "\u001b[90m│   \u001b[39m        Core.NewvarNode(:(ycovers))\n",
      "\u001b[90m│   \u001b[39m        Core.NewvarNode(:(covers))\n",
      "\u001b[90m│   \u001b[39m        Core.NewvarNode(:(zboxdict))\n",
      "\u001b[90m│   \u001b[39m        Core.NewvarNode(:(zs))\n",
      "\u001b[90m│   \u001b[39m        Core.NewvarNode(:(@_24))\n",
      "\u001b[90m│   \u001b[39m        Core.NewvarNode(:(zcovers))\n",
      "\u001b[90m│   \u001b[39m        Core.NewvarNode(:(@_26))\n",
      "\u001b[90m│   \u001b[39m %13  = Core.apply_type(Main.Array, Main.Int, 1)\u001b[36m::Core.Compiler.Const(Array{Int64,1}, false)\u001b[39m\n",
      "\u001b[90m│   \u001b[39m %14  = Core.apply_type(Main.Array, %13, 1)\u001b[36m::Core.Compiler.Const(Array{Array{Int64,1},1}, false)\u001b[39m\n",
      "\u001b[90m│   \u001b[39m %15  = (1:2)\u001b[36m::Core.Compiler.Const(1:2, false)\u001b[39m\n",
      "\u001b[90m│   \u001b[39m %16  = Base.getindex(model, %15)\u001b[36m::Tuple{Array{Float64,2},Array{Array{Int64,1},1}}\u001b[39m\n",
      "\u001b[90m│   \u001b[39m %17  = Base.indexed_iterate(%16, 1)\u001b[36m::Core.Compiler.PartialStruct(Tuple{Array{Float64,2},Int64}, Any[Array{Float64,2}, Core.Compiler.Const(2, false)])\u001b[39m\n",
      "\u001b[90m│   \u001b[39m        (V = Core.getfield(%17, 1))\n",
      "\u001b[90m│   \u001b[39m        (@_3 = Core.getfield(%17, 2))\n",
      "\u001b[90m│   \u001b[39m %20  = Base.indexed_iterate(%16, 2, @_3::Core.Compiler.Const(2, false))\u001b[36m::Core.Compiler.PartialStruct(Tuple{Array{Array{Int64,1},1},Int64}, Any[Array{Array{Int64,1},1}, Core.Compiler.Const(3, false)])\u001b[39m\n",
      "\u001b[90m│   \u001b[39m        (CV = Core.getfield(%20, 1))\n",
      "\u001b[90m│   \u001b[39m        (dim = Main.size(V, 1))\n",
      "\u001b[90m│   \u001b[39m %23  = Main.:(var\"#80#84\")\u001b[36m::Core.Compiler.Const(var\"#80#84\", false)\u001b[39m\n",
      "\u001b[90m│   \u001b[39m %24  = Core.typeof(V)\u001b[36m::Core.Compiler.Const(Array{Float64,2}, false)\u001b[39m\n",
      "\u001b[90m│   \u001b[39m %25  = Core.typeof(CV)\u001b[36m::Core.Compiler.Const(Array{Array{Int64,1},1}, false)\u001b[39m\n",
      "\u001b[90m│   \u001b[39m %26  = Core.apply_type(%23, %24, %25)\u001b[36m::Core.Compiler.Const(var\"#80#84\"{Array{Float64,2},Array{Array{Int64,1},1}}, false)\u001b[39m\n",
      "\u001b[90m│   \u001b[39m %27  = V\u001b[36m::Array{Float64,2}\u001b[39m\n",
      "\u001b[90m│   \u001b[39m        (#80 = %new(%26, %27, CV))\n",
      "\u001b[90m│   \u001b[39m %29  = #80\u001b[36m::var\"#80#84\"{Array{Float64,2},Array{Array{Int64,1},1}}\u001b[39m\n",
      "\u001b[90m│   \u001b[39m %30  = Main.length(CV)\u001b[36m::Int64\u001b[39m\n",
      "\u001b[90m│   \u001b[39m %31  = (1:%30)\u001b[36m::Core.Compiler.PartialStruct(UnitRange{Int64}, Any[Core.Compiler.Const(1, false), Int64])\u001b[39m\n",
      "\u001b[90m│   \u001b[39m %32  = Base.Generator(%29, %31)\u001b[36m::Core.Compiler.PartialStruct(Base.Generator{UnitRange{Int64},var\"#80#84\"{Array{Float64,2},Array{Array{Int64,1},1}}}, Any[var\"#80#84\"{Array{Float64,2},Array{Array{Int64,1},1}}, Core.Compiler.PartialStruct(UnitRange{Int64}, Any[Core.Compiler.Const(1, false), Int64])])\u001b[39m\n",
      "\u001b[90m│   \u001b[39m        (cellpoints = Base.collect(%32))\n",
      "\u001b[90m│   \u001b[39m        (#81 = %new(Main.:(var\"#81#85\")))\n",
      "\u001b[90m│   \u001b[39m %35  = #81\u001b[36m::Core.Compiler.Const(var\"#81#85\"(), false)\u001b[39m\n",
      "\u001b[90m│   \u001b[39m %36  = Base.Generator(%35, cellpoints)\u001b[36m::Base.Generator{Array{Array{Float64,2},1},var\"#81#85\"}\u001b[39m\n",
      "\u001b[90m│   \u001b[39m        (bboxes = Base.collect(%36))\n",
      "\u001b[90m│   \u001b[39m        (xboxdict = Main.coordintervals(1, bboxes))\n",
      "\u001b[90m│   \u001b[39m        (yboxdict = Main.coordintervals(2, bboxes))\n",
      "\u001b[90m│   \u001b[39m %40  = IntervalTrees.IntervalMap\u001b[36m::Core.Compiler.Const(IntervalTrees.IntervalBTree{K,IntervalValue{K,V},64} where V where K, false)\u001b[39m\n",
      "\u001b[90m│   \u001b[39m %41  = Core.apply_type(%40, Main.Float64, Main.Array)\u001b[36m::Core.Compiler.Const(IntervalTrees.IntervalBTree{Float64,IntervalValue{Float64,Array},64}, false)\u001b[39m\n",
      "\u001b[90m│   \u001b[39m        (xs = (%41)())\n",
      "\u001b[90m│   \u001b[39m %43  = xboxdict\u001b[36m::OrderedDict{Array{Float64,1},Array{Int64,1}}\u001b[39m\n",
      "\u001b[90m│   \u001b[39m        (@_16 = Base.iterate(%43))\n",
      "\u001b[90m│   \u001b[39m %45  = (@_16 === nothing)\u001b[36m::Bool\u001b[39m\n",
      "\u001b[90m│   \u001b[39m %46  = Base.not_int(%45)\u001b[36m::Bool\u001b[39m\n",
      "\u001b[90m└───\u001b[39m        goto #4 if not %46\n",
      "\u001b[90m2 ┄─\u001b[39m %48  = @_16::Tuple{Pair{Array{Float64,1},Array{Int64,1}},Int64}\u001b[36m::Tuple{Pair{Array{Float64,1},Array{Int64,1}},Int64}\u001b[39m\n",
      "\u001b[90m│   \u001b[39m %49  = Core.getfield(%48, 1)\u001b[36m::Pair{Array{Float64,1},Array{Int64,1}}\u001b[39m\n",
      "\u001b[90m│   \u001b[39m %50  = Base.indexed_iterate(%49, 1)\u001b[36m::Core.Compiler.PartialStruct(Tuple{Array{Float64,1},Int64}, Any[Array{Float64,1}, Core.Compiler.Const(2, false)])\u001b[39m\n",
      "\u001b[90m│   \u001b[39m        (key@_27 = Core.getfield(%50, 1))\n",
      "\u001b[90m│   \u001b[39m        (@_29 = Core.getfield(%50, 2))\n",
      "\u001b[90m│   \u001b[39m %53  = Base.indexed_iterate(%49, 2, @_29::Core.Compiler.Const(2, false))\u001b[36m::Core.Compiler.PartialStruct(Tuple{Array{Int64,1},Int64}, Any[Array{Int64,1}, Core.Compiler.Const(3, false)])\u001b[39m\n",
      "\u001b[90m│   \u001b[39m        (boxset@_28 = Core.getfield(%53, 1))\n",
      "\u001b[90m│   \u001b[39m %55  = Core.getfield(%48, 2)\u001b[36m::Int64\u001b[39m\n",
      "\u001b[90m│   \u001b[39m %56  = xs\u001b[36m::IntervalTrees.IntervalBTree{Float64,IntervalValue{Float64,Array},64}\u001b[39m\n",
      "\u001b[90m│   \u001b[39m %57  = boxset@_28\u001b[36m::Array{Int64,1}\u001b[39m\n",
      "\u001b[90m│   \u001b[39m %58  = Core._apply_iterate(Base.iterate, Main.tuple, key@_27)\u001b[91m\u001b[1m::Tuple{Vararg{Float64,N} where N}\u001b[22m\u001b[39m\n",
      "\u001b[90m│   \u001b[39m        Base.setindex!(%56, %57, %58)\n",
      "\u001b[90m│   \u001b[39m        (@_16 = Base.iterate(%43, %55))\n",
      "\u001b[90m│   \u001b[39m %61  = (@_16 === nothing)\u001b[36m::Bool\u001b[39m\n",
      "\u001b[90m│   \u001b[39m %62  = Base.not_int(%61)\u001b[36m::Bool\u001b[39m\n",
      "\u001b[90m└───\u001b[39m        goto #4 if not %62\n",
      "\u001b[90m3 ──\u001b[39m        goto #2\n",
      "\u001b[90m4 ┄─\u001b[39m %65  = IntervalTrees.IntervalMap\u001b[36m::Core.Compiler.Const(IntervalTrees.IntervalBTree{K,IntervalValue{K,V},64} where V where K, false)\u001b[39m\n",
      "\u001b[90m│   \u001b[39m %66  = Core.apply_type(%65, Main.Float64, Main.Array)\u001b[36m::Core.Compiler.Const(IntervalTrees.IntervalBTree{Float64,IntervalValue{Float64,Array},64}, false)\u001b[39m\n",
      "\u001b[90m│   \u001b[39m        (ys = (%66)())\n",
      "\u001b[90m│   \u001b[39m %68  = yboxdict\u001b[36m::OrderedDict{Array{Float64,1},Array{Int64,1}}\u001b[39m\n",
      "\u001b[90m│   \u001b[39m        (@_18 = Base.iterate(%68))\n",
      "\u001b[90m│   \u001b[39m %70  = (@_18 === nothing)\u001b[36m::Bool\u001b[39m\n",
      "\u001b[90m│   \u001b[39m %71  = Base.not_int(%70)\u001b[36m::Bool\u001b[39m\n",
      "\u001b[90m└───\u001b[39m        goto #7 if not %71\n",
      "\u001b[90m5 ┄─\u001b[39m %73  = @_18::Tuple{Pair{Array{Float64,1},Array{Int64,1}},Int64}\u001b[36m::Tuple{Pair{Array{Float64,1},Array{Int64,1}},Int64}\u001b[39m\n",
      "\u001b[90m│   \u001b[39m %74  = Core.getfield(%73, 1)\u001b[36m::Pair{Array{Float64,1},Array{Int64,1}}\u001b[39m\n",
      "\u001b[90m│   \u001b[39m %75  = Base.indexed_iterate(%74, 1)\u001b[36m::Core.Compiler.PartialStruct(Tuple{Array{Float64,1},Int64}, Any[Array{Float64,1}, Core.Compiler.Const(2, false)])\u001b[39m\n",
      "\u001b[90m│   \u001b[39m        (key@_31 = Core.getfield(%75, 1))\n",
      "\u001b[90m│   \u001b[39m        (@_30 = Core.getfield(%75, 2))\n",
      "\u001b[90m│   \u001b[39m %78  = Base.indexed_iterate(%74, 2, @_30::Core.Compiler.Const(2, false))\u001b[36m::Core.Compiler.PartialStruct(Tuple{Array{Int64,1},Int64}, Any[Array{Int64,1}, Core.Compiler.Const(3, false)])\u001b[39m\n",
      "\u001b[90m│   \u001b[39m        (boxset@_32 = Core.getfield(%78, 1))\n",
      "\u001b[90m│   \u001b[39m %80  = Core.getfield(%73, 2)\u001b[36m::Int64\u001b[39m\n",
      "\u001b[90m│   \u001b[39m %81  = ys\u001b[36m::IntervalTrees.IntervalBTree{Float64,IntervalValue{Float64,Array},64}\u001b[39m\n",
      "\u001b[90m│   \u001b[39m %82  = boxset@_32\u001b[36m::Array{Int64,1}\u001b[39m\n",
      "\u001b[90m│   \u001b[39m %83  = Core._apply_iterate(Base.iterate, Main.tuple, key@_31)\u001b[91m\u001b[1m::Tuple{Vararg{Float64,N} where N}\u001b[22m\u001b[39m\n",
      "\u001b[90m│   \u001b[39m        Base.setindex!(%81, %82, %83)\n",
      "\u001b[90m│   \u001b[39m        (@_18 = Base.iterate(%68, %80))\n",
      "\u001b[90m│   \u001b[39m %86  = (@_18 === nothing)\u001b[36m::Bool\u001b[39m\n",
      "\u001b[90m│   \u001b[39m %87  = Base.not_int(%86)\u001b[36m::Bool\u001b[39m\n",
      "\u001b[90m└───\u001b[39m        goto #7 if not %87\n",
      "\u001b[90m6 ──\u001b[39m        goto #5\n",
      "\u001b[90m7 ┄─\u001b[39m        (xcovers = Main.boxcovering(bboxes, 1, xs))\n",
      "\u001b[90m│   \u001b[39m        (ycovers = Main.boxcovering(bboxes, 2, ys))\n",
      "\u001b[90m│   \u001b[39m        (#82 = %new(Main.:(var\"#82#86\")))\n",
      "\u001b[90m│   \u001b[39m %93  = #82\u001b[36m::Core.Compiler.Const(var\"#82#86\"(), false)\u001b[39m\n",
      "\u001b[90m│   \u001b[39m %94  = Main.zip(xcovers, ycovers)\u001b[36m::Base.Iterators.Zip{Tuple{Array{Array{Any,1},1},Array{Array{Any,1},1}}}\u001b[39m\n",
      "\u001b[90m│   \u001b[39m %95  = Base.Generator(%93, %94)\u001b[36m::Base.Generator{Base.Iterators.Zip{Tuple{Array{Array{Any,1},1},Array{Array{Any,1},1}}},var\"#82#86\"}\u001b[39m\n",
      "\u001b[90m│   \u001b[39m        (covers = Base.collect(%95))\n",
      "\u001b[90m│   \u001b[39m %97  = (dim == 3)\u001b[36m::Bool\u001b[39m\n",
      "\u001b[90m└───\u001b[39m        goto #12 if not %97\n"
     ]
    },
    {
     "name": "stdout",
     "output_type": "stream",
     "text": [
      "\u001b[90m8 ──\u001b[39m        (zboxdict = Main.coordintervals(3, bboxes))\n",
      "\u001b[90m│   \u001b[39m %100 = IntervalTrees.IntervalMap\u001b[36m::Core.Compiler.Const(IntervalTrees.IntervalBTree{K,IntervalValue{K,V},64} where V where K, false)\u001b[39m\n",
      "\u001b[90m│   \u001b[39m %101 = Core.apply_type(%100, Main.Float64, Main.Array)\u001b[36m::Core.Compiler.Const(IntervalTrees.IntervalBTree{Float64,IntervalValue{Float64,Array},64}, false)\u001b[39m\n",
      "\u001b[90m│   \u001b[39m        (zs = (%101)())\n",
      "\u001b[90m│   \u001b[39m %103 = zboxdict\u001b[36m::OrderedDict{Array{Float64,1},Array{Int64,1}}\u001b[39m\n",
      "\u001b[90m│   \u001b[39m        (@_24 = Base.iterate(%103))\n",
      "\u001b[90m│   \u001b[39m %105 = (@_24 === nothing)\u001b[36m::Bool\u001b[39m\n",
      "\u001b[90m│   \u001b[39m %106 = Base.not_int(%105)\u001b[36m::Bool\u001b[39m\n",
      "\u001b[90m└───\u001b[39m        goto #11 if not %106\n",
      "\u001b[90m9 ┄─\u001b[39m %108 = @_24::Tuple{Pair{Array{Float64,1},Array{Int64,1}},Int64}\u001b[36m::Tuple{Pair{Array{Float64,1},Array{Int64,1}},Int64}\u001b[39m\n",
      "\u001b[90m│   \u001b[39m %109 = Core.getfield(%108, 1)\u001b[36m::Pair{Array{Float64,1},Array{Int64,1}}\u001b[39m\n",
      "\u001b[90m│   \u001b[39m %110 = Base.indexed_iterate(%109, 1)\u001b[36m::Core.Compiler.PartialStruct(Tuple{Array{Float64,1},Int64}, Any[Array{Float64,1}, Core.Compiler.Const(2, false)])\u001b[39m\n",
      "\u001b[90m│   \u001b[39m        (key@_34 = Core.getfield(%110, 1))\n",
      "\u001b[90m│   \u001b[39m        (@_33 = Core.getfield(%110, 2))\n",
      "\u001b[90m│   \u001b[39m %113 = Base.indexed_iterate(%109, 2, @_33::Core.Compiler.Const(2, false))\u001b[36m::Core.Compiler.PartialStruct(Tuple{Array{Int64,1},Int64}, Any[Array{Int64,1}, Core.Compiler.Const(3, false)])\u001b[39m\n",
      "\u001b[90m│   \u001b[39m        (boxset@_35 = Core.getfield(%113, 1))\n",
      "\u001b[90m│   \u001b[39m %115 = Core.getfield(%108, 2)\u001b[36m::Int64\u001b[39m\n",
      "\u001b[90m│   \u001b[39m %116 = zs\u001b[36m::IntervalTrees.IntervalBTree{Float64,IntervalValue{Float64,Array},64}\u001b[39m\n",
      "\u001b[90m│   \u001b[39m %117 = boxset@_35\u001b[36m::Array{Int64,1}\u001b[39m\n",
      "\u001b[90m│   \u001b[39m %118 = Core._apply_iterate(Base.iterate, Main.tuple, key@_34)\u001b[91m\u001b[1m::Tuple{Vararg{Float64,N} where N}\u001b[22m\u001b[39m\n",
      "\u001b[90m│   \u001b[39m        Base.setindex!(%116, %117, %118)\n",
      "\u001b[90m│   \u001b[39m        (@_24 = Base.iterate(%103, %115))\n",
      "\u001b[90m│   \u001b[39m %121 = (@_24 === nothing)\u001b[36m::Bool\u001b[39m\n",
      "\u001b[90m│   \u001b[39m %122 = Base.not_int(%121)\u001b[36m::Bool\u001b[39m\n",
      "\u001b[90m└───\u001b[39m        goto #11 if not %122\n",
      "\u001b[90m10 ─\u001b[39m        goto #9\n",
      "\u001b[90m11 ┄\u001b[39m        (zcovers = Main.boxcovering(bboxes, 3, zs))\n",
      "\u001b[90m│   \u001b[39m        (#83 = %new(Main.:(var\"#83#87\")))\n",
      "\u001b[90m│   \u001b[39m %127 = #83\u001b[36m::Core.Compiler.Const(var\"#83#87\"(), false)\u001b[39m\n",
      "\u001b[90m│   \u001b[39m %128 = Main.zip(zcovers, covers)\u001b[36m::Base.Iterators.Zip{Tuple{Array{Array{Any,1},1},Array{Array{Any,1},1}}}\u001b[39m\n",
      "\u001b[90m│   \u001b[39m %129 = Base.Generator(%127, %128)\u001b[36m::Base.Generator{Base.Iterators.Zip{Tuple{Array{Array{Any,1},1},Array{Array{Any,1},1}}},var\"#83#87\"}\u001b[39m\n",
      "\u001b[90m└───\u001b[39m        (covers = Base.collect(%129))\n",
      "\u001b[90m12 ┄\u001b[39m %131 = Main.length(covers)\u001b[36m::Int64\u001b[39m\n",
      "\u001b[90m│   \u001b[39m %132 = (1:%131)\u001b[36m::Core.Compiler.PartialStruct(UnitRange{Int64}, Any[Core.Compiler.Const(1, false), Int64])\u001b[39m\n",
      "\u001b[90m│   \u001b[39m        (@_26 = Base.iterate(%132))\n",
      "\u001b[90m│   \u001b[39m %134 = (@_26 === nothing)\u001b[36m::Bool\u001b[39m\n",
      "\u001b[90m│   \u001b[39m %135 = Base.not_int(%134)\u001b[36m::Bool\u001b[39m\n",
      "\u001b[90m└───\u001b[39m        goto #15 if not %135\n",
      "\u001b[90m13 ┄\u001b[39m %137 = @_26::Tuple{Int64,Int64}\u001b[36m::Tuple{Int64,Int64}\u001b[39m\n",
      "\u001b[90m│   \u001b[39m        (k = Core.getfield(%137, 1))\n",
      "\u001b[90m│   \u001b[39m %139 = Core.getfield(%137, 2)\u001b[36m::Int64\u001b[39m\n",
      "\u001b[90m│   \u001b[39m %140 = Base.getindex(covers, k)\u001b[36m::Array{Any,1}\u001b[39m\n",
      "\u001b[90m│   \u001b[39m %141 = Base.vect(k)\u001b[36m::Array{Int64,1}\u001b[39m\n",
      "\u001b[90m│   \u001b[39m %142 = Main.setdiff(%140, %141)\u001b[36m::Array{Any,1}\u001b[39m\n",
      "\u001b[90m│   \u001b[39m        Base.setindex!(covers, %142, k)\n",
      "\u001b[90m│   \u001b[39m        (@_26 = Base.iterate(%132, %139))\n",
      "\u001b[90m│   \u001b[39m %145 = (@_26 === nothing)\u001b[36m::Bool\u001b[39m\n",
      "\u001b[90m│   \u001b[39m %146 = Base.not_int(%145)\u001b[36m::Bool\u001b[39m\n",
      "\u001b[90m└───\u001b[39m        goto #15 if not %146\n",
      "\u001b[90m14 ─\u001b[39m        goto #13\n",
      "\u001b[90m15 ┄\u001b[39m %149 = Base.convert(%14, covers)\u001b[36m::Array{Array{Int64,1},1}\u001b[39m\n",
      "\u001b[90m│   \u001b[39m %150 = Core.typeassert(%149, %14)\u001b[36m::Array{Array{Int64,1},1}\u001b[39m\n",
      "\u001b[90m└───\u001b[39m        return %150\n"
     ]
    }
   ],
   "source": [
    "@code_warntype spaceindex((V,EV))"
   ]
  },
  {
   "cell_type": "markdown",
   "metadata": {},
   "source": [
    "la funzione NON è type unstable in quanto ho nell'output la stringa:\n",
    "\n",
    "    Body::Array{Array{Int64,1},1}\n",
    "   "
   ]
  },
  {
   "cell_type": "markdown",
   "metadata": {},
   "source": [
    "## 2) Ottimizzazione cicli con @simd e @inbounds\n",
    "\n",
    "Abbiamo convertito alcune list comprehension in cicli del tipo for i=1:n .. in modo da poter utilizzare la macro @inbounds per disabilitare il boundchecking del compilatore e la macro @simd.  \n",
    "  \n",
    "L'inserimento esplicito della macro simd non ha comportato alcun beneficio, infatti come si apprende dal sito ufficiale Julia: \"Note that in many cases, Julia can automatically vectorize code without the @simd macro\" (https://docs.julialang.org/en/v1/manual/performance-tips/), quindi noi pensiamo che il codice già sia vettorizzato senza la nostra macro.  \n",
    "  \n",
    "La macro @inbounds invece ha ridotto leggermente il numero di allocazioni in memoria."
   ]
  },
  {
   "cell_type": "code",
   "execution_count": 31,
   "metadata": {},
   "outputs": [
    {
     "name": "stdout",
     "output_type": "stream",
     "text": [
      "  1.180 ms (10609 allocations: 543.19 KiB)\n"
     ]
    },
    {
     "data": {
      "text/plain": [
       "60-element Array{Array{Int64,1},1}:\n",
       " []\n",
       " []\n",
       " []\n",
       " []\n",
       " []\n",
       " []\n",
       " []\n",
       " []\n",
       " []\n",
       " []\n",
       " []\n",
       " []\n",
       " []\n",
       " ⋮\n",
       " []\n",
       " []\n",
       " []\n",
       " []\n",
       " []\n",
       " []\n",
       " []\n",
       " []\n",
       " []\n",
       " []\n",
       " []\n",
       " []"
      ]
     },
     "execution_count": 31,
     "metadata": {},
     "output_type": "execute_result"
    }
   ],
   "source": [
    "function spaceindex(model::Lar.LAR)::Array{Array{Int,1},1}\n",
    "    V,CV = model[1:2]\n",
    "    # se il modello è in 3d o 2d (guardo le righe di V, in 3d V è una 3xN, in 2d V è una 2xN)\n",
    "    dim = size(V,1)\n",
    "    #PARALLELIZZO LA CREAZIONE DEI CELLPOINTS\n",
    "    n=length(CV)\n",
    "    cellpoints = Array{Array{Float64,2}}(undef,n)\n",
    "    @inbounds @simd for k=1:n\n",
    "        cellpoints[k] = V[:,CV[k]]::Lar.Points\n",
    "    end\n",
    "    #PARALLELIZZO LA CREAZIONE DEI BOUNDING BOXES\n",
    "    bboxes = Array{Array{Float64,2}}(undef,n)\n",
    "    @inbounds @simd for k=1:n\n",
    "        bboxes[k] = hcat(boundingbox(cellpoints[k])...)\n",
    "    end\n",
    "    xboxdict = coordintervals(1,bboxes)\n",
    "    yboxdict = coordintervals(2,bboxes)\n",
    "    # xs,ys are IntervalTree type\n",
    "    xs = IntervalTrees.IntervalMap{Float64, Array}()\n",
    "    @inbounds for (key,boxset) in xboxdict\n",
    "        xs[tuple(key...)] = boxset\n",
    "    end\n",
    "    ys = IntervalTrees.IntervalMap{Float64, Array}()\n",
    "    @inbounds for (key,boxset) in yboxdict\n",
    "        ys[tuple(key...)] = boxset\n",
    "    end\n",
    "    xcovers = boxcovering(bboxes, 1, xs)\n",
    "    ycovers = boxcovering(bboxes, 2, ys)\n",
    "    covers = Array{Array{Any,1}}(undef,length(bboxes))\n",
    "    #PARALLELIZZO LA CREAZIONE DEGLI SPIGOLI INCIDENTI\n",
    "    @inbounds @simd for i=1:length(xcovers)\n",
    "        covers[i] = intersect((xcovers[i],ycovers[i])...)\n",
    "    end\n",
    "    if dim == 3\n",
    "        zboxdict = coordintervals(3,bboxes)\n",
    "        zs = IntervalTrees.IntervalMap{Float64, Array}()\n",
    "        for (key,boxset) in zboxdict\n",
    "            zs[tuple(key...)] = boxset\n",
    "        end\n",
    "        zcovers = boxcovering(bboxes, 3, zs)\n",
    "        covers = [intersect(pair...) for pair in zip(zcovers,covers)]\n",
    "    end\n",
    "    # remove each cell from its cover\n",
    "    @inbounds for k=1:length(covers)\n",
    "        covers[k] = setdiff(covers[k],[k])\n",
    "    end\n",
    "    return covers\n",
    "end\n",
    "\n",
    "@btime spaceindex((V,EV))"
   ]
  },
  {
   "cell_type": "markdown",
   "metadata": {},
   "source": [
    "## 3) Parallelizzazione cicli usando i Threads\n",
    "\n",
    "Per eseguire questa cella, aprire il proprio REPL Julia e aprire questo notebook con i comandi:\n",
    "\n",
    "ENV[\"JULIA_NUM_THREADS\"] = 4     (o un altro numero)  \n",
    "using IJulia  \n",
    "notebook()  \n",
    "  \n",
    "Noi studenti, avendo computer dual-core abbiamo fissato in numero di threads pari a 2.   Allocarne di più sarebbe stato inutile (in quanto i threads >2 avrebbero aspettato comunque ..) e anzi, mettendo un numero di threads pari a 4 su un dual-core abbiamo notato un grosso peggioramento delle performance dovuta probabilmente all'attesa.  \n",
    "  \n",
    "Il threading funziona bene solo su dati grossi. Su dati piccoli abbiamo visto che non migliorano le performance, anzi peggiorano."
   ]
  },
  {
   "cell_type": "code",
   "execution_count": 32,
   "metadata": {},
   "outputs": [
    {
     "name": "stdout",
     "output_type": "stream",
     "text": [
      "-Numero di Threads allocati: 2\n",
      "  801.753 μs (10645 allocations: 547.91 KiB)\n"
     ]
    },
    {
     "data": {
      "text/plain": [
       "60-element Array{Array{Int64,1},1}:\n",
       " []\n",
       " []\n",
       " []\n",
       " []\n",
       " []\n",
       " []\n",
       " []\n",
       " []\n",
       " []\n",
       " []\n",
       " []\n",
       " []\n",
       " []\n",
       " ⋮\n",
       " []\n",
       " []\n",
       " []\n",
       " []\n",
       " []\n",
       " []\n",
       " []\n",
       " []\n",
       " []\n",
       " []\n",
       " []\n",
       " []"
      ]
     },
     "execution_count": 32,
     "metadata": {},
     "output_type": "execute_result"
    }
   ],
   "source": [
    "using Base.Threads\n",
    "\n",
    "function spaceindex(model::Lar.LAR)::Array{Array{Int,1},1}\n",
    "    V,CV = model[1:2]\n",
    "    # se il modello è in 3d o 2d (guardo le righe di V, in 3d V è una 3xN, in 2d V è una 2xN)\n",
    "    dim = size(V,1)\n",
    "    #PARALLELIZZO LA CREAZIONE DEI CELLPOINTS\n",
    "    n=length(CV)\n",
    "    cellpoints = Array{Array{Float64,2}}(undef,n)\n",
    "    @inbounds @threads for k=1:n\n",
    "        cellpoints[k] = V[:,CV[k]]::Lar.Points\n",
    "    end\n",
    "    #PARALLELIZZO LA CREAZIONE DEI BOUNDING BOXES\n",
    "    bboxes = Array{Array{Float64,2}}(undef,n)\n",
    "    @inbounds @threads for k=1:n\n",
    "        bboxes[k] = hcat(boundingbox(cellpoints[k])...)\n",
    "    end\n",
    "    xboxdict = coordintervals(1,bboxes)\n",
    "    yboxdict = coordintervals(2,bboxes)\n",
    "    # xs,ys are IntervalTree type\n",
    "    xs = IntervalTrees.IntervalMap{Float64, Array}()\n",
    "    @inbounds for (key,boxset) in xboxdict\n",
    "        xs[tuple(key...)] = boxset\n",
    "    end\n",
    "    ys = IntervalTrees.IntervalMap{Float64, Array}()\n",
    "    @inbounds for (key,boxset) in yboxdict\n",
    "        ys[tuple(key...)] = boxset\n",
    "    end\n",
    "    xcovers = boxcovering(bboxes, 1, xs)\n",
    "    ycovers = boxcovering(bboxes, 2, ys)\n",
    "    covers = Array{Array{Any,1}}(undef,length(bboxes))\n",
    "    #PARALLELIZZO LA CREAZIONE DEGLI SPIGOLI INCIDENTI\n",
    "    @inbounds @threads for i=1:n\n",
    "        covers[i] = intersect((xcovers[i],ycovers[i])...)\n",
    "    end\n",
    "    if dim == 3\n",
    "        zboxdict = coordintervals(3,bboxes)\n",
    "        zs = IntervalTrees.IntervalMap{Float64, Array}()\n",
    "        for (key,boxset) in zboxdict\n",
    "            zs[tuple(key...)] = boxset\n",
    "        end\n",
    "        zcovers = boxcovering(bboxes, 3, zs)\n",
    "        covers = [intersect(pair...) for pair in zip(zcovers,covers)]\n",
    "    end\n",
    "    # remove each cell from its cover\n",
    "    @inbounds @simd for k=1:length(covers)\n",
    "        covers[k] = setdiff(covers[k],[k])\n",
    "    end\n",
    "    return covers\n",
    "end\n",
    "print(\"-Numero di Threads allocati: \")\n",
    "println(nthreads())\n",
    "@btime spaceindex((V,EV))"
   ]
  },
  {
   "cell_type": "markdown",
   "metadata": {},
   "source": [
    "## 4) Refactoring del codice  \n",
    "  \n",
    "Nella funzione spaceindex risulta evidente come si facciano degli step uguali per \n",
    "l'assex, poi per l'assey, e poi per l'assez.  \n",
    "  \n",
    "Facendo un refactoring del codice è possibile ciclare sugli assi, applicando la macro \n",
    "@threads anche sulla costruzione degli insieme covers relativi ai singoli assi."
   ]
  },
  {
   "cell_type": "code",
   "execution_count": 33,
   "metadata": {},
   "outputs": [
    {
     "name": "stdout",
     "output_type": "stream",
     "text": [
      "Numero di threads allocati :2\n",
      "  683.780 μs (10596 allocations: 563.72 KiB)\n"
     ]
    },
    {
     "data": {
      "text/plain": [
       "60-element Array{Array{Int64,1},1}:\n",
       " []\n",
       " []\n",
       " []\n",
       " []\n",
       " []\n",
       " []\n",
       " []\n",
       " []\n",
       " []\n",
       " []\n",
       " []\n",
       " []\n",
       " []\n",
       " ⋮\n",
       " []\n",
       " []\n",
       " []\n",
       " []\n",
       " []\n",
       " []\n",
       " []\n",
       " []\n",
       " []\n",
       " []\n",
       " []\n",
       " []"
      ]
     },
     "execution_count": 33,
     "metadata": {},
     "output_type": "execute_result"
    }
   ],
   "source": [
    "using Base.Threads\n",
    "\n",
    "function spaceindex(model::Lar.LAR)::Array{Array{Int,1},1}\n",
    "    V,CV = model[1:2]\n",
    "    # se il modello è in 3d o 2d (guardo le righe di V, in 3d V è una 3xN, in 2d V è una 2xN)\n",
    "    dim = size(V,1)\n",
    "    #PARALLELIZZO LA CREAZIONE DEI CELLPOINTS\n",
    "    n=length(CV)\n",
    "    cellpoints = Array{Array{Float64,2}}(undef,n)\n",
    "    @inbounds @threads for k=1:n\n",
    "        cellpoints[k] = V[:,CV[k]]::Lar.Points\n",
    "    end\n",
    "    #PARALLELIZZO LA CREAZIONE DEI BOUNDING BOXES\n",
    "    bboxes = Array{Array{Float64,2}}(undef,n)\n",
    "    @inbounds @threads for k=1:n\n",
    "        bboxes[k] = hcat(boundingbox(cellpoints[k])...)\n",
    "    end\n",
    "    coverXYZ= Array{Array{Array{Int64,1},1}}(undef,dim)\n",
    "    #Per ogni asse x=1, y=2, z=3.....\n",
    "    @threads for i=1:dim\n",
    "        boxdict = coordintervals(i,bboxes)\n",
    "        #Creo interval tree sull'asse i\n",
    "        intTree = IntervalTrees.IntervalMap{Float64, Array}()\n",
    "        @inbounds for (key,boxset) in boxdict\n",
    "            intTree[tuple(key...)] = boxset\n",
    "        end\n",
    "        coverXYZ[i] = boxcovering(bboxes, i, intTree)     \n",
    "    end\n",
    "    spaceindex = Array{Array{Any,1}}(undef,length(bboxes))\n",
    "    @inbounds @threads for i=1:n\n",
    "        spaceindex[i] = intersect((coverXYZ[1][i],coverXYZ[2][i])...)\n",
    "    end\n",
    "    if(dim==3)\n",
    "        @inbounds @threads for i=1:n\n",
    "             spaceindex[i] = intersect((spaceindex[i],coverXYZ[3][i])...)\n",
    "        end\n",
    "    end\n",
    "    @inbounds @simd for k=1:length(spaceindex)\n",
    "        spaceindex[k] = setdiff(spaceindex[k],[k])\n",
    "    end\n",
    "    return spaceindex\n",
    "end\n",
    "\n",
    "print(\"Numero di threads allocati :\")\n",
    "println(nthreads())\n",
    "@btime spaceindex((V,EV))"
   ]
  },
  {
   "cell_type": "markdown",
   "metadata": {},
   "source": [
    "## Risultato finale, parallelizzando anche la funzione boundingbox (presente nelle dipendendeze di spaceindex)"
   ]
  },
  {
   "cell_type": "code",
   "execution_count": 35,
   "metadata": {},
   "outputs": [
    {
     "name": "stdout",
     "output_type": "stream",
     "text": [
      "  228.587 μs (5316 allocations: 311.53 KiB)\n"
     ]
    },
    {
     "data": {
      "text/plain": [
       "60-element Array{Array{Int64,1},1}:\n",
       " []\n",
       " []\n",
       " []\n",
       " []\n",
       " []\n",
       " []\n",
       " []\n",
       " []\n",
       " []\n",
       " []\n",
       " []\n",
       " []\n",
       " []\n",
       " ⋮\n",
       " []\n",
       " []\n",
       " []\n",
       " []\n",
       " []\n",
       " []\n",
       " []\n",
       " []\n",
       " []\n",
       " []\n",
       " []\n",
       " []"
      ]
     },
     "execution_count": 35,
     "metadata": {},
     "output_type": "execute_result"
    }
   ],
   "source": [
    "function boundingbox(vertices::Lar.Points)\n",
    "       d=size(vertices)[1]\n",
    "       numPoints=size(vertices)[2]\n",
    "       mins::Array{Float64,1}=[]\n",
    "       maxs::Array{Float64,1}=[]\n",
    "       @threads for axis=1:d\n",
    "               row = vertices[d,:]\n",
    "               min=vertices[d]\n",
    "               max=vertices[d]\n",
    "               @threads for points=2:numPoints\n",
    "                       if(row[points]<min)\n",
    "                               min = row[points]\n",
    "                       end\n",
    "                       if(row[points]>max)\n",
    "                               max = row[points]\n",
    "                       end\n",
    "               end\n",
    "               push!(mins,min)\n",
    "               push!(maxs,max)\n",
    "       end\n",
    "  return mins, maxs\n",
    "end\n",
    "@btime spaceindex((V,EV))"
   ]
  },
  {
   "cell_type": "code",
   "execution_count": null,
   "metadata": {},
   "outputs": [],
   "source": []
  }
 ],
 "metadata": {
  "kernelspec": {
   "display_name": "Julia 1.5.2",
   "language": "julia",
   "name": "julia-1.5"
  },
  "language_info": {
   "file_extension": ".jl",
   "mimetype": "application/julia",
   "name": "julia",
   "version": "1.5.2"
  }
 },
 "nbformat": 4,
 "nbformat_minor": 2
}
