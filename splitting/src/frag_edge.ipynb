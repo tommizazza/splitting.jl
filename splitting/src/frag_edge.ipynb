{
 "cells": [
  {
   "cell_type": "code",
   "execution_count": 9,
   "metadata": {},
   "outputs": [],
   "source": [
    "using LinearAlgebraicRepresentation\n",
    "Lar = LinearAlgebraicRepresentation\n",
    "using IntervalTrees\n",
    "using SparseArrays\n",
    "using NearestNeighbors\n",
    "using DataStructures\n",
    "using OrderedCollections\n",
    "using BenchmarkTools\n",
    "using Base.Threads\n",
    "using LinearAlgebra"
   ]
  },
  {
   "cell_type": "markdown",
   "metadata": {},
   "source": [
    "## Funzione da ottimizzare"
   ]
  },
  {
   "cell_type": "code",
   "execution_count": 10,
   "metadata": {},
   "outputs": [
    {
     "data": {
      "text/plain": [
       "frag_edge (generic function with 1 method)"
      ]
     },
     "execution_count": 10,
     "metadata": {},
     "output_type": "execute_result"
    }
   ],
   "source": [
    "function frag_edge(V, EV::Lar.ChainOp, edge_idx::Int, bigPI)\n",
    "    alphas = Dict{Float64, Int}()\n",
    "    edge = EV[edge_idx, :]\n",
    "    verts = V[edge.nzind, :]\n",
    "    for i in bigPI[edge_idx]\n",
    "        if i != edge_idx\n",
    "            intersection = intersect_edges(V, edge, EV[i, :])\n",
    "            for (point, alpha) in intersection\n",
    "                verts = [verts; point]\n",
    "                alphas[alpha] = size(verts, 1)\n",
    "            end\n",
    "        end\n",
    "    end\n",
    "    alphas[0.0], alphas[1.0] = [1, 2]\n",
    "    alphas_keys = sort(collect(keys(alphas)))\n",
    "    edge_num = length(alphas_keys)-1\n",
    "    verts_num = size(verts, 1)\n",
    "    ev = SparseArrays.spzeros(Int8, edge_num, verts_num)\n",
    "    for i in 1:edge_num\n",
    "        ev[i, alphas[alphas_keys[i]]] = 1\n",
    "        ev[i, alphas[alphas_keys[i+1]]] = 1\n",
    "    end\n",
    "    return verts, ev\n",
    "end"
   ]
  },
  {
   "cell_type": "markdown",
   "metadata": {},
   "source": [
    "## Dipendenze della funzione"
   ]
  },
  {
   "cell_type": "code",
   "execution_count": 11,
   "metadata": {},
   "outputs": [
    {
     "data": {
      "text/plain": [
       "intersect_edges (generic function with 1 method)"
      ]
     },
     "execution_count": 11,
     "metadata": {},
     "output_type": "execute_result"
    }
   ],
   "source": [
    "function intersect_edges(V::Lar.Points, edge1::Lar.Cell, edge2::Lar.Cell)\n",
    "    err = 10e-8\n",
    "\n",
    "    x1, y1, x2, y2 = vcat(map(c->V[c, :], edge1.nzind)...)\n",
    "    x3, y3, x4, y4 = vcat(map(c->V[c, :], edge2.nzind)...)\n",
    "    ret = Array{Tuple{Lar.Points, Float64}, 1}()\n",
    "\n",
    "    v1 = [x2-x1, y2-y1];\n",
    "    v2 = [x4-x3, y4-y3];\n",
    "    v3 = [x3-x1, y3-y1];\n",
    "    ang1 = dot(normalize(v1), normalize(v2))\n",
    "    ang2 = dot(normalize(v1), normalize(v3))\n",
    "    parallel = 1-err < abs(ang1) < 1+err\n",
    "    colinear = parallel && (1-err < abs(ang2) < 1+err || -err < norm(v3) < err)\n",
    "    if colinear\n",
    "        o = [x1 y1]\n",
    "        v = [x2 y2] - o\n",
    "        alpha = 1/dot(v,v')\n",
    "        ps = [x3 y3; x4 y4]\n",
    "        for i in 1:2\n",
    "            a = alpha*dot(v',(reshape(ps[i, :], 1, 2)-o))\n",
    "            if 0 < a < 1\n",
    "                push!(ret, (ps[i:i, :], a))\n",
    "            end\n",
    "        end\n",
    "    elseif !parallel\n",
    "        denom = (v2[2])*(v1[1]) - (v2[1])*(v1[2])\n",
    "        a = ((v2[1])*(-v3[2]) - (v2[2])*(-v3[1])) / denom\n",
    "        b = ((v1[1])*(-v3[2]) - (v1[2])*(-v3[1])) / denom\n",
    "\n",
    "        if -err < a < 1+err && -err <= b <= 1+err\n",
    "            p = [(x1 + a*(x2-x1))  (y1 + a*(y2-y1))]\n",
    "            push!(ret, (p, a))\n",
    "        end\n",
    "    end\n",
    "    return ret\n",
    "end"
   ]
  },
  {
   "cell_type": "markdown",
   "metadata": {},
   "source": [
    "## Dati di input"
   ]
  },
  {
   "cell_type": "code",
   "execution_count": 12,
   "metadata": {},
   "outputs": [
    {
     "data": {
      "text/plain": [
       "244-element Array{Array{Int64,1},1}:\n",
       " [2, 6, 5, 10, 11, 14, 15, 18, 19, 22  …  230, 231, 234, 235, 238, 239, 242, 243, 4, 7]\n",
       " [6, 1, 3, 5, 8]\n",
       " [2, 6, 8, 4, 7]\n",
       " [1, 3, 5, 8, 7]\n",
       " [2, 6, 1, 10, 11, 14, 15, 18, 19, 22  …  230, 231, 234, 235, 238, 239, 242, 243, 4, 7]\n",
       " [2, 1, 3, 5, 8]\n",
       " [1, 3, 5, 8, 4]\n",
       " [2, 6, 3, 4, 7]\n",
       " [10, 11]\n",
       " [1, 5, 9, 12]\n",
       " [1, 5, 9, 12]\n",
       " [10, 11]\n",
       " [14, 15]\n",
       " ⋮\n",
       " [234, 235]\n",
       " [1, 5, 233, 236]\n",
       " [1, 5, 233, 236]\n",
       " [234, 235]\n",
       " [238, 239]\n",
       " [1, 5, 237, 240]\n",
       " [1, 5, 237, 240]\n",
       " [238, 239]\n",
       " [242, 243]\n",
       " [1, 5, 241, 244]\n",
       " [1, 5, 241, 244]\n",
       " [242, 243]"
      ]
     },
     "execution_count": 12,
     "metadata": {},
     "output_type": "execute_result"
    }
   ],
   "source": [
    "b=[[2.0, 250.0, 2.0, 250.0],[2.0, 2.0, 0.0, 0.0]]\n",
    "EV=[[1,2],[1,3],[3,4],[2,4]]\n",
    "\n",
    "for i=1:60\n",
    "           push!(b[1],(1.0 + i*4.0))\n",
    "           push!(b[2],(1.0))\n",
    "           push!(b[1],(4.0 + i*4.0))\n",
    "           push!(b[2],(1.0))\n",
    "           push!(b[1],(1.0 + i*4.0))\n",
    "           push!(b[2],(4.0))\n",
    "           push!(b[1],(4.0 + i*4.0))\n",
    "           push!(b[2],(4.0))\n",
    "           \n",
    "           push!(EV,[1+4*(i-1),2+4*(i-1)])\n",
    "           push!(EV,[1+4*(i-1),3+4*(i-1)])\n",
    "           push!(EV,[2+4*(i-1),4+4*(i-1)])\n",
    "           push!(EV,[3+4*(i-1),4+4*(i-1)])\n",
    "end\n",
    "\n",
    "V = permutedims(reshape(hcat(b...), (length(b[1]), length(b))))\n",
    "filter!(e->e!=[1,1],EV)\n",
    "\n",
    "W = convert(Lar.Points, V')\n",
    "cop_EV = Lar.coboundary_0(EV::Lar.Cells)\n",
    "cop_EW = convert(Lar.ChainOp, cop_EV)\n",
    "bigPI = Lar.spaceindex((V, EV))"
   ]
  },
  {
   "cell_type": "markdown",
   "metadata": {},
   "source": [
    "## Benchmark vecchia funzione"
   ]
  },
  {
   "cell_type": "code",
   "execution_count": 13,
   "metadata": {},
   "outputs": [
    {
     "name": "stdout",
     "output_type": "stream",
     "text": [
      "  2.808 ms (10227 allocations: 522.28 KiB)\n"
     ]
    },
    {
     "data": {
      "text/plain": [
       "([2.0 2.0; 250.0 2.0; … ; 250.0 2.0; 250.0 2.0], \n",
       "  [1  ,   1]  =  1\n",
       "  [119,   2]  =  1\n",
       "  [1  ,   5]  =  1\n",
       "  [2  ,   5]  =  1\n",
       "  [2  ,   6]  =  1\n",
       "  [3  ,   6]  =  1\n",
       "  [3  ,   7]  =  1\n",
       "  [4  ,   7]  =  1\n",
       "  [4  ,   8]  =  1\n",
       "  [5  ,   8]  =  1\n",
       "  [5  ,   9]  =  1\n",
       "  [6  ,   9]  =  1\n",
       "  ⋮\n",
       "  [113, 116]  =  1\n",
       "  [113, 117]  =  1\n",
       "  [114, 117]  =  1\n",
       "  [114, 118]  =  1\n",
       "  [115, 118]  =  1\n",
       "  [115, 119]  =  1\n",
       "  [116, 119]  =  1\n",
       "  [116, 120]  =  1\n",
       "  [117, 120]  =  1\n",
       "  [117, 121]  =  1\n",
       "  [118, 121]  =  1\n",
       "  [118, 122]  =  1\n",
       "  [119, 122]  =  1)"
      ]
     },
     "execution_count": 13,
     "metadata": {},
     "output_type": "execute_result"
    }
   ],
   "source": [
    "@btime frag_edge(W, cop_EV, 1, bigPI)"
   ]
  },
  {
   "cell_type": "markdown",
   "metadata": {},
   "source": [
    "## Controllo se la funzione è type unstable"
   ]
  },
  {
   "cell_type": "code",
   "execution_count": 14,
   "metadata": {},
   "outputs": [
    {
     "name": "stdout",
     "output_type": "stream",
     "text": [
      "Variables\n",
      "  #self#\u001b[36m::Core.Compiler.Const(frag_edge, false)\u001b[39m\n",
      "  V\u001b[36m::Array{Float64,2}\u001b[39m\n",
      "  EV\u001b[36m::SparseMatrixCSC{Int8,Int64}\u001b[39m\n",
      "  edge_idx\u001b[36m::Int64\u001b[39m\n",
      "  bigPI\u001b[36m::Array{Array{Int64,1},1}\u001b[39m\n",
      "  @_6\u001b[36m::Int64\u001b[39m\n",
      "  alphas\u001b[36m::Dict{Float64,Int64}\u001b[39m\n",
      "  edge\u001b[36m::SparseVector{Int8,Int64}\u001b[39m\n",
      "  verts\u001b[91m\u001b[1m::Any\u001b[22m\u001b[39m\n",
      "  @_10\u001b[33m\u001b[1m::Union{Nothing, Tuple{Int64,Int64}}\u001b[22m\u001b[39m\n",
      "  alphas_keys\u001b[36m::Array{Float64,1}\u001b[39m\n",
      "  edge_num\u001b[36m::Int64\u001b[39m\n",
      "  verts_num\u001b[91m\u001b[1m::Any\u001b[22m\u001b[39m\n",
      "  ev\u001b[36m::SparseMatrixCSC{Int8,Int64}\u001b[39m\n",
      "  @_15\u001b[33m\u001b[1m::Union{Nothing, Tuple{Int64,Int64}}\u001b[22m\u001b[39m\n",
      "  i@_16\u001b[36m::Int64\u001b[39m\n",
      "  intersection\u001b[91m\u001b[1m::Array{_A,1} where _A\u001b[22m\u001b[39m\n",
      "  @_18\u001b[33m\u001b[1m::Union{Nothing, Tuple{Any,Int64}}\u001b[22m\u001b[39m\n",
      "  point\u001b[91m\u001b[1m::Any\u001b[22m\u001b[39m\n",
      "  alpha\u001b[91m\u001b[1m::Any\u001b[22m\u001b[39m\n",
      "  @_21\u001b[91m\u001b[1m::Any\u001b[22m\u001b[39m\n",
      "  i@_22\u001b[36m::Int64\u001b[39m\n",
      "\n",
      "Body\u001b[91m\u001b[1m::Tuple{Any,SparseMatrixCSC{Int8,Int64}}\u001b[22m\u001b[39m\n",
      "\u001b[90m1 ──\u001b[39m       Core.NewvarNode(:(@_6))\n",
      "\u001b[90m│   \u001b[39m       Core.NewvarNode(:(alphas_keys))\n",
      "\u001b[90m│   \u001b[39m       Core.NewvarNode(:(edge_num))\n",
      "\u001b[90m│   \u001b[39m       Core.NewvarNode(:(verts_num))\n",
      "\u001b[90m│   \u001b[39m       Core.NewvarNode(:(ev))\n",
      "\u001b[90m│   \u001b[39m       Core.NewvarNode(:(@_15))\n",
      "\u001b[90m│   \u001b[39m %7  = Core.apply_type(Main.Dict, Main.Float64, Main.Int)\u001b[36m::Core.Compiler.Const(Dict{Float64,Int64}, false)\u001b[39m\n",
      "\u001b[90m│   \u001b[39m       (alphas = (%7)())\n",
      "\u001b[90m│   \u001b[39m       (edge = Base.getindex(EV, edge_idx, Main.:(:)))\n",
      "\u001b[90m│   \u001b[39m %10 = Base.getproperty(edge, :nzind)\u001b[36m::Array{Int64,1}\u001b[39m\n",
      "\u001b[90m│   \u001b[39m       (verts = Base.getindex(V, %10, Main.:(:)))\n",
      "\u001b[90m│   \u001b[39m %12 = Base.getindex(bigPI, edge_idx)\u001b[36m::Array{Int64,1}\u001b[39m\n",
      "\u001b[90m│   \u001b[39m       (@_10 = Base.iterate(%12))\n",
      "\u001b[90m│   \u001b[39m %14 = (@_10 === nothing)\u001b[36m::Bool\u001b[39m\n",
      "\u001b[90m│   \u001b[39m %15 = Base.not_int(%14)\u001b[36m::Bool\u001b[39m\n",
      "\u001b[90m└───\u001b[39m       goto #8 if not %15\n",
      "\u001b[90m2 ┄─\u001b[39m       Core.NewvarNode(:(intersection))\n",
      "\u001b[90m│   \u001b[39m       Core.NewvarNode(:(@_18))\n",
      "\u001b[90m│   \u001b[39m %19 = @_10::Tuple{Int64,Int64}\u001b[36m::Tuple{Int64,Int64}\u001b[39m\n",
      "\u001b[90m│   \u001b[39m       (i@_16 = Core.getfield(%19, 1))\n",
      "\u001b[90m│   \u001b[39m %21 = Core.getfield(%19, 2)\u001b[36m::Int64\u001b[39m\n",
      "\u001b[90m│   \u001b[39m %22 = (i@_16 != edge_idx)\u001b[36m::Bool\u001b[39m\n",
      "\u001b[90m└───\u001b[39m       goto #6 if not %22\n",
      "\u001b[90m3 ──\u001b[39m %24 = edge\u001b[36m::SparseVector{Int8,Int64}\u001b[39m\n",
      "\u001b[90m│   \u001b[39m %25 = Base.getindex(EV, i@_16, Main.:(:))\u001b[36m::SparseVector{Int8,Int64}\u001b[39m\n",
      "\u001b[90m│   \u001b[39m       (intersection = Main.intersect_edges(V, %24, %25))\n",
      "\u001b[90m│   \u001b[39m %27 = intersection\u001b[91m\u001b[1m::Array{_A,1} where _A\u001b[22m\u001b[39m\n",
      "\u001b[90m│   \u001b[39m       (@_18 = Base.iterate(%27))\n",
      "\u001b[90m│   \u001b[39m %29 = (@_18 === nothing)\u001b[36m::Bool\u001b[39m\n",
      "\u001b[90m│   \u001b[39m %30 = Base.not_int(%29)\u001b[36m::Bool\u001b[39m\n",
      "\u001b[90m└───\u001b[39m       goto #6 if not %30\n",
      "\u001b[90m4 ┄─\u001b[39m %32 = @_18::Tuple{Any,Int64}\u001b[91m\u001b[1m::Tuple{Any,Int64}\u001b[22m\u001b[39m\n",
      "\u001b[90m│   \u001b[39m %33 = Core.getfield(%32, 1)\u001b[91m\u001b[1m::Any\u001b[22m\u001b[39m\n",
      "\u001b[90m│   \u001b[39m %34 = Base.indexed_iterate(%33, 1)\u001b[91m\u001b[1m::Any\u001b[22m\u001b[39m\n",
      "\u001b[90m│   \u001b[39m       (point = Core.getfield(%34, 1))\n",
      "\u001b[90m│   \u001b[39m       (@_21 = Core.getfield(%34, 2))\n",
      "\u001b[90m│   \u001b[39m %37 = Base.indexed_iterate(%33, 2, @_21)\u001b[91m\u001b[1m::Any\u001b[22m\u001b[39m\n",
      "\u001b[90m│   \u001b[39m       (alpha = Core.getfield(%37, 1))\n",
      "\u001b[90m│   \u001b[39m %39 = Core.getfield(%32, 2)\u001b[36m::Int64\u001b[39m\n",
      "\u001b[90m│   \u001b[39m       (verts = Base.vcat(verts, point))\n",
      "\u001b[90m│   \u001b[39m %41 = Main.size(verts, 1)\u001b[91m\u001b[1m::Any\u001b[22m\u001b[39m\n",
      "\u001b[90m│   \u001b[39m       Base.setindex!(alphas, %41, alpha)\n",
      "\u001b[90m│   \u001b[39m       (@_18 = Base.iterate(%27, %39))\n",
      "\u001b[90m│   \u001b[39m %44 = (@_18 === nothing)\u001b[36m::Bool\u001b[39m\n",
      "\u001b[90m│   \u001b[39m %45 = Base.not_int(%44)\u001b[36m::Bool\u001b[39m\n",
      "\u001b[90m└───\u001b[39m       goto #6 if not %45\n",
      "\u001b[90m5 ──\u001b[39m       goto #4\n",
      "\u001b[90m6 ┄─\u001b[39m       (@_10 = Base.iterate(%12, %21))\n",
      "\u001b[90m│   \u001b[39m %49 = (@_10 === nothing)\u001b[36m::Bool\u001b[39m\n",
      "\u001b[90m│   \u001b[39m %50 = Base.not_int(%49)\u001b[36m::Bool\u001b[39m\n",
      "\u001b[90m└───\u001b[39m       goto #8 if not %50\n",
      "\u001b[90m7 ──\u001b[39m       goto #2\n",
      "\u001b[90m8 ┄─\u001b[39m %53 = Base.vect(1, 2)\u001b[36m::Array{Int64,1}\u001b[39m\n",
      "\u001b[90m│   \u001b[39m %54 = Base.indexed_iterate(%53, 1)\u001b[36m::Core.Compiler.PartialStruct(Tuple{Int64,Int64}, Any[Int64, Core.Compiler.Const(2, false)])\u001b[39m\n",
      "\u001b[90m│   \u001b[39m %55 = Core.getfield(%54, 1)\u001b[36m::Int64\u001b[39m\n",
      "\u001b[90m│   \u001b[39m       Base.setindex!(alphas, %55, 0.0)\n",
      "\u001b[90m│   \u001b[39m       (@_6 = Core.getfield(%54, 2))\n",
      "\u001b[90m│   \u001b[39m %58 = Base.indexed_iterate(%53, 2, @_6::Core.Compiler.Const(2, false))\u001b[36m::Core.Compiler.PartialStruct(Tuple{Int64,Int64}, Any[Int64, Core.Compiler.Const(3, false)])\u001b[39m\n",
      "\u001b[90m│   \u001b[39m %59 = Core.getfield(%58, 1)\u001b[36m::Int64\u001b[39m\n",
      "\u001b[90m│   \u001b[39m       Base.setindex!(alphas, %59, 1.0)\n",
      "\u001b[90m│   \u001b[39m %61 = Main.keys(alphas)\u001b[36m::Base.KeySet{Float64,Dict{Float64,Int64}}\u001b[39m\n",
      "\u001b[90m│   \u001b[39m %62 = Main.collect(%61)\u001b[36m::Array{Float64,1}\u001b[39m\n",
      "\u001b[90m│   \u001b[39m       (alphas_keys = Main.sort(%62))\n",
      "\u001b[90m│   \u001b[39m %64 = Main.length(alphas_keys)\u001b[36m::Int64\u001b[39m\n",
      "\u001b[90m│   \u001b[39m       (edge_num = %64 - 1)\n",
      "\u001b[90m│   \u001b[39m       (verts_num = Main.size(verts, 1))\n",
      "\u001b[90m│   \u001b[39m %67 = SparseArrays.spzeros\u001b[36m::Core.Compiler.Const(SparseArrays.spzeros, false)\u001b[39m\n",
      "\u001b[90m│   \u001b[39m %68 = edge_num\u001b[36m::Int64\u001b[39m\n",
      "\u001b[90m│   \u001b[39m       (ev = (%67)(Main.Int8, %68, verts_num))\n",
      "\u001b[90m│   \u001b[39m %70 = (1:edge_num)\u001b[36m::Core.Compiler.PartialStruct(UnitRange{Int64}, Any[Core.Compiler.Const(1, false), Int64])\u001b[39m\n",
      "\u001b[90m│   \u001b[39m       (@_15 = Base.iterate(%70))\n",
      "\u001b[90m│   \u001b[39m %72 = (@_15 === nothing)\u001b[36m::Bool\u001b[39m\n",
      "\u001b[90m│   \u001b[39m %73 = Base.not_int(%72)\u001b[36m::Bool\u001b[39m\n",
      "\u001b[90m└───\u001b[39m       goto #11 if not %73\n",
      "\u001b[90m9 ┄─\u001b[39m %75 = @_15::Tuple{Int64,Int64}\u001b[36m::Tuple{Int64,Int64}\u001b[39m\n",
      "\u001b[90m│   \u001b[39m       (i@_22 = Core.getfield(%75, 1))\n",
      "\u001b[90m│   \u001b[39m %77 = Core.getfield(%75, 2)\u001b[36m::Int64\u001b[39m\n",
      "\u001b[90m│   \u001b[39m %78 = ev\u001b[36m::SparseMatrixCSC{Int8,Int64}\u001b[39m\n",
      "\u001b[90m│   \u001b[39m %79 = i@_22\u001b[36m::Int64\u001b[39m\n",
      "\u001b[90m│   \u001b[39m %80 = alphas\u001b[36m::Dict{Float64,Int64}\u001b[39m\n",
      "\u001b[90m│   \u001b[39m %81 = Base.getindex(alphas_keys, i@_22)\u001b[36m::Float64\u001b[39m\n",
      "\u001b[90m│   \u001b[39m %82 = Base.getindex(%80, %81)\u001b[36m::Int64\u001b[39m\n",
      "\u001b[90m│   \u001b[39m       Base.setindex!(%78, 1, %79, %82)\n",
      "\u001b[90m│   \u001b[39m %84 = ev\u001b[36m::SparseMatrixCSC{Int8,Int64}\u001b[39m\n",
      "\u001b[90m│   \u001b[39m %85 = i@_22\u001b[36m::Int64\u001b[39m\n",
      "\u001b[90m│   \u001b[39m %86 = alphas\u001b[36m::Dict{Float64,Int64}\u001b[39m\n",
      "\u001b[90m│   \u001b[39m %87 = alphas_keys\u001b[36m::Array{Float64,1}\u001b[39m\n",
      "\u001b[90m│   \u001b[39m %88 = (i@_22 + 1)\u001b[36m::Int64\u001b[39m\n",
      "\u001b[90m│   \u001b[39m %89 = Base.getindex(%87, %88)\u001b[36m::Float64\u001b[39m\n",
      "\u001b[90m│   \u001b[39m %90 = Base.getindex(%86, %89)\u001b[36m::Int64\u001b[39m\n",
      "\u001b[90m│   \u001b[39m       Base.setindex!(%84, 1, %85, %90)\n",
      "\u001b[90m│   \u001b[39m       (@_15 = Base.iterate(%70, %77))\n",
      "\u001b[90m│   \u001b[39m %93 = (@_15 === nothing)\u001b[36m::Bool\u001b[39m\n",
      "\u001b[90m│   \u001b[39m %94 = Base.not_int(%93)\u001b[36m::Bool\u001b[39m\n",
      "\u001b[90m└───\u001b[39m       goto #11 if not %94\n",
      "\u001b[90m10 ─\u001b[39m       goto #9\n",
      "\u001b[90m11 ┄\u001b[39m %97 = Core.tuple(verts, ev)\u001b[91m\u001b[1m::Tuple{Any,SparseMatrixCSC{Int8,Int64}}\u001b[22m\u001b[39m\n",
      "\u001b[90m└───\u001b[39m       return %97\n"
     ]
    }
   ],
   "source": [
    "@code_warntype frag_edge(W, cop_EV, 1, bigPI)"
   ]
  },
  {
   "cell_type": "markdown",
   "metadata": {},
   "source": [
    "La funzione è type stable in quanto ritorna la stringa:  \n",
    "    \n",
    "    Body::Tuple{Any,SparseMatrixCSC{Int8,Int64}}\n"
   ]
  },
  {
   "cell_type": "markdown",
   "metadata": {},
   "source": [
    "## Parallelizzazione cicli con i threads\n",
    "\n",
    "Per riuscire a parallelizzare questa funzione è stato fatto un refactoring massiccio del codice. La costruzione dei vertici adesso è affidata a threads che singolarmente calcolano una parte dell'insieme che poi successivamente sara fuso con gli altri. La costruzione di ev invece, dipendendo da un dizionario, è stata più difficile in quanto l'etichettatura dei nodi dipendeva dall'iterazione sull'indice spaziale. Siccome le iterazioni sono splittate tra thread non si conosceva più il progressivo id del vertice.  \n",
    "  \n",
    "Aggiungendo una porzione di codice che etichetta i nodi iterando su gli alpha trovati ad ogni iterazione siamo riusciti a risolvere il problema migliorando le prestazioni."
   ]
  },
  {
   "cell_type": "code",
   "execution_count": 18,
   "metadata": {},
   "outputs": [
    {
     "name": "stdout",
     "output_type": "stream",
     "text": [
      "  1.527 ms (10610 allocations: 480.70 KiB)\n"
     ]
    },
    {
     "data": {
      "text/plain": [
       "([2.0 2.0; 250.0 2.0; … ; 250.0 2.0; 250.0 2.0], \n",
       "  [1  ,   1]  =  1\n",
       "  [119,   2]  =  1\n",
       "  [1  ,   5]  =  1\n",
       "  [2  ,   5]  =  1\n",
       "  [2  ,   6]  =  1\n",
       "  [3  ,   6]  =  1\n",
       "  [3  ,   7]  =  1\n",
       "  [4  ,   7]  =  1\n",
       "  [4  ,   8]  =  1\n",
       "  [5  ,   8]  =  1\n",
       "  [5  ,   9]  =  1\n",
       "  [6  ,   9]  =  1\n",
       "  ⋮\n",
       "  [113, 116]  =  1\n",
       "  [113, 117]  =  1\n",
       "  [114, 117]  =  1\n",
       "  [114, 118]  =  1\n",
       "  [115, 118]  =  1\n",
       "  [115, 119]  =  1\n",
       "  [116, 119]  =  1\n",
       "  [116, 120]  =  1\n",
       "  [117, 120]  =  1\n",
       "  [117, 121]  =  1\n",
       "  [118, 121]  =  1\n",
       "  [118, 122]  =  1\n",
       "  [119, 122]  =  1)"
      ]
     },
     "execution_count": 18,
     "metadata": {},
     "output_type": "execute_result"
    }
   ],
   "source": [
    "function frag_edge2(V, EV::Lar.ChainOp, edge_idx::Int, bigPI)\n",
    "    #Thread safety data structures    \n",
    "    nth = nthreads()\n",
    "    lbp = length(bigPI[edge_idx])\n",
    "    alphaT=Array{Array{Float64}}(undef, lbp)\n",
    "    vertsT = Array{Array{Float64,2}}(undef, nth)\n",
    "    for i=1:nth\n",
    "         vertsT[i] = Array{Float64,2}(undef,0,2)\n",
    "    end\n",
    "    edge = EV[edge_idx, :]\n",
    "    @threads for it=1:lbp\n",
    "        alphaT[it] = Array{Float64}(undef,0)\n",
    "        tid = threadid() #Thread associato all'iterazione corrente it\n",
    "        i=bigPI[edge_idx][it] #Edge da intersecare\n",
    "        if i != edge_idx\n",
    "            intersection = intersect_edges(V, edge, EV[i, :])\n",
    "            for (point, alpha) in intersection\n",
    "                vertsT[tid] = [vertsT[tid]; point]\n",
    "                push!(alphaT[it],alpha) \n",
    "            end\n",
    "        end\n",
    "    end\n",
    "    #Inizializzo strutture da ritornare\n",
    "    verts = V[edge.nzind, :]\n",
    "    for i=1:nth\n",
    "        verts = [verts; vertsT[i]]\n",
    "    end\n",
    "    alphas = Dict{Float64, Int}()\n",
    "    n=3\n",
    "    for it=1:length(alphaT)\n",
    "        for alpha in alphaT[it]\n",
    "            alphas[alpha] = n\n",
    "            n=n+1\n",
    "        end\n",
    "    end\n",
    "    alphas[0.0], alphas[1.0] = [1, 2]\n",
    "    alphas_keys = sort(collect(keys(alphas)))\n",
    "    edge_num = length(alphas_keys)-1\n",
    "    verts_num = size(verts, 1)\n",
    "    ev = SparseArrays.spzeros(Int8, edge_num, verts_num)\n",
    "    for i in 1:edge_num\n",
    "        ev[i, alphas[alphas_keys[i]]] = 1\n",
    "        ev[i, alphas[alphas_keys[i+1]]] = 1\n",
    "    end\n",
    "    return verts, ev\n",
    "end\n",
    "\n",
    "@btime frag_edge2(W, cop_EV, 1, bigPI)"
   ]
  }
 ],
 "metadata": {
  "kernelspec": {
   "display_name": "Julia 1.5.2",
   "language": "julia",
   "name": "julia-1.5"
  },
  "language_info": {
   "file_extension": ".jl",
   "mimetype": "application/julia",
   "name": "julia",
   "version": "1.5.2"
  }
 },
 "nbformat": 4,
 "nbformat_minor": 2
}
